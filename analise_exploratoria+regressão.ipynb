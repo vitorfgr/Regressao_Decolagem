{
 "cells": [
  {
   "cell_type": "markdown",
   "metadata": {},
   "source": [
    "## Biblioteca importadas"
   ]
  },
  {
   "cell_type": "code",
   "execution_count": 1,
   "metadata": {},
   "outputs": [],
   "source": [
    "import numpy as np  \n",
    "import pandas as pd \n",
    "import seaborn as sns\n",
    "from sklearn.datasets import load_iris\n",
    "from sklearn.linear_model import LinearRegression\n",
    "from sklearn.ensemble import RandomForestRegressor\n",
    "from sklearn.metrics import mean_squared_error\n",
    "from sklearn.model_selection import train_test_split\n",
    "from sklearn.metrics import r2_score\n",
    "import matplotlib.pyplot as plt\n"
   ]
  },
  {
   "cell_type": "markdown",
   "metadata": {},
   "source": [
    "## Leitura das bases de dados de cada aeroportos\n"
   ]
  },
  {
   "cell_type": "markdown",
   "metadata": {},
   "source": [
    "#### Frequencia de passageiros no aeroporto CWB"
   ]
  },
  {
   "cell_type": "code",
   "execution_count": 2,
   "metadata": {},
   "outputs": [
    {
     "ename": "FileNotFoundError",
     "evalue": "[Errno 2] No such file or directory: 'C:Passageiros pagos\\\\cwb_nac.xlsx'",
     "output_type": "error",
     "traceback": [
      "\u001b[1;31m---------------------------------------------------------------------------\u001b[0m",
      "\u001b[1;31mFileNotFoundError\u001b[0m                         Traceback (most recent call last)",
      "\u001b[1;32m<ipython-input-2-806339f125d8>\u001b[0m in \u001b[0;36m<module>\u001b[1;34m\u001b[0m\n\u001b[0;32m      1\u001b[0m \u001b[1;31m#nacional\u001b[0m\u001b[1;33m\u001b[0m\u001b[1;33m\u001b[0m\u001b[1;33m\u001b[0m\u001b[0m\n\u001b[0;32m      2\u001b[0m \u001b[0mfilename\u001b[0m \u001b[1;33m=\u001b[0m \u001b[1;34mr'C:Passageiros pagos\\cwb_nac.xlsx'\u001b[0m\u001b[1;33m\u001b[0m\u001b[1;33m\u001b[0m\u001b[0m\n\u001b[1;32m----> 3\u001b[1;33m \u001b[0mcwb_nac\u001b[0m \u001b[1;33m=\u001b[0m \u001b[0mpd\u001b[0m\u001b[1;33m.\u001b[0m\u001b[0mread_excel\u001b[0m\u001b[1;33m(\u001b[0m\u001b[0mfilename\u001b[0m\u001b[1;33m)\u001b[0m\u001b[1;33m.\u001b[0m\u001b[0mdrop\u001b[0m\u001b[1;33m(\u001b[0m\u001b[1;33m[\u001b[0m\u001b[1;34m\"Unnamed: 0\"\u001b[0m\u001b[1;33m]\u001b[0m\u001b[1;33m,\u001b[0m\u001b[0maxis\u001b[0m\u001b[1;33m=\u001b[0m\u001b[1;36m1\u001b[0m\u001b[1;33m)\u001b[0m\u001b[1;33m\u001b[0m\u001b[1;33m\u001b[0m\u001b[0m\n\u001b[0m\u001b[0;32m      4\u001b[0m \u001b[1;33m\u001b[0m\u001b[0m\n\u001b[0;32m      5\u001b[0m \u001b[1;31m#internacional\u001b[0m\u001b[1;33m\u001b[0m\u001b[1;33m\u001b[0m\u001b[1;33m\u001b[0m\u001b[0m\n",
      "\u001b[1;32m~\\AppData\\Local\\Continuum\\anaconda3\\lib\\site-packages\\pandas\\util\\_decorators.py\u001b[0m in \u001b[0;36mwrapper\u001b[1;34m(*args, **kwargs)\u001b[0m\n\u001b[0;32m    206\u001b[0m                 \u001b[1;32melse\u001b[0m\u001b[1;33m:\u001b[0m\u001b[1;33m\u001b[0m\u001b[1;33m\u001b[0m\u001b[0m\n\u001b[0;32m    207\u001b[0m                     \u001b[0mkwargs\u001b[0m\u001b[1;33m[\u001b[0m\u001b[0mnew_arg_name\u001b[0m\u001b[1;33m]\u001b[0m \u001b[1;33m=\u001b[0m \u001b[0mnew_arg_value\u001b[0m\u001b[1;33m\u001b[0m\u001b[1;33m\u001b[0m\u001b[0m\n\u001b[1;32m--> 208\u001b[1;33m             \u001b[1;32mreturn\u001b[0m \u001b[0mfunc\u001b[0m\u001b[1;33m(\u001b[0m\u001b[1;33m*\u001b[0m\u001b[0margs\u001b[0m\u001b[1;33m,\u001b[0m \u001b[1;33m**\u001b[0m\u001b[0mkwargs\u001b[0m\u001b[1;33m)\u001b[0m\u001b[1;33m\u001b[0m\u001b[1;33m\u001b[0m\u001b[0m\n\u001b[0m\u001b[0;32m    209\u001b[0m \u001b[1;33m\u001b[0m\u001b[0m\n\u001b[0;32m    210\u001b[0m         \u001b[1;32mreturn\u001b[0m \u001b[0mwrapper\u001b[0m\u001b[1;33m\u001b[0m\u001b[1;33m\u001b[0m\u001b[0m\n",
      "\u001b[1;32m~\\AppData\\Local\\Continuum\\anaconda3\\lib\\site-packages\\pandas\\io\\excel\\_base.py\u001b[0m in \u001b[0;36mread_excel\u001b[1;34m(io, sheet_name, header, names, index_col, usecols, squeeze, dtype, engine, converters, true_values, false_values, skiprows, nrows, na_values, keep_default_na, verbose, parse_dates, date_parser, thousands, comment, skip_footer, skipfooter, convert_float, mangle_dupe_cols, **kwds)\u001b[0m\n\u001b[0;32m    308\u001b[0m \u001b[1;33m\u001b[0m\u001b[0m\n\u001b[0;32m    309\u001b[0m     \u001b[1;32mif\u001b[0m \u001b[1;32mnot\u001b[0m \u001b[0misinstance\u001b[0m\u001b[1;33m(\u001b[0m\u001b[0mio\u001b[0m\u001b[1;33m,\u001b[0m \u001b[0mExcelFile\u001b[0m\u001b[1;33m)\u001b[0m\u001b[1;33m:\u001b[0m\u001b[1;33m\u001b[0m\u001b[1;33m\u001b[0m\u001b[0m\n\u001b[1;32m--> 310\u001b[1;33m         \u001b[0mio\u001b[0m \u001b[1;33m=\u001b[0m \u001b[0mExcelFile\u001b[0m\u001b[1;33m(\u001b[0m\u001b[0mio\u001b[0m\u001b[1;33m,\u001b[0m \u001b[0mengine\u001b[0m\u001b[1;33m=\u001b[0m\u001b[0mengine\u001b[0m\u001b[1;33m)\u001b[0m\u001b[1;33m\u001b[0m\u001b[1;33m\u001b[0m\u001b[0m\n\u001b[0m\u001b[0;32m    311\u001b[0m     \u001b[1;32melif\u001b[0m \u001b[0mengine\u001b[0m \u001b[1;32mand\u001b[0m \u001b[0mengine\u001b[0m \u001b[1;33m!=\u001b[0m \u001b[0mio\u001b[0m\u001b[1;33m.\u001b[0m\u001b[0mengine\u001b[0m\u001b[1;33m:\u001b[0m\u001b[1;33m\u001b[0m\u001b[1;33m\u001b[0m\u001b[0m\n\u001b[0;32m    312\u001b[0m         raise ValueError(\n",
      "\u001b[1;32m~\\AppData\\Local\\Continuum\\anaconda3\\lib\\site-packages\\pandas\\io\\excel\\_base.py\u001b[0m in \u001b[0;36m__init__\u001b[1;34m(self, io, engine)\u001b[0m\n\u001b[0;32m    817\u001b[0m         \u001b[0mself\u001b[0m\u001b[1;33m.\u001b[0m\u001b[0m_io\u001b[0m \u001b[1;33m=\u001b[0m \u001b[0m_stringify_path\u001b[0m\u001b[1;33m(\u001b[0m\u001b[0mio\u001b[0m\u001b[1;33m)\u001b[0m\u001b[1;33m\u001b[0m\u001b[1;33m\u001b[0m\u001b[0m\n\u001b[0;32m    818\u001b[0m \u001b[1;33m\u001b[0m\u001b[0m\n\u001b[1;32m--> 819\u001b[1;33m         \u001b[0mself\u001b[0m\u001b[1;33m.\u001b[0m\u001b[0m_reader\u001b[0m \u001b[1;33m=\u001b[0m \u001b[0mself\u001b[0m\u001b[1;33m.\u001b[0m\u001b[0m_engines\u001b[0m\u001b[1;33m[\u001b[0m\u001b[0mengine\u001b[0m\u001b[1;33m]\u001b[0m\u001b[1;33m(\u001b[0m\u001b[0mself\u001b[0m\u001b[1;33m.\u001b[0m\u001b[0m_io\u001b[0m\u001b[1;33m)\u001b[0m\u001b[1;33m\u001b[0m\u001b[1;33m\u001b[0m\u001b[0m\n\u001b[0m\u001b[0;32m    820\u001b[0m \u001b[1;33m\u001b[0m\u001b[0m\n\u001b[0;32m    821\u001b[0m     \u001b[1;32mdef\u001b[0m \u001b[0m__fspath__\u001b[0m\u001b[1;33m(\u001b[0m\u001b[0mself\u001b[0m\u001b[1;33m)\u001b[0m\u001b[1;33m:\u001b[0m\u001b[1;33m\u001b[0m\u001b[1;33m\u001b[0m\u001b[0m\n",
      "\u001b[1;32m~\\AppData\\Local\\Continuum\\anaconda3\\lib\\site-packages\\pandas\\io\\excel\\_xlrd.py\u001b[0m in \u001b[0;36m__init__\u001b[1;34m(self, filepath_or_buffer)\u001b[0m\n\u001b[0;32m     19\u001b[0m         \u001b[0merr_msg\u001b[0m \u001b[1;33m=\u001b[0m \u001b[1;34m\"Install xlrd >= 1.0.0 for Excel support\"\u001b[0m\u001b[1;33m\u001b[0m\u001b[1;33m\u001b[0m\u001b[0m\n\u001b[0;32m     20\u001b[0m         \u001b[0mimport_optional_dependency\u001b[0m\u001b[1;33m(\u001b[0m\u001b[1;34m\"xlrd\"\u001b[0m\u001b[1;33m,\u001b[0m \u001b[0mextra\u001b[0m\u001b[1;33m=\u001b[0m\u001b[0merr_msg\u001b[0m\u001b[1;33m)\u001b[0m\u001b[1;33m\u001b[0m\u001b[1;33m\u001b[0m\u001b[0m\n\u001b[1;32m---> 21\u001b[1;33m         \u001b[0msuper\u001b[0m\u001b[1;33m(\u001b[0m\u001b[1;33m)\u001b[0m\u001b[1;33m.\u001b[0m\u001b[0m__init__\u001b[0m\u001b[1;33m(\u001b[0m\u001b[0mfilepath_or_buffer\u001b[0m\u001b[1;33m)\u001b[0m\u001b[1;33m\u001b[0m\u001b[1;33m\u001b[0m\u001b[0m\n\u001b[0m\u001b[0;32m     22\u001b[0m \u001b[1;33m\u001b[0m\u001b[0m\n\u001b[0;32m     23\u001b[0m     \u001b[1;33m@\u001b[0m\u001b[0mproperty\u001b[0m\u001b[1;33m\u001b[0m\u001b[1;33m\u001b[0m\u001b[0m\n",
      "\u001b[1;32m~\\AppData\\Local\\Continuum\\anaconda3\\lib\\site-packages\\pandas\\io\\excel\\_base.py\u001b[0m in \u001b[0;36m__init__\u001b[1;34m(self, filepath_or_buffer)\u001b[0m\n\u001b[0;32m    357\u001b[0m             \u001b[0mself\u001b[0m\u001b[1;33m.\u001b[0m\u001b[0mbook\u001b[0m \u001b[1;33m=\u001b[0m \u001b[0mself\u001b[0m\u001b[1;33m.\u001b[0m\u001b[0mload_workbook\u001b[0m\u001b[1;33m(\u001b[0m\u001b[0mfilepath_or_buffer\u001b[0m\u001b[1;33m)\u001b[0m\u001b[1;33m\u001b[0m\u001b[1;33m\u001b[0m\u001b[0m\n\u001b[0;32m    358\u001b[0m         \u001b[1;32melif\u001b[0m \u001b[0misinstance\u001b[0m\u001b[1;33m(\u001b[0m\u001b[0mfilepath_or_buffer\u001b[0m\u001b[1;33m,\u001b[0m \u001b[0mstr\u001b[0m\u001b[1;33m)\u001b[0m\u001b[1;33m:\u001b[0m\u001b[1;33m\u001b[0m\u001b[1;33m\u001b[0m\u001b[0m\n\u001b[1;32m--> 359\u001b[1;33m             \u001b[0mself\u001b[0m\u001b[1;33m.\u001b[0m\u001b[0mbook\u001b[0m \u001b[1;33m=\u001b[0m \u001b[0mself\u001b[0m\u001b[1;33m.\u001b[0m\u001b[0mload_workbook\u001b[0m\u001b[1;33m(\u001b[0m\u001b[0mfilepath_or_buffer\u001b[0m\u001b[1;33m)\u001b[0m\u001b[1;33m\u001b[0m\u001b[1;33m\u001b[0m\u001b[0m\n\u001b[0m\u001b[0;32m    360\u001b[0m         \u001b[1;32melse\u001b[0m\u001b[1;33m:\u001b[0m\u001b[1;33m\u001b[0m\u001b[1;33m\u001b[0m\u001b[0m\n\u001b[0;32m    361\u001b[0m             raise ValueError(\n",
      "\u001b[1;32m~\\AppData\\Local\\Continuum\\anaconda3\\lib\\site-packages\\pandas\\io\\excel\\_xlrd.py\u001b[0m in \u001b[0;36mload_workbook\u001b[1;34m(self, filepath_or_buffer)\u001b[0m\n\u001b[0;32m     34\u001b[0m             \u001b[1;32mreturn\u001b[0m \u001b[0mopen_workbook\u001b[0m\u001b[1;33m(\u001b[0m\u001b[0mfile_contents\u001b[0m\u001b[1;33m=\u001b[0m\u001b[0mdata\u001b[0m\u001b[1;33m)\u001b[0m\u001b[1;33m\u001b[0m\u001b[1;33m\u001b[0m\u001b[0m\n\u001b[0;32m     35\u001b[0m         \u001b[1;32melse\u001b[0m\u001b[1;33m:\u001b[0m\u001b[1;33m\u001b[0m\u001b[1;33m\u001b[0m\u001b[0m\n\u001b[1;32m---> 36\u001b[1;33m             \u001b[1;32mreturn\u001b[0m \u001b[0mopen_workbook\u001b[0m\u001b[1;33m(\u001b[0m\u001b[0mfilepath_or_buffer\u001b[0m\u001b[1;33m)\u001b[0m\u001b[1;33m\u001b[0m\u001b[1;33m\u001b[0m\u001b[0m\n\u001b[0m\u001b[0;32m     37\u001b[0m \u001b[1;33m\u001b[0m\u001b[0m\n\u001b[0;32m     38\u001b[0m     \u001b[1;33m@\u001b[0m\u001b[0mproperty\u001b[0m\u001b[1;33m\u001b[0m\u001b[1;33m\u001b[0m\u001b[0m\n",
      "\u001b[1;32m~\\AppData\\Local\\Continuum\\anaconda3\\lib\\site-packages\\xlrd\\__init__.py\u001b[0m in \u001b[0;36mopen_workbook\u001b[1;34m(filename, logfile, verbosity, use_mmap, file_contents, encoding_override, formatting_info, on_demand, ragged_rows)\u001b[0m\n\u001b[0;32m    109\u001b[0m     \u001b[1;32melse\u001b[0m\u001b[1;33m:\u001b[0m\u001b[1;33m\u001b[0m\u001b[1;33m\u001b[0m\u001b[0m\n\u001b[0;32m    110\u001b[0m         \u001b[0mfilename\u001b[0m \u001b[1;33m=\u001b[0m \u001b[0mos\u001b[0m\u001b[1;33m.\u001b[0m\u001b[0mpath\u001b[0m\u001b[1;33m.\u001b[0m\u001b[0mexpanduser\u001b[0m\u001b[1;33m(\u001b[0m\u001b[0mfilename\u001b[0m\u001b[1;33m)\u001b[0m\u001b[1;33m\u001b[0m\u001b[1;33m\u001b[0m\u001b[0m\n\u001b[1;32m--> 111\u001b[1;33m         \u001b[1;32mwith\u001b[0m \u001b[0mopen\u001b[0m\u001b[1;33m(\u001b[0m\u001b[0mfilename\u001b[0m\u001b[1;33m,\u001b[0m \u001b[1;34m\"rb\"\u001b[0m\u001b[1;33m)\u001b[0m \u001b[1;32mas\u001b[0m \u001b[0mf\u001b[0m\u001b[1;33m:\u001b[0m\u001b[1;33m\u001b[0m\u001b[1;33m\u001b[0m\u001b[0m\n\u001b[0m\u001b[0;32m    112\u001b[0m             \u001b[0mpeek\u001b[0m \u001b[1;33m=\u001b[0m \u001b[0mf\u001b[0m\u001b[1;33m.\u001b[0m\u001b[0mread\u001b[0m\u001b[1;33m(\u001b[0m\u001b[0mpeeksz\u001b[0m\u001b[1;33m)\u001b[0m\u001b[1;33m\u001b[0m\u001b[1;33m\u001b[0m\u001b[0m\n\u001b[0;32m    113\u001b[0m     \u001b[1;32mif\u001b[0m \u001b[0mpeek\u001b[0m \u001b[1;33m==\u001b[0m \u001b[1;34mb\"PK\\x03\\x04\"\u001b[0m\u001b[1;33m:\u001b[0m \u001b[1;31m# a ZIP file\u001b[0m\u001b[1;33m\u001b[0m\u001b[1;33m\u001b[0m\u001b[0m\n",
      "\u001b[1;31mFileNotFoundError\u001b[0m: [Errno 2] No such file or directory: 'C:Passageiros pagos\\\\cwb_nac.xlsx'"
     ]
    }
   ],
   "source": [
    "#nacional \n",
    "filename = r'C:Passageiros pagos\\cwb_nac.xlsx'\n",
    "cwb_nac = pd.read_excel(filename).drop([\"Unnamed: 0\"],axis=1)\n",
    "\n",
    "#internacional\n",
    "filename = r'C:Passageiros pagos\\cwb_int.xlsx'\n",
    "cwb_int = (pd.read_excel(filename)\n",
    " .drop([\"Unnamed: 0\"],axis=1)\n",
    " .rename(columns ={'Passageiros':'Passageiros internacionais'})\n",
    "          )\n"
   ]
  },
  {
   "cell_type": "code",
   "execution_count": null,
   "metadata": {},
   "outputs": [],
   "source": []
  },
  {
   "cell_type": "markdown",
   "metadata": {},
   "source": [
    "#### Frequencia de passageiros no aeroporto IGU"
   ]
  },
  {
   "cell_type": "code",
   "execution_count": null,
   "metadata": {},
   "outputs": [],
   "source": [
    "#nacional\n",
    "filename = r'C:Passageiros pagos\\igu_nac.xlsx'\n",
    "igu_nac = pd.read_excel(filename).drop([\"Unnamed: 0\"],axis=1)\n",
    "\n",
    "#internacional\n",
    "filename = r'C:Passageiros pagos\\igu_int.xlsx'\n",
    "igu_int = (pd.read_excel(filename)\n",
    " .drop([\"Unnamed: 0\"],axis=1)\n",
    " .rename(columns ={'Passageiros':'Passageiros internacionais'})\n",
    "          )"
   ]
  },
  {
   "cell_type": "markdown",
   "metadata": {},
   "source": [
    "#### Frequencia de passageiros no aeroporto NVT"
   ]
  },
  {
   "cell_type": "code",
   "execution_count": null,
   "metadata": {},
   "outputs": [],
   "source": [
    "#nacional\n",
    "filename = r'C:Passageiros pagos\\nvt_nac.xlsx'\n",
    "nvt_nac = pd.read_excel(filename).drop([\"Unnamed: 0\"],axis=1)\n",
    "\n",
    "#internacional\n",
    "filename = r'C:Passageiros pagos\\nvt_int.xlsx'\n",
    "nvt_int = (pd.read_excel(filename)\n",
    " .drop([\"Unnamed: 0\"],axis=1)\n",
    " .rename(columns ={'Passageiros':'Passageiros internacionais'})\n",
    "          )"
   ]
  },
  {
   "cell_type": "markdown",
   "metadata": {},
   "source": [
    "#### Frequencia de passageiros no aeroporto PMW"
   ]
  },
  {
   "cell_type": "code",
   "execution_count": null,
   "metadata": {},
   "outputs": [],
   "source": [
    "filename = r'C:Passageiros pagos\\pmw.xlsx'\n",
    "pmw = pd.read_excel(filename).drop([\"Unnamed: 0\"],axis=1)"
   ]
  },
  {
   "cell_type": "markdown",
   "metadata": {},
   "source": [
    "#### Frequencia de passageiros no aeroporto SLZ"
   ]
  },
  {
   "cell_type": "code",
   "execution_count": null,
   "metadata": {},
   "outputs": [],
   "source": [
    "filename = r'C:Passageiros pagos\\slz.xlsx'\n",
    "slz = pd.read_excel(filename).drop([\"Unnamed: 0\"],axis=1)"
   ]
  },
  {
   "cell_type": "markdown",
   "metadata": {},
   "source": [
    "#### Frequencia de passageiros no aeroporto SJO"
   ]
  },
  {
   "cell_type": "code",
   "execution_count": null,
   "metadata": {},
   "outputs": [],
   "source": [
    "##nacional\n",
    "#filename = r'C:\\Users\\vitor\\OneDrive\\Documentos\\INSPER_JR\\Decolagem_I\\regressão\\Passageiros pagos\\sjo_nac.csv'\n",
    "#dados7 = pd.read_csv(filename)\n",
    "\n",
    "##internacional\n",
    "#filename = r'C:\\Users\\vitor\\OneDrive\\Documentos\\INSPER_JR\\Decolagem_I\\regressão\\Passageiros pagos\\sjo_int.csv'\n",
    "#dados6 = pd.read_csv(filename)\n",
    "\n"
   ]
  },
  {
   "cell_type": "markdown",
   "metadata": {},
   "source": [
    "## Variaveis macro economicas"
   ]
  },
  {
   "cell_type": "markdown",
   "metadata": {},
   "source": [
    "#### Valor do barril de petróleo"
   ]
  },
  {
   "cell_type": "code",
   "execution_count": null,
   "metadata": {},
   "outputs": [],
   "source": [
    "filename = r'C:Dados macros\\statistic_id262858_opec-oil-price-annually-1960-2022.xlsx'\n",
    "oil = pd.read_excel(filename)"
   ]
  },
  {
   "cell_type": "markdown",
   "metadata": {},
   "source": [
    "#### Cotação do dolar"
   ]
  },
  {
   "cell_type": "code",
   "execution_count": null,
   "metadata": {},
   "outputs": [],
   "source": [
    "filename = r'C:Dados macros\\Base de dados Dólar.xlsx'\n",
    "dolar = pd.read_excel(filename)"
   ]
  },
  {
   "cell_type": "markdown",
   "metadata": {},
   "source": [
    "#### Inflação do turismo no Brasil"
   ]
  },
  {
   "cell_type": "code",
   "execution_count": null,
   "metadata": {},
   "outputs": [],
   "source": [
    "filename = r'C:Dados macros\\statistic_id270812_inflation-rate-in-brazil-2027.xlsx'\n",
    "inflacao = pd.read_excel(filename)"
   ]
  },
  {
   "cell_type": "markdown",
   "metadata": {},
   "source": [
    "#### PIB do Brasil e dos Estados dos aeroportos "
   ]
  },
  {
   "cell_type": "code",
   "execution_count": null,
   "metadata": {},
   "outputs": [],
   "source": [
    "filename = r'C:Dados macros\\PIB_brasil_freq.xlsx'\n",
    "pib = pd.read_excel(filename)"
   ]
  },
  {
   "cell_type": "markdown",
   "metadata": {},
   "source": [
    "## Curitiba"
   ]
  },
  {
   "cell_type": "markdown",
   "metadata": {},
   "source": [
    "##### juntando os pontos macros e uma unico DataFrame"
   ]
  },
  {
   "cell_type": "code",
   "execution_count": null,
   "metadata": {},
   "outputs": [],
   "source": [
    "principal =(cwb_nac\n",
    " .join(cwb_int.set_index('Ano'),on='Ano')\n",
    " .join(oil.set_index('Ano'),on='Ano')\n",
    " .join(dolar.set_index('Ano'),on='Ano')\n",
    " .join(inflacao.set_index('Ano'),on='Ano')\n",
    " .join(pib.set_index('Ano'),on='Ano')\n",
    "          )\n"
   ]
  },
  {
   "cell_type": "markdown",
   "metadata": {},
   "source": [
    "#### Correlação entre os dados pré selecionados "
   ]
  },
  {
   "cell_type": "code",
   "execution_count": null,
   "metadata": {},
   "outputs": [],
   "source": [
    "principal = principal.loc[principal[\"Ano\"]<2020]\n",
    "principal.corr()\n"
   ]
  },
  {
   "cell_type": "markdown",
   "metadata": {},
   "source": [
    "#### Análise grafica"
   ]
  },
  {
   "cell_type": "code",
   "execution_count": null,
   "metadata": {},
   "outputs": [],
   "source": [
    "fig, ax = plt.subplots(4,2)\n",
    "\n",
    "fig.set_size_inches(15,15)\n",
    "\n",
    "\n",
    "\n",
    "ax[0,0].plot(principal[\"Ano\"], principal[\"Passageiros\"],\"g\", label='Passageiros nacionais')\n",
    "ax[0,0].legend()\n",
    "\n",
    "ax[0,1].plot(principal[\"Ano\"], principal[\"Passageiros internacionais\"],\"g\", label = 'Passageiros internacionais' )\n",
    "ax[0,1].legend()\n",
    "\n",
    "\n",
    "ax[1,0].plot(principal[\"Ano\"], principal[\"dolar\"], label = 'Cambio' )\n",
    "ax[1,0].legend()\n",
    "\n",
    "ax[1,1].plot(principal[\"Ano\"], principal[\"inflacao\"], label='Inflação')\n",
    "ax[1,1].legend()\n",
    "\n",
    "#ax[2,0].plot(principal[\"Ano\"], principal[\"PIB REAL PR\"],\"c\", label = 'PIB PR' )\n",
    "#ax[2,0].legend()\n",
    "\n",
    "#ax[2,1].plot(principal[\"Ano\"], principal[\"PIB REAL SP\"],\"c\", label = 'PIB SP ' )\n",
    "#ax[2,1].legend()\n",
    "\n",
    "ax[3,0].plot(principal[\"Ano\"], principal[\"PIB REAL BRASIL\"],\"m\", label = 'PIB Brasil' )\n",
    "ax[3,0].legend()\n",
    "\n",
    "ax[3,1].plot(principal[\"Ano\"], principal[\"Oil\"],\"m\", label='Petroleo')\n",
    "ax[3,1].legend()\n",
    "\n",
    "plt.show()"
   ]
  },
  {
   "cell_type": "code",
   "execution_count": null,
   "metadata": {},
   "outputs": [],
   "source": []
  },
  {
   "cell_type": "code",
   "execution_count": null,
   "metadata": {},
   "outputs": [],
   "source": [
    "Y= principal[\"Passageiros\"].copy()\n",
    "X= principal.drop([\"Passageiros\", \"Passageiros internacionais\",\"Ano\"],axis=1).loc[principal[\"Ano\"]<2020].copy()"
   ]
  },
  {
   "cell_type": "code",
   "execution_count": null,
   "metadata": {},
   "outputs": [],
   "source": [
    "X.columns"
   ]
  },
  {
   "cell_type": "code",
   "execution_count": null,
   "metadata": {},
   "outputs": [],
   "source": [
    "X_train, X_test, y_train, y_test = train_test_split(X, Y, test_size=0.5, random_state=42)"
   ]
  },
  {
   "cell_type": "code",
   "execution_count": null,
   "metadata": {},
   "outputs": [],
   "source": [
    "reg= LinearRegression()\n",
    "reg.fit(X_train, y_train)\n",
    "YpredL= reg.predict(X_test)\n",
    "print(YpredL)\n",
    "print(y_test)\n",
    "reg.coef_\n"
   ]
  },
  {
   "cell_type": "code",
   "execution_count": null,
   "metadata": {},
   "outputs": [],
   "source": [
    "ano_lista= np.arange(1,11,1)\n",
    "\n",
    "\n",
    "plt.plot(ano_lista, YpredL,'--r', label='Predito')\n",
    "plt.plot(ano_lista, y_test, label = 'Verdadeiro' )\n",
    "plt.legend()\n",
    "plt.show()"
   ]
  },
  {
   "cell_type": "markdown",
   "metadata": {},
   "source": [
    "## Foz do Iguaçu"
   ]
  },
  {
   "cell_type": "markdown",
   "metadata": {},
   "source": [
    "##### juntando os pontos macros e uma unico DataFrame"
   ]
  },
  {
   "cell_type": "code",
   "execution_count": null,
   "metadata": {},
   "outputs": [],
   "source": [
    "principal =(igu_nac\n",
    " .join(igu_int.set_index('Ano'),on='Ano')\n",
    " .join(oil.set_index('Ano'),on='Ano')\n",
    " .join(dolar.set_index('Ano'),on='Ano')\n",
    " .join(inflacao.set_index('Ano'),on='Ano')\n",
    " .join(pib.set_index('Ano'),on='Ano')\n",
    "          )"
   ]
  },
  {
   "cell_type": "markdown",
   "metadata": {},
   "source": [
    "##### Correlação entre os dados pré selecionados "
   ]
  },
  {
   "cell_type": "code",
   "execution_count": null,
   "metadata": {},
   "outputs": [],
   "source": [
    "principal= principal.loc[principal[\"Ano\"]<2020]\n",
    "\n",
    "principal.corr()\n"
   ]
  },
  {
   "cell_type": "markdown",
   "metadata": {},
   "source": [
    "##### Análise grafica"
   ]
  },
  {
   "cell_type": "code",
   "execution_count": null,
   "metadata": {},
   "outputs": [],
   "source": [
    "fig, ax = plt.subplots(4,2)\n",
    "\n",
    "fig.set_size_inches(15,15)\n",
    "\n",
    "\n",
    "\n",
    "ax[0,0].plot(principal[\"Ano\"], principal[\"Passageiros\"],\"g\", label='Passageiros nacionais')\n",
    "ax[0,0].legend()\n",
    "\n",
    "ax[0,1].plot(principal[\"Ano\"], principal[\"Passageiros internacionais\"],\"g\", label = 'Passageiros internacionais' )\n",
    "ax[0,1].legend()\n",
    "\n",
    "\n",
    "ax[1,0].plot(principal[\"Ano\"], principal[\"dolar\"], label = 'Cambio' )\n",
    "ax[1,0].legend()\n",
    "\n",
    "ax[1,1].plot(principal[\"Ano\"], principal[\"inflacao\"], label='Inflação')\n",
    "ax[1,1].legend()\n",
    "\n",
    "#ax[2,0].plot(principal[\"Ano\"], principal[\"PIB REAL PR\"],\"c\", label = 'PIB PR' )\n",
    "#ax[2,0].legend()\n",
    "#\n",
    "#ax[2,1].plot(principal[\"Ano\"], principal[\"PIB REAL SP\"],\"c\", label = 'PIB SP ' )\n",
    "#ax[2,1].legend()\n",
    "#\n",
    "ax[3,0].plot(principal[\"Ano\"], principal[\"PIB REAL BRASIL\"],\"m\", label = 'PIB Brasil' )\n",
    "ax[3,0].legend()\n",
    "\n",
    "ax[3,1].plot(principal[\"Ano\"], principal[\"Oil\"],\"m\", label='Petroleo')\n",
    "ax[3,1].legend()\n",
    "\n",
    "plt.show()"
   ]
  },
  {
   "cell_type": "code",
   "execution_count": null,
   "metadata": {},
   "outputs": [],
   "source": [
    "Y= principal[\"Passageiros\"].copy()\n",
    "X= principal.drop([\"Passageiros\", \"Passageiros internacionais\",\"Ano\"],axis=1).loc[principal[\"Ano\"]<2020].copy()"
   ]
  },
  {
   "cell_type": "code",
   "execution_count": null,
   "metadata": {},
   "outputs": [],
   "source": [
    "X_train, X_test, y_train, y_test = train_test_split(X, Y, test_size=0.5, random_state=42)"
   ]
  },
  {
   "cell_type": "code",
   "execution_count": null,
   "metadata": {},
   "outputs": [],
   "source": [
    "reg= LinearRegression()\n",
    "reg.fit(X_train, y_train)\n",
    "YpredL= reg.predict(X_test)\n",
    "print(YpredL)\n",
    "print(y_test)\n"
   ]
  },
  {
   "cell_type": "code",
   "execution_count": null,
   "metadata": {},
   "outputs": [],
   "source": [
    "ano_lista= np.arange(1,11,1)\n",
    "\n",
    "\n",
    "plt.plot(ano_lista, YpredL,'--r', label='Predito')\n",
    "plt.plot(ano_lista, y_test, label = 'Verdadeiro' )\n",
    "plt.legend()\n",
    "plt.show()"
   ]
  },
  {
   "cell_type": "markdown",
   "metadata": {},
   "source": [
    "## Navegantes"
   ]
  },
  {
   "cell_type": "markdown",
   "metadata": {},
   "source": [
    "##### juntando os pontos macros e uma unico DataFrame"
   ]
  },
  {
   "cell_type": "code",
   "execution_count": null,
   "metadata": {},
   "outputs": [],
   "source": [
    "principal =(nvt_nac\n",
    " .join(nvt_int.set_index('Ano'),on='Ano')\n",
    " .join(oil.set_index('Ano'),on='Ano')\n",
    " .join(dolar.set_index('Ano'),on='Ano')\n",
    " .join(inflacao.set_index('Ano'),on='Ano')\n",
    " .join(pib.set_index('Ano'),on='Ano')\n",
    "          )"
   ]
  },
  {
   "cell_type": "markdown",
   "metadata": {},
   "source": [
    "##### Correlação entre os dados pré selecionados "
   ]
  },
  {
   "cell_type": "code",
   "execution_count": null,
   "metadata": {},
   "outputs": [],
   "source": [
    "principal= principal.loc[principal[\"Ano\"]<2020]\n",
    "\n",
    "principal.corr()"
   ]
  },
  {
   "cell_type": "markdown",
   "metadata": {},
   "source": [
    "##### Análise grafica"
   ]
  },
  {
   "cell_type": "code",
   "execution_count": null,
   "metadata": {},
   "outputs": [],
   "source": [
    "fig, ax = plt.subplots(4,2)\n",
    "\n",
    "fig.set_size_inches(15,15)\n",
    "\n",
    "\n",
    "\n",
    "ax[0,0].plot(principal[\"Ano\"], principal[\"Passageiros\"],\"g\", label='Passageiros nacionais')\n",
    "ax[0,0].legend()\n",
    "\n",
    "ax[0,1].plot(principal[\"Ano\"], principal[\"Passageiros internacionais\"],\"g\", label = 'Passageiros internacionais' )\n",
    "ax[0,1].legend()\n",
    "\n",
    "\n",
    "ax[1,0].plot(principal[\"Ano\"], principal[\"dolar\"], label = 'Cambio' )\n",
    "ax[1,0].legend()\n",
    "\n",
    "ax[1,1].plot(principal[\"Ano\"], principal[\"inflacao\"], label='Inflação')\n",
    "ax[1,1].legend()\n",
    "\n",
    "#ax[2,0].plot(principal[\"Ano\"], principal[\"PIB REAL SC\"],\"c\", label = 'PIB SC' )\n",
    "#ax[2,0].legend()\n",
    "#\n",
    "#ax[2,1].plot(principal[\"Ano\"], principal[\"PIB REAL SP\"],\"c\", label = 'PIB SP ' )\n",
    "#ax[2,1].legend()\n",
    "\n",
    "ax[3,0].plot(principal[\"Ano\"], principal[\"PIB REAL BRASIL\"],\"m\", label = 'PIB Brasil' )\n",
    "ax[3,0].legend()\n",
    "\n",
    "ax[3,1].plot(principal[\"Ano\"], principal[\"Oil\"],\"m\", label='Petroleo')\n",
    "ax[3,1].legend()\n",
    "\n",
    "plt.show()"
   ]
  },
  {
   "cell_type": "code",
   "execution_count": null,
   "metadata": {},
   "outputs": [],
   "source": [
    "Y= principal[\"Passageiros\"].copy()\n",
    "X= principal.drop([\"Passageiros\", \"Passageiros internacionais\",\"Ano\"],axis=1).loc[principal[\"Ano\"]<2020].copy()"
   ]
  },
  {
   "cell_type": "code",
   "execution_count": null,
   "metadata": {},
   "outputs": [],
   "source": [
    "X_train, X_test, y_train, y_test = train_test_split(X, Y, test_size=0.5, random_state=42)"
   ]
  },
  {
   "cell_type": "code",
   "execution_count": null,
   "metadata": {},
   "outputs": [],
   "source": [
    "reg= LinearRegression()\n",
    "reg.fit(X_train, y_train)\n",
    "YpredL= reg.predict(X_test)\n",
    "print(YpredL)\n",
    "print(y_test)"
   ]
  },
  {
   "cell_type": "code",
   "execution_count": null,
   "metadata": {},
   "outputs": [],
   "source": [
    "ano_lista= np.arange(1,11,1)\n",
    "\n",
    "\n",
    "plt.plot(ano_lista, YpredL,'--r', label='Predito')\n",
    "plt.plot(ano_lista, y_test, label = 'Verdadeiro' )\n",
    "plt.legend()\n",
    "plt.show()"
   ]
  },
  {
   "cell_type": "markdown",
   "metadata": {},
   "source": [
    "## Palmas"
   ]
  },
  {
   "cell_type": "markdown",
   "metadata": {},
   "source": [
    "##### juntando os pontos macros e uma unico DataFrame"
   ]
  },
  {
   "cell_type": "code",
   "execution_count": null,
   "metadata": {},
   "outputs": [],
   "source": [
    "principal =(pmw\n",
    " .join(oil.set_index('Ano'),on='Ano')\n",
    " .join(dolar.set_index('Ano'),on='Ano')\n",
    " .join(inflacao.set_index('Ano'),on='Ano')\n",
    " .join(pib.set_index('Ano'),on='Ano')\n",
    "          )"
   ]
  },
  {
   "cell_type": "markdown",
   "metadata": {},
   "source": [
    "##### Correlação entre os dados pré selecionados "
   ]
  },
  {
   "cell_type": "code",
   "execution_count": null,
   "metadata": {},
   "outputs": [],
   "source": [
    "principal= principal.loc[principal[\"Ano\"]<2020]\n",
    "principal.corr()"
   ]
  },
  {
   "cell_type": "markdown",
   "metadata": {},
   "source": [
    "##### Análise grafica"
   ]
  },
  {
   "cell_type": "code",
   "execution_count": null,
   "metadata": {},
   "outputs": [],
   "source": [
    "fig, ax = plt.subplots(4,2)\n",
    "\n",
    "fig.set_size_inches(15,15)\n",
    "\n",
    "\n",
    "ax[0,0].plot(principal[\"Ano\"], principal[\"Passageiros\"],\"g\", label='Passageiros')\n",
    "ax[0,0].legend()\n",
    "\n",
    "#ax[0,1].plot(principal[\"Ano\"], principal[\"PIB REAL TO\"],\"g\", label='PIB TO')\n",
    "#ax[0,1].legend()\n",
    "\n",
    "ax[1,0].plot(principal[\"Ano\"], principal[\"dolar\"], label = 'Cambio' )\n",
    "ax[1,0].legend()\n",
    "\n",
    "ax[1,1].plot(principal[\"Ano\"], principal[\"inflacao\"], label='Inflação')\n",
    "ax[1,1].legend()\n",
    "\n",
    "ax[2,0].plot(principal[\"Ano\"], principal[\"PIB REAL BRASIL\"],\"c\", label = 'PIB Brasil' )\n",
    "ax[2,0].legend()\n",
    "\n",
    "#ax[2,1].plot(principal[\"Ano\"], principal[\"PIB REAL SP\"],\"c\", label = 'PIB SP' )\n",
    "#ax[2,1].legend()\n",
    "\n",
    "ax[3,0].plot(principal[\"Ano\"], principal[\"Oil\"],\"m\", label='Petroleo')\n",
    "ax[3,0].legend()\n",
    "\n",
    "\n",
    "\n",
    "plt.show()#"
   ]
  },
  {
   "cell_type": "code",
   "execution_count": null,
   "metadata": {},
   "outputs": [],
   "source": [
    "Y= principal[\"Passageiros\"].copy()\n",
    "X= principal.drop([\"Passageiros\",\"Ano\"],axis=1).loc[principal[\"Ano\"]<2020].copy()"
   ]
  },
  {
   "cell_type": "code",
   "execution_count": null,
   "metadata": {},
   "outputs": [],
   "source": [
    "X_train, X_test, y_train, y_test = train_test_split(X, Y, test_size=0.5, random_state=42)"
   ]
  },
  {
   "cell_type": "code",
   "execution_count": null,
   "metadata": {},
   "outputs": [],
   "source": [
    "reg= LinearRegression()\n",
    "reg.fit(X_train, y_train)\n",
    "YpredL= reg.predict(X_test)\n",
    "print(YpredL)\n",
    "print(y_test)"
   ]
  },
  {
   "cell_type": "code",
   "execution_count": null,
   "metadata": {},
   "outputs": [],
   "source": [
    "ano_lista= np.arange(1,11,1)\n",
    "\n",
    "\n",
    "plt.plot(ano_lista, YpredL,'--r', label='Predito')\n",
    "plt.plot(ano_lista, y_test, label = 'Verdadeiro' )\n",
    "plt.legend()\n",
    "plt.show()"
   ]
  },
  {
   "cell_type": "markdown",
   "metadata": {},
   "source": [
    "## São Luiz"
   ]
  },
  {
   "cell_type": "markdown",
   "metadata": {},
   "source": [
    "##### juntando os pontos macros e uma unico DataFrame"
   ]
  },
  {
   "cell_type": "code",
   "execution_count": null,
   "metadata": {},
   "outputs": [],
   "source": [
    "principal =(slz\n",
    " .join(oil.set_index('Ano'),on='Ano')\n",
    " .join(dolar.set_index('Ano'),on='Ano')\n",
    " .join(inflacao.set_index('Ano'),on='Ano')\n",
    " .join(pib.set_index('Ano'),on='Ano')\n",
    "          )"
   ]
  },
  {
   "cell_type": "markdown",
   "metadata": {},
   "source": [
    "##### Correlação entre os dados pré selecionados "
   ]
  },
  {
   "cell_type": "code",
   "execution_count": null,
   "metadata": {},
   "outputs": [],
   "source": [
    "principal= principal.loc[principal[\"Ano\"]<2020]\n",
    "principal.corr()"
   ]
  },
  {
   "cell_type": "markdown",
   "metadata": {},
   "source": [
    "##### Análise grafica"
   ]
  },
  {
   "cell_type": "code",
   "execution_count": null,
   "metadata": {},
   "outputs": [],
   "source": [
    "fig, ax = plt.subplots(4,2)\n",
    "\n",
    "fig.set_size_inches(15,15)\n",
    "\n",
    "\n",
    "ax[0,0].plot(principal[\"Ano\"], principal[\"Passageiros\"],\"g\", label='Passageiros')\n",
    "ax[0,0].legend()\n",
    "\n",
    "#ax[0,1].plot(principal[\"Ano\"], principal[\"PIB REAL MA\"],\"g\", label='PIB MA')\n",
    "#ax[0,1].legend()\n",
    "\n",
    "ax[1,0].plot(principal[\"Ano\"], principal[\"dolar\"], label = 'Cambio' )\n",
    "ax[1,0].legend()\n",
    "\n",
    "ax[1,1].plot(principal[\"Ano\"], principal[\"inflacao\"], label='Inflação')\n",
    "ax[1,1].legend()\n",
    "\n",
    "ax[2,0].plot(principal[\"Ano\"], principal[\"PIB REAL BRASIL\"],\"c\", label = 'PIB Brasil' )\n",
    "ax[2,0].legend()\n",
    "\n",
    "#ax[2,1].plot(principal[\"Ano\"], principal[\"PIB REAL SP\"],\"c\", label = 'PIB SP' )\n",
    "#ax[2,1].legend()\n",
    "\n",
    "ax[3,0].plot(principal[\"Ano\"], principal[\"Oil\"],\"m\", label='Petroleo')\n",
    "ax[3,0].legend()\n",
    "\n",
    "\n",
    "\n",
    "plt.show()"
   ]
  },
  {
   "cell_type": "code",
   "execution_count": null,
   "metadata": {},
   "outputs": [],
   "source": [
    "Y= principal[\"Passageiros\"].copy()\n",
    "X= principal.drop([\"Passageiros\", \"Ano\"],axis=1).loc[principal[\"Ano\"]<2020].copy()"
   ]
  },
  {
   "cell_type": "code",
   "execution_count": null,
   "metadata": {},
   "outputs": [],
   "source": [
    "X_train, X_test, y_train, y_test = train_test_split(X, Y, test_size=0.5, random_state=42)"
   ]
  },
  {
   "cell_type": "code",
   "execution_count": null,
   "metadata": {},
   "outputs": [],
   "source": [
    "reg= LinearRegression()\n",
    "reg.fit(X_train, y_train)\n",
    "YpredL= reg.predict(X_test)\n",
    "print(YpredL)\n",
    "print(y_test)"
   ]
  },
  {
   "cell_type": "code",
   "execution_count": null,
   "metadata": {},
   "outputs": [],
   "source": [
    "ano_lista= np.arange(1,11,1)\n",
    "\n",
    "\n",
    "plt.plot(ano_lista, YpredL,'--r', label='Predito')\n",
    "plt.plot(ano_lista, y_test, label = 'Verdadeiro' )\n",
    "plt.legend()\n",
    "plt.show()"
   ]
  },
  {
   "cell_type": "markdown",
   "metadata": {},
   "source": [
    "## Comparação de passageiros nos aeroportos analisados"
   ]
  },
  {
   "cell_type": "code",
   "execution_count": null,
   "metadata": {},
   "outputs": [],
   "source": [
    "#plt.plot(cwb_nac[\"Ano\"], cwb_nac[\"Passageiros\"], label='Curitiba')\n",
    "#plt.legend()\n",
    "#\n",
    "#plt.plot(igu_nac[\"Ano\"], igu_nac[\"Passageiros\"], label='Foz do Iguaçu')\n",
    "#plt.legend()\n",
    "##\n",
    "#plt.plot(nvt_nac[\"Ano\"], nvt_nac[\"Passageiros\"], label='Navegantes')\n",
    "#plt.legend()\n",
    "##\n",
    "#plt.plot(slz[\"Ano\"], slz[\"Passageiros\"], label='São Luiz')\n",
    "#plt.legend()\n",
    "##\n",
    "#plt.plot(pmw[\"Ano\"], pmw[\"Passageiros\"], label='Palmas')\n",
    "#plt.legend()\n",
    "#\n",
    "#plt.title(\"Voos Nacionais\")\n",
    "#plt.show()\n",
    "#\n",
    "#\n",
    "#\n",
    "#\n",
    "#plt.plot(cwb_nac[\"Ano\"], cwb_int[\"Passageiros internacionais\"], label='Curitiba')\n",
    "#plt.legend()\n",
    "#\n",
    "#plt.plot(igu_nac[\"Ano\"], igu_int[\"Passageiros internacionais\"], label='Foz do Iguaçu')\n",
    "#plt.legend()\n",
    "#\n",
    "#plt.plot(nvt_nac[\"Ano\"], nvt_int[\"Passageiros internacionais\"], label='Navegantes')\n",
    "#plt.legend()\n",
    "#\n",
    "#plt.title(\"Voos Internacionais\")\n",
    "#plt.show()"
   ]
  },
  {
   "cell_type": "code",
   "execution_count": null,
   "metadata": {},
   "outputs": [],
   "source": []
  }
 ],
 "metadata": {
  "kernelspec": {
   "display_name": "Python 3",
   "language": "python",
   "name": "python3"
  },
  "language_info": {
   "codemirror_mode": {
    "name": "ipython",
    "version": 3
   },
   "file_extension": ".py",
   "mimetype": "text/x-python",
   "name": "python",
   "nbconvert_exporter": "python",
   "pygments_lexer": "ipython3",
   "version": "3.7.4"
  }
 },
 "nbformat": 4,
 "nbformat_minor": 2
}

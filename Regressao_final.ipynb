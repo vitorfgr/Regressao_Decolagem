{
 "cells": [
  {
   "cell_type": "markdown",
   "metadata": {},
   "source": [
    "## Biblioteca importadas"
   ]
  },
  {
   "cell_type": "code",
   "execution_count": 1,
   "metadata": {},
   "outputs": [],
   "source": [
    "import numpy as np\n",
    "import pandas as pd\n",
    "from sklearn.linear_model import LinearRegression\n",
    "from sklearn.ensemble import RandomForestRegressor\n",
    "from sklearn.metrics import mean_squared_error\n",
    "from sklearn.model_selection import train_test_split\n",
    "from sklearn.metrics import r2_score\n",
    "import matplotlib.pyplot as plt\n",
    "from sklearn.model_selection import GridSearchCV"
   ]
  },
  {
   "cell_type": "markdown",
   "metadata": {},
   "source": [
    "## Leitura das bases de dados de cada aeroportos\n"
   ]
  },
  {
   "cell_type": "markdown",
   "metadata": {},
   "source": [
    "#### Frequencia de passageiros no aeroporto CWB"
   ]
  },
  {
   "cell_type": "code",
   "execution_count": 2,
   "metadata": {},
   "outputs": [],
   "source": [
    "#nacional \n",
    "filename = r'C:\\Users\\vitor\\OneDrive\\Documentos\\INSPER_JR\\Decolagem_I\\regressão\\Passageiros pagos\\cwb_nac.xlsx'\n",
    "dados = pd.read_excel(filename)\n",
    "\n",
    "#internacional\n",
    "filename = r'C:\\Users\\vitor\\OneDrive\\Documentos\\INSPER_JR\\Decolagem_I\\regressão\\Passageiros pagos\\cwb_int.xlsx'\n",
    "dados9 = pd.read_excel(filename)"
   ]
  },
  {
   "cell_type": "markdown",
   "metadata": {},
   "source": [
    "#### Frequencia de passageiros no aeroporto IGU"
   ]
  },
  {
   "cell_type": "code",
   "execution_count": 3,
   "metadata": {},
   "outputs": [],
   "source": [
    "#nacional\n",
    "filename = r'C:\\Users\\vitor\\OneDrive\\Documentos\\INSPER_JR\\Decolagem_I\\regressão\\Passageiros pagos\\igu_nac.xlsx'\n",
    "dados2 = pd.read_excel(filename)\n",
    "\n",
    "#internacional\n",
    "filename = r'C:\\Users\\vitor\\OneDrive\\Documentos\\INSPER_JR\\Decolagem_I\\regressão\\Passageiros pagos\\igu_int.xlsx'\n",
    "dados1 = pd.read_excel(filename)"
   ]
  },
  {
   "cell_type": "markdown",
   "metadata": {},
   "source": [
    "#### Frequencia de passageiros no aeroporto NVT"
   ]
  },
  {
   "cell_type": "code",
   "execution_count": 4,
   "metadata": {},
   "outputs": [],
   "source": [
    "#nacional\n",
    "filename = r'C:\\Users\\vitor\\OneDrive\\Documentos\\INSPER_JR\\Decolagem_I\\regressão\\Passageiros pagos\\nvt_nac.xlsx'\n",
    "dados4 = pd.read_excel(filename)\n",
    "\n",
    "#internacional\n",
    "filename = r'C:\\Users\\vitor\\OneDrive\\Documentos\\INSPER_JR\\Decolagem_I\\regressão\\Passageiros pagos\\nvt_int.xlsx'\n",
    "dados3 = pd.read_excel(filename)"
   ]
  },
  {
   "cell_type": "markdown",
   "metadata": {},
   "source": [
    "#### Frequencia de passageiros no aeroporto PMW"
   ]
  },
  {
   "cell_type": "code",
   "execution_count": 5,
   "metadata": {},
   "outputs": [],
   "source": [
    "filename = r'C:\\Users\\vitor\\OneDrive\\Documentos\\INSPER_JR\\Decolagem_I\\regressão\\Passageiros pagos\\pmw.xlsx'\n",
    "dados5 = pd.read_excel(filename)"
   ]
  },
  {
   "cell_type": "markdown",
   "metadata": {},
   "source": [
    "#### Frequencia de passageiros no aeroporto SLZ"
   ]
  },
  {
   "cell_type": "code",
   "execution_count": 6,
   "metadata": {},
   "outputs": [],
   "source": [
    "filename = r'C:\\Users\\vitor\\OneDrive\\Documentos\\INSPER_JR\\Decolagem_I\\regressão\\Passageiros pagos\\slz.xlsx'\n",
    "dados8 = pd.read_excel(filename)"
   ]
  },
  {
   "cell_type": "markdown",
   "metadata": {},
   "source": [
    "#### Frequencia de passageiros no aeroporto SJO"
   ]
  },
  {
   "cell_type": "code",
   "execution_count": 7,
   "metadata": {},
   "outputs": [],
   "source": [
    "##nacional\n",
    "#filename = r'C:\\Users\\vitor\\OneDrive\\Documentos\\INSPER_JR\\Decolagem_I\\regressão\\Passageiros pagos\\sjo_nac.csv'\n",
    "#dados7 = pd.read_csv(filename)\n",
    "\n",
    "##internacional\n",
    "#filename = r'C:\\Users\\vitor\\OneDrive\\Documentos\\INSPER_JR\\Decolagem_I\\regressão\\Passageiros pagos\\sjo_int.csv'\n",
    "#dados6 = pd.read_csv(filename)\n",
    "\n"
   ]
  },
  {
   "cell_type": "markdown",
   "metadata": {},
   "source": [
    "## Variaveis macro economicas"
   ]
  },
  {
   "cell_type": "markdown",
   "metadata": {},
   "source": [
    "#### Valor do barril de petróleo"
   ]
  },
  {
   "cell_type": "code",
   "execution_count": 8,
   "metadata": {},
   "outputs": [],
   "source": [
    "filename = r'C:\\Users\\vitor\\OneDrive\\Documentos\\INSPER_JR\\Decolagem_I\\regressão\\Dados macros\\statistic_id262858_opec-oil-price-annually-1960-2022.xlsx'\n",
    "oil = pd.read_excel(filename)"
   ]
  },
  {
   "cell_type": "markdown",
   "metadata": {},
   "source": [
    "#### Cotação do dolar"
   ]
  },
  {
   "cell_type": "code",
   "execution_count": 9,
   "metadata": {},
   "outputs": [],
   "source": [
    "filename = r'C:\\Users\\vitor\\OneDrive\\Documentos\\INSPER_JR\\Decolagem_I\\regressão\\Dados macros\\Base de dados Dólar.xlsx'\n",
    "cambio = pd.read_excel(filename)"
   ]
  },
  {
   "cell_type": "markdown",
   "metadata": {},
   "source": [
    "#### Inflação do turismo no Brasil"
   ]
  },
  {
   "cell_type": "code",
   "execution_count": 10,
   "metadata": {},
   "outputs": [],
   "source": [
    "filename = r'C:\\Users\\vitor\\OneDrive\\Documentos\\INSPER_JR\\Decolagem_I\\regressão\\Dados macros\\statistic_id270812_inflation-rate-in-brazil-2027.xlsx'\n",
    "inflacao = pd.read_excel(filename)"
   ]
  },
  {
   "cell_type": "markdown",
   "metadata": {},
   "source": [
    "#### PIB per capita e dos Estados dos aeroportos "
   ]
  },
  {
   "cell_type": "code",
   "execution_count": 11,
   "metadata": {},
   "outputs": [],
   "source": [
    "filename = r'C:\\Users\\vitor\\OneDrive\\Documentos\\INSPER_JR\\Decolagem_I\\regressão\\Dados macros\\Pib per capita.xlsx'\n",
    "pib_capita = pd.read_excel(filename)"
   ]
  },
  {
   "cell_type": "markdown",
   "metadata": {},
   "source": [
    "#### PIB do Brasil e dos Estados dos aeroportos "
   ]
  },
  {
   "cell_type": "code",
   "execution_count": 13,
   "metadata": {},
   "outputs": [
    {
     "data": {
      "text/html": [
       "<div>\n",
       "<style scoped>\n",
       "    .dataframe tbody tr th:only-of-type {\n",
       "        vertical-align: middle;\n",
       "    }\n",
       "\n",
       "    .dataframe tbody tr th {\n",
       "        vertical-align: top;\n",
       "    }\n",
       "\n",
       "    .dataframe thead th {\n",
       "        text-align: right;\n",
       "    }\n",
       "</style>\n",
       "<table border=\"1\" class=\"dataframe\">\n",
       "  <thead>\n",
       "    <tr style=\"text-align: right;\">\n",
       "      <th></th>\n",
       "      <th>Ano</th>\n",
       "      <th>SC</th>\n",
       "      <th>TO</th>\n",
       "      <th>MA</th>\n",
       "      <th>PR</th>\n",
       "      <th>BR</th>\n",
       "    </tr>\n",
       "  </thead>\n",
       "  <tbody>\n",
       "    <tr>\n",
       "      <td>0</td>\n",
       "      <td>2000</td>\n",
       "      <td>5.448189e+07</td>\n",
       "      <td>5.322563e+06</td>\n",
       "      <td>1.592400e+07</td>\n",
       "      <td>8.823571e+07</td>\n",
       "      <td>1.19</td>\n",
       "    </tr>\n",
       "    <tr>\n",
       "      <td>1</td>\n",
       "      <td>2001</td>\n",
       "      <td>5.448189e+07</td>\n",
       "      <td>5.322563e+06</td>\n",
       "      <td>1.592400e+07</td>\n",
       "      <td>8.823571e+07</td>\n",
       "      <td>1.31</td>\n",
       "    </tr>\n",
       "    <tr>\n",
       "      <td>2</td>\n",
       "      <td>2002</td>\n",
       "      <td>5.448189e+07</td>\n",
       "      <td>5.322563e+06</td>\n",
       "      <td>1.592400e+07</td>\n",
       "      <td>8.823571e+07</td>\n",
       "      <td>1.48</td>\n",
       "    </tr>\n",
       "    <tr>\n",
       "      <td>3</td>\n",
       "      <td>2003</td>\n",
       "      <td>6.409847e+07</td>\n",
       "      <td>6.612339e+06</td>\n",
       "      <td>1.950290e+07</td>\n",
       "      <td>1.100394e+08</td>\n",
       "      <td>1.71</td>\n",
       "    </tr>\n",
       "    <tr>\n",
       "      <td>4</td>\n",
       "      <td>2004</td>\n",
       "      <td>7.361897e+07</td>\n",
       "      <td>7.251580e+06</td>\n",
       "      <td>2.212713e+07</td>\n",
       "      <td>1.234515e+08</td>\n",
       "      <td>1.95</td>\n",
       "    </tr>\n",
       "    <tr>\n",
       "      <td>5</td>\n",
       "      <td>2005</td>\n",
       "      <td>8.154924e+07</td>\n",
       "      <td>7.707340e+06</td>\n",
       "      <td>2.510421e+07</td>\n",
       "      <td>1.274645e+08</td>\n",
       "      <td>2.17</td>\n",
       "    </tr>\n",
       "    <tr>\n",
       "      <td>6</td>\n",
       "      <td>2006</td>\n",
       "      <td>9.106345e+07</td>\n",
       "      <td>8.655613e+06</td>\n",
       "      <td>2.971064e+07</td>\n",
       "      <td>1.376483e+08</td>\n",
       "      <td>2.40</td>\n",
       "    </tr>\n",
       "    <tr>\n",
       "      <td>7</td>\n",
       "      <td>2007</td>\n",
       "      <td>1.037281e+08</td>\n",
       "      <td>1.019284e+07</td>\n",
       "      <td>3.073087e+07</td>\n",
       "      <td>1.652089e+08</td>\n",
       "      <td>2.72</td>\n",
       "    </tr>\n",
       "    <tr>\n",
       "      <td>8</td>\n",
       "      <td>2008</td>\n",
       "      <td>1.214773e+08</td>\n",
       "      <td>1.211639e+07</td>\n",
       "      <td>3.793240e+07</td>\n",
       "      <td>1.856839e+08</td>\n",
       "      <td>3.10</td>\n",
       "    </tr>\n",
       "    <tr>\n",
       "      <td>9</td>\n",
       "      <td>2009</td>\n",
       "      <td>1.290985e+08</td>\n",
       "      <td>1.368980e+07</td>\n",
       "      <td>4.099457e+07</td>\n",
       "      <td>1.966756e+08</td>\n",
       "      <td>3.33</td>\n",
       "    </tr>\n",
       "    <tr>\n",
       "      <td>10</td>\n",
       "      <td>2010</td>\n",
       "      <td>1.537260e+08</td>\n",
       "      <td>1.640482e+07</td>\n",
       "      <td>4.630963e+07</td>\n",
       "      <td>2.252053e+08</td>\n",
       "      <td>3.88</td>\n",
       "    </tr>\n",
       "    <tr>\n",
       "      <td>11</td>\n",
       "      <td>2011</td>\n",
       "      <td>1.740683e+08</td>\n",
       "      <td>1.834569e+07</td>\n",
       "      <td>5.214354e+07</td>\n",
       "      <td>2.571223e+08</td>\n",
       "      <td>4.37</td>\n",
       "    </tr>\n",
       "    <tr>\n",
       "      <td>12</td>\n",
       "      <td>2012</td>\n",
       "      <td>1.917947e+08</td>\n",
       "      <td>2.068443e+07</td>\n",
       "      <td>6.049011e+07</td>\n",
       "      <td>2.856202e+08</td>\n",
       "      <td>4.81</td>\n",
       "    </tr>\n",
       "    <tr>\n",
       "      <td>13</td>\n",
       "      <td>2013</td>\n",
       "      <td>2.145122e+08</td>\n",
       "      <td>2.379666e+07</td>\n",
       "      <td>6.769484e+07</td>\n",
       "      <td>3.334812e+08</td>\n",
       "      <td>5.33</td>\n",
       "    </tr>\n",
       "    <tr>\n",
       "      <td>14</td>\n",
       "      <td>2014</td>\n",
       "      <td>2.425534e+08</td>\n",
       "      <td>2.618932e+07</td>\n",
       "      <td>7.684203e+07</td>\n",
       "      <td>3.480842e+08</td>\n",
       "      <td>5.77</td>\n",
       "    </tr>\n",
       "    <tr>\n",
       "      <td>15</td>\n",
       "      <td>2015</td>\n",
       "      <td>2.490796e+08</td>\n",
       "      <td>2.893029e+07</td>\n",
       "      <td>7.847599e+07</td>\n",
       "      <td>3.769628e+08</td>\n",
       "      <td>5.99</td>\n",
       "    </tr>\n",
       "    <tr>\n",
       "      <td>16</td>\n",
       "      <td>2016</td>\n",
       "      <td>2.567547e+08</td>\n",
       "      <td>3.158482e+07</td>\n",
       "      <td>8.531004e+07</td>\n",
       "      <td>4.018142e+08</td>\n",
       "      <td>6.26</td>\n",
       "    </tr>\n",
       "    <tr>\n",
       "      <td>17</td>\n",
       "      <td>2017</td>\n",
       "      <td>2.772702e+08</td>\n",
       "      <td>3.410813e+07</td>\n",
       "      <td>8.954276e+07</td>\n",
       "      <td>4.214979e+08</td>\n",
       "      <td>6.28</td>\n",
       "    </tr>\n",
       "    <tr>\n",
       "      <td>18</td>\n",
       "      <td>2018</td>\n",
       "      <td>2.982271e+08</td>\n",
       "      <td>3.566618e+07</td>\n",
       "      <td>9.817950e+07</td>\n",
       "      <td>4.400294e+08</td>\n",
       "      <td>7.04</td>\n",
       "    </tr>\n",
       "    <tr>\n",
       "      <td>19</td>\n",
       "      <td>2019</td>\n",
       "      <td>3.232639e+08</td>\n",
       "      <td>3.935594e+07</td>\n",
       "      <td>9.733994e+07</td>\n",
       "      <td>4.663770e+08</td>\n",
       "      <td>7.10</td>\n",
       "    </tr>\n",
       "    <tr>\n",
       "      <td>20</td>\n",
       "      <td>2020</td>\n",
       "      <td>3.232639e+08</td>\n",
       "      <td>3.935594e+07</td>\n",
       "      <td>9.733994e+07</td>\n",
       "      <td>4.663770e+08</td>\n",
       "      <td>7.40</td>\n",
       "    </tr>\n",
       "  </tbody>\n",
       "</table>\n",
       "</div>"
      ],
      "text/plain": [
       "     Ano            SC            TO            MA            PR    BR\n",
       "0   2000  5.448189e+07  5.322563e+06  1.592400e+07  8.823571e+07  1.19\n",
       "1   2001  5.448189e+07  5.322563e+06  1.592400e+07  8.823571e+07  1.31\n",
       "2   2002  5.448189e+07  5.322563e+06  1.592400e+07  8.823571e+07  1.48\n",
       "3   2003  6.409847e+07  6.612339e+06  1.950290e+07  1.100394e+08  1.71\n",
       "4   2004  7.361897e+07  7.251580e+06  2.212713e+07  1.234515e+08  1.95\n",
       "5   2005  8.154924e+07  7.707340e+06  2.510421e+07  1.274645e+08  2.17\n",
       "6   2006  9.106345e+07  8.655613e+06  2.971064e+07  1.376483e+08  2.40\n",
       "7   2007  1.037281e+08  1.019284e+07  3.073087e+07  1.652089e+08  2.72\n",
       "8   2008  1.214773e+08  1.211639e+07  3.793240e+07  1.856839e+08  3.10\n",
       "9   2009  1.290985e+08  1.368980e+07  4.099457e+07  1.966756e+08  3.33\n",
       "10  2010  1.537260e+08  1.640482e+07  4.630963e+07  2.252053e+08  3.88\n",
       "11  2011  1.740683e+08  1.834569e+07  5.214354e+07  2.571223e+08  4.37\n",
       "12  2012  1.917947e+08  2.068443e+07  6.049011e+07  2.856202e+08  4.81\n",
       "13  2013  2.145122e+08  2.379666e+07  6.769484e+07  3.334812e+08  5.33\n",
       "14  2014  2.425534e+08  2.618932e+07  7.684203e+07  3.480842e+08  5.77\n",
       "15  2015  2.490796e+08  2.893029e+07  7.847599e+07  3.769628e+08  5.99\n",
       "16  2016  2.567547e+08  3.158482e+07  8.531004e+07  4.018142e+08  6.26\n",
       "17  2017  2.772702e+08  3.410813e+07  8.954276e+07  4.214979e+08  6.28\n",
       "18  2018  2.982271e+08  3.566618e+07  9.817950e+07  4.400294e+08  7.04\n",
       "19  2019  3.232639e+08  3.935594e+07  9.733994e+07  4.663770e+08  7.10\n",
       "20  2020  3.232639e+08  3.935594e+07  9.733994e+07  4.663770e+08  7.40"
      ]
     },
     "execution_count": 13,
     "metadata": {},
     "output_type": "execute_result"
    }
   ],
   "source": [
    "filename = r'C:\\Users\\vitor\\OneDrive\\Documentos\\INSPER_JR\\Decolagem_I\\regressão\\Dados macros\\PIB_2000_2019.xlsx'\n",
    "pib = pd.read_excel(filename)"
   ]
  },
  {
   "cell_type": "code",
   "execution_count": null,
   "metadata": {},
   "outputs": [],
   "source": []
  }
 ],
 "metadata": {
  "kernelspec": {
   "display_name": "Python 3.9.13 ('base')",
   "language": "python",
   "name": "python3"
  },
  "language_info": {
   "codemirror_mode": {
    "name": "ipython",
    "version": 3
   },
   "file_extension": ".py",
   "mimetype": "text/x-python",
   "name": "python",
   "nbconvert_exporter": "python",
   "pygments_lexer": "ipython3",
   "version": "3.9.13"
  },
  "vscode": {
   "interpreter": {
    "hash": "5fccdd3ec400954df40d5bfaa0cba147dd1f3e548f86c4d189925fade820c7fe"
   }
  }
 },
 "nbformat": 4,
 "nbformat_minor": 2
}

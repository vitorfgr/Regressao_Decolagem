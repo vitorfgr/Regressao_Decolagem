{
 "cells": [
  {
   "cell_type": "markdown",
   "metadata": {},
   "source": [
    "## Biblioteca importadas"
   ]
  },
  {
   "cell_type": "code",
   "execution_count": 2,
   "metadata": {},
   "outputs": [],
   "source": [
    "\n",
    "import numpy as np \n",
    "import pandas as pd\n",
    "import seaborn as sns\n",
    "\n",
    "from sklearn.datasets import load_iris\n",
    "from sklearn.linear_model import LinearRegression\n",
    "from sklearn.ensemble import RandomForestRegressor\n",
    "from sklearn.metrics import mean_squared_error\n",
    "from sklearn.model_selection import train_test_split\n",
    "from sklearn.metrics import r2_score\n",
    "from sklearn.model_selection import GridSearchCV\n",
    "from sklearn.preprocessing import PolynomialFeatures\n",
    "from sklearn.pipeline import Pipeline\n",
    "\n",
    "import matplotlib.pyplot as plt\n",
    "\n",
    "\n"
   ]
  },
  {
   "cell_type": "markdown",
   "metadata": {},
   "source": [
    "## Leitura das bases de dados de cada aeroportos\n"
   ]
  },
  {
   "cell_type": "markdown",
   "metadata": {},
   "source": [
    "#### Frequencia de passageiros no aeroporto CWB"
   ]
  },
  {
   "cell_type": "code",
   "execution_count": 3,
   "metadata": {},
   "outputs": [],
   "source": [
    "#nacional \n",
    "filename = r'C:Passageiros pagos\\cwb_nac.xlsx'\n",
    "cwb_nac = pd.read_excel(filename).drop([\"Unnamed: 0\"],axis=1)\n",
    "\n",
    "#internacional\n",
    "filename = r'C:Passageiros pagos\\cwb_int.xlsx'\n",
    "cwb_int = (pd.read_excel(filename)\n",
    " .drop([\"Unnamed: 0\"],axis=1)\n",
    " .rename(columns ={'Passageiros':'Passageiros internacionais'})\n",
    "          )\n"
   ]
  },
  {
   "cell_type": "markdown",
   "metadata": {},
   "source": [
    "#### Frequencia de passageiros no aeroporto IGU"
   ]
  },
  {
   "cell_type": "code",
   "execution_count": 4,
   "metadata": {},
   "outputs": [],
   "source": [
    "#nacional\n",
    "filename = r'C:Passageiros pagos\\igu_nac.xlsx'\n",
    "igu_nac = pd.read_excel(filename).drop([\"Unnamed: 0\"],axis=1)\n",
    "\n",
    "#internacional\n",
    "filename = r'C:Passageiros pagos\\igu_int.xlsx'\n",
    "igu_int = (pd.read_excel(filename)\n",
    " .drop([\"Unnamed: 0\"],axis=1)\n",
    " .rename(columns ={'Passageiros':'Passageiros internacionais'})\n",
    "          )"
   ]
  },
  {
   "cell_type": "markdown",
   "metadata": {},
   "source": [
    "#### Frequencia de passageiros no aeroporto NVT"
   ]
  },
  {
   "cell_type": "code",
   "execution_count": 5,
   "metadata": {},
   "outputs": [],
   "source": [
    "#nacional\n",
    "filename = r'C:Passageiros pagos\\nvt_nac.xlsx'\n",
    "nvt_nac = pd.read_excel(filename).drop([\"Unnamed: 0\"],axis=1)\n",
    "\n",
    "#internacional\n",
    "filename = r'C:Passageiros pagos\\nvt_int.xlsx'\n",
    "nvt_int = (pd.read_excel(filename)\n",
    " .drop([\"Unnamed: 0\"],axis=1)\n",
    " .rename(columns ={'Passageiros':'Passageiros internacionais'})\n",
    "          )"
   ]
  },
  {
   "cell_type": "markdown",
   "metadata": {},
   "source": [
    "#### Frequencia de passageiros no aeroporto PMW"
   ]
  },
  {
   "cell_type": "code",
   "execution_count": 6,
   "metadata": {},
   "outputs": [],
   "source": [
    "filename = r'C:Passageiros pagos\\pmw.xlsx'\n",
    "pmw = pd.read_excel(filename).drop([\"Unnamed: 0\"],axis=1)"
   ]
  },
  {
   "cell_type": "markdown",
   "metadata": {},
   "source": [
    "#### Frequencia de passageiros no aeroporto SLZ"
   ]
  },
  {
   "cell_type": "code",
   "execution_count": 7,
   "metadata": {},
   "outputs": [],
   "source": [
    "filename = r'C:Passageiros pagos\\slz.xlsx'\n",
    "slz = pd.read_excel(filename).drop([\"Unnamed: 0\"],axis=1)"
   ]
  },
  {
   "cell_type": "markdown",
   "metadata": {},
   "source": [
    "#### Frequencia de passageiros no aeroporto SJO"
   ]
  },
  {
   "cell_type": "code",
   "execution_count": 8,
   "metadata": {},
   "outputs": [],
   "source": [
    "##nacional\n",
    "#filename = r'C:\\Users\\vitor\\OneDrive\\Documentos\\INSPER_JR\\Decolagem_I\\regressão\\Passageiros pagos\\sjo_nac.csv'\n",
    "#dados7 = pd.read_csv(filename)\n",
    "\n",
    "##internacional\n",
    "#filename = r'C:\\Users\\vitor\\OneDrive\\Documentos\\INSPER_JR\\Decolagem_I\\regressão\\Passageiros pagos\\sjo_int.csv'\n",
    "#dados6 = pd.read_csv(filename)\n",
    "\n"
   ]
  },
  {
   "cell_type": "markdown",
   "metadata": {},
   "source": [
    "## Variaveis macro economicas"
   ]
  },
  {
   "cell_type": "markdown",
   "metadata": {},
   "source": [
    "#### Valor do barril de petróleo"
   ]
  },
  {
   "cell_type": "code",
   "execution_count": 9,
   "metadata": {},
   "outputs": [],
   "source": [
    "filename = r'C:Dados macros\\statistic_id262858_opec-oil-price-annually-1960-2022.xlsx'\n",
    "oil = pd.read_excel(filename)"
   ]
  },
  {
   "cell_type": "markdown",
   "metadata": {},
   "source": [
    "#### Cotação do dolar"
   ]
  },
  {
   "cell_type": "code",
   "execution_count": 15,
   "metadata": {},
   "outputs": [
    {
     "data": {
      "text/html": [
       "<div>\n",
       "<style scoped>\n",
       "    .dataframe tbody tr th:only-of-type {\n",
       "        vertical-align: middle;\n",
       "    }\n",
       "\n",
       "    .dataframe tbody tr th {\n",
       "        vertical-align: top;\n",
       "    }\n",
       "\n",
       "    .dataframe thead th {\n",
       "        text-align: right;\n",
       "    }\n",
       "</style>\n",
       "<table border=\"1\" class=\"dataframe\">\n",
       "  <thead>\n",
       "    <tr style=\"text-align: right;\">\n",
       "      <th></th>\n",
       "      <th>Ano</th>\n",
       "      <th>dolar</th>\n",
       "    </tr>\n",
       "  </thead>\n",
       "  <tbody>\n",
       "    <tr>\n",
       "      <td>0</td>\n",
       "      <td>2000</td>\n",
       "      <td>0.000000</td>\n",
       "    </tr>\n",
       "    <tr>\n",
       "      <td>1</td>\n",
       "      <td>2001</td>\n",
       "      <td>0.283438</td>\n",
       "    </tr>\n",
       "    <tr>\n",
       "      <td>2</td>\n",
       "      <td>2002</td>\n",
       "      <td>0.516534</td>\n",
       "    </tr>\n",
       "    <tr>\n",
       "      <td>3</td>\n",
       "      <td>2003</td>\n",
       "      <td>-0.184261</td>\n",
       "    </tr>\n",
       "    <tr>\n",
       "      <td>4</td>\n",
       "      <td>2004</td>\n",
       "      <td>-0.058498</td>\n",
       "    </tr>\n",
       "    <tr>\n",
       "      <td>5</td>\n",
       "      <td>2005</td>\n",
       "      <td>-0.178729</td>\n",
       "    </tr>\n",
       "    <tr>\n",
       "      <td>6</td>\n",
       "      <td>2006</td>\n",
       "      <td>-0.080582</td>\n",
       "    </tr>\n",
       "    <tr>\n",
       "      <td>7</td>\n",
       "      <td>2007</td>\n",
       "      <td>-0.233702</td>\n",
       "    </tr>\n",
       "    <tr>\n",
       "      <td>8</td>\n",
       "      <td>2008</td>\n",
       "      <td>0.473029</td>\n",
       "    </tr>\n",
       "    <tr>\n",
       "      <td>9</td>\n",
       "      <td>2009</td>\n",
       "      <td>-0.347376</td>\n",
       "    </tr>\n",
       "    <tr>\n",
       "      <td>10</td>\n",
       "      <td>2010</td>\n",
       "      <td>-0.058532</td>\n",
       "    </tr>\n",
       "    <tr>\n",
       "      <td>11</td>\n",
       "      <td>2011</td>\n",
       "      <td>0.171984</td>\n",
       "    </tr>\n",
       "    <tr>\n",
       "      <td>12</td>\n",
       "      <td>2012</td>\n",
       "      <td>0.182315</td>\n",
       "    </tr>\n",
       "    <tr>\n",
       "      <td>13</td>\n",
       "      <td>2013</td>\n",
       "      <td>0.155108</td>\n",
       "    </tr>\n",
       "    <tr>\n",
       "      <td>14</td>\n",
       "      <td>2014</td>\n",
       "      <td>0.158612</td>\n",
       "    </tr>\n",
       "    <tr>\n",
       "      <td>15</td>\n",
       "      <td>2015</td>\n",
       "      <td>0.377136</td>\n",
       "    </tr>\n",
       "    <tr>\n",
       "      <td>16</td>\n",
       "      <td>2016</td>\n",
       "      <td>-0.099435</td>\n",
       "    </tr>\n",
       "    <tr>\n",
       "      <td>17</td>\n",
       "      <td>2017</td>\n",
       "      <td>-0.016017</td>\n",
       "    </tr>\n",
       "    <tr>\n",
       "      <td>18</td>\n",
       "      <td>2018</td>\n",
       "      <td>0.136786</td>\n",
       "    </tr>\n",
       "    <tr>\n",
       "      <td>19</td>\n",
       "      <td>2019</td>\n",
       "      <td>0.022380</td>\n",
       "    </tr>\n",
       "    <tr>\n",
       "      <td>20</td>\n",
       "      <td>2020</td>\n",
       "      <td>0.182321</td>\n",
       "    </tr>\n",
       "    <tr>\n",
       "      <td>21</td>\n",
       "      <td>2021</td>\n",
       "      <td>0.043244</td>\n",
       "    </tr>\n",
       "    <tr>\n",
       "      <td>22</td>\n",
       "      <td>2022</td>\n",
       "      <td>-0.018417</td>\n",
       "    </tr>\n",
       "  </tbody>\n",
       "</table>\n",
       "</div>"
      ],
      "text/plain": [
       "     Ano     dolar\n",
       "0   2000  0.000000\n",
       "1   2001  0.283438\n",
       "2   2002  0.516534\n",
       "3   2003 -0.184261\n",
       "4   2004 -0.058498\n",
       "5   2005 -0.178729\n",
       "6   2006 -0.080582\n",
       "7   2007 -0.233702\n",
       "8   2008  0.473029\n",
       "9   2009 -0.347376\n",
       "10  2010 -0.058532\n",
       "11  2011  0.171984\n",
       "12  2012  0.182315\n",
       "13  2013  0.155108\n",
       "14  2014  0.158612\n",
       "15  2015  0.377136\n",
       "16  2016 -0.099435\n",
       "17  2017 -0.016017\n",
       "18  2018  0.136786\n",
       "19  2019  0.022380\n",
       "20  2020  0.182321\n",
       "21  2021  0.043244\n",
       "22  2022 -0.018417"
      ]
     },
     "execution_count": 15,
     "metadata": {},
     "output_type": "execute_result"
    }
   ],
   "source": [
    "filename = r'C:Dados macros\\Base de dados Dólar.xlsx'\n",
    "dolar = pd.read_excel(filename)\n",
    "dolar = dolar.drop([\"valor\"], axis =1)\n"
   ]
  },
  {
   "cell_type": "markdown",
   "metadata": {},
   "source": [
    "#### Inflação do turismo no Brasil"
   ]
  },
  {
   "cell_type": "code",
   "execution_count": 10,
   "metadata": {},
   "outputs": [],
   "source": [
    "filename = r'C:Dados macros\\statistic_id270812_inflation-rate-in-brazil-2027.xlsx'\n",
    "inflacao = pd.read_excel(filename)"
   ]
  },
  {
   "cell_type": "markdown",
   "metadata": {},
   "source": [
    "#### PIB do Brasil e dos Estados dos aeroportos "
   ]
  },
  {
   "cell_type": "code",
   "execution_count": 11,
   "metadata": {},
   "outputs": [],
   "source": [
    "filename = r'C:Dados macros\\PIB_brasil_freq.xlsx'\n",
    "pib = pd.read_excel(filename)"
   ]
  },
  {
   "cell_type": "markdown",
   "metadata": {},
   "source": [
    "## Curitiba"
   ]
  },
  {
   "cell_type": "markdown",
   "metadata": {},
   "source": [
    "##### juntando os pontos macros e uma unico DataFrame"
   ]
  },
  {
   "cell_type": "code",
   "execution_count": 12,
   "metadata": {},
   "outputs": [],
   "source": [
    "principal_cwb =(cwb_nac\n",
    " .join(cwb_int.set_index('Ano'),on='Ano')\n",
    " .join(oil.set_index('Ano'),on='Ano')\n",
    " .join(dolar.set_index('Ano'),on='Ano')\n",
    " .join(inflacao.set_index('Ano'),on='Ano')\n",
    " .join(pib.set_index('Ano'),on='Ano')\n",
    "          )\n"
   ]
  },
  {
   "cell_type": "markdown",
   "metadata": {},
   "source": [
    "#### Correlação entre os dados pré selecionados "
   ]
  },
  {
   "cell_type": "code",
   "execution_count": 13,
   "metadata": {},
   "outputs": [
    {
     "data": {
      "text/html": [
       "<div>\n",
       "<style scoped>\n",
       "    .dataframe tbody tr th:only-of-type {\n",
       "        vertical-align: middle;\n",
       "    }\n",
       "\n",
       "    .dataframe tbody tr th {\n",
       "        vertical-align: top;\n",
       "    }\n",
       "\n",
       "    .dataframe thead th {\n",
       "        text-align: right;\n",
       "    }\n",
       "</style>\n",
       "<table border=\"1\" class=\"dataframe\">\n",
       "  <thead>\n",
       "    <tr style=\"text-align: right;\">\n",
       "      <th></th>\n",
       "      <th>Ano</th>\n",
       "      <th>Passageiros</th>\n",
       "      <th>Passageiros_freq</th>\n",
       "      <th>numero_de_passageiros</th>\n",
       "      <th>Passageiros internacionais</th>\n",
       "      <th>Oil</th>\n",
       "      <th>dolar</th>\n",
       "      <th>inflacao</th>\n",
       "      <th>PIB REAL BRASIL</th>\n",
       "    </tr>\n",
       "  </thead>\n",
       "  <tbody>\n",
       "    <tr>\n",
       "      <td>Ano</td>\n",
       "      <td>1.000000</td>\n",
       "      <td>-0.296982</td>\n",
       "      <td>-0.368920</td>\n",
       "      <td>0.825633</td>\n",
       "      <td>0.537493</td>\n",
       "      <td>0.498046</td>\n",
       "      <td>0.462911</td>\n",
       "      <td>-0.379601</td>\n",
       "      <td>-0.313397</td>\n",
       "    </tr>\n",
       "    <tr>\n",
       "      <td>Passageiros</td>\n",
       "      <td>-0.296982</td>\n",
       "      <td>1.000000</td>\n",
       "      <td>0.092457</td>\n",
       "      <td>-0.063254</td>\n",
       "      <td>0.159826</td>\n",
       "      <td>0.090478</td>\n",
       "      <td>-0.393514</td>\n",
       "      <td>-0.353917</td>\n",
       "      <td>0.498017</td>\n",
       "    </tr>\n",
       "    <tr>\n",
       "      <td>Passageiros_freq</td>\n",
       "      <td>-0.368920</td>\n",
       "      <td>0.092457</td>\n",
       "      <td>1.000000</td>\n",
       "      <td>-0.422203</td>\n",
       "      <td>-0.114829</td>\n",
       "      <td>-0.073021</td>\n",
       "      <td>-0.530997</td>\n",
       "      <td>-0.222893</td>\n",
       "      <td>0.431608</td>\n",
       "    </tr>\n",
       "    <tr>\n",
       "      <td>numero_de_passageiros</td>\n",
       "      <td>0.825633</td>\n",
       "      <td>-0.063254</td>\n",
       "      <td>-0.422203</td>\n",
       "      <td>1.000000</td>\n",
       "      <td>0.747097</td>\n",
       "      <td>0.757172</td>\n",
       "      <td>0.089808</td>\n",
       "      <td>-0.283610</td>\n",
       "      <td>-0.192897</td>\n",
       "    </tr>\n",
       "    <tr>\n",
       "      <td>Passageiros internacionais</td>\n",
       "      <td>0.537493</td>\n",
       "      <td>0.159826</td>\n",
       "      <td>-0.114829</td>\n",
       "      <td>0.747097</td>\n",
       "      <td>1.000000</td>\n",
       "      <td>0.769081</td>\n",
       "      <td>-0.233850</td>\n",
       "      <td>-0.354779</td>\n",
       "      <td>0.176821</td>\n",
       "    </tr>\n",
       "    <tr>\n",
       "      <td>Oil</td>\n",
       "      <td>0.498046</td>\n",
       "      <td>0.090478</td>\n",
       "      <td>-0.073021</td>\n",
       "      <td>0.757172</td>\n",
       "      <td>0.769081</td>\n",
       "      <td>1.000000</td>\n",
       "      <td>-0.336762</td>\n",
       "      <td>-0.422720</td>\n",
       "      <td>0.289631</td>\n",
       "    </tr>\n",
       "    <tr>\n",
       "      <td>dolar</td>\n",
       "      <td>0.462911</td>\n",
       "      <td>-0.393514</td>\n",
       "      <td>-0.530997</td>\n",
       "      <td>0.089808</td>\n",
       "      <td>-0.233850</td>\n",
       "      <td>-0.336762</td>\n",
       "      <td>1.000000</td>\n",
       "      <td>0.166638</td>\n",
       "      <td>-0.483029</td>\n",
       "    </tr>\n",
       "    <tr>\n",
       "      <td>inflacao</td>\n",
       "      <td>-0.379601</td>\n",
       "      <td>-0.353917</td>\n",
       "      <td>-0.222893</td>\n",
       "      <td>-0.283610</td>\n",
       "      <td>-0.354779</td>\n",
       "      <td>-0.422720</td>\n",
       "      <td>0.166638</td>\n",
       "      <td>1.000000</td>\n",
       "      <td>-0.353883</td>\n",
       "    </tr>\n",
       "    <tr>\n",
       "      <td>PIB REAL BRASIL</td>\n",
       "      <td>-0.313397</td>\n",
       "      <td>0.498017</td>\n",
       "      <td>0.431608</td>\n",
       "      <td>-0.192897</td>\n",
       "      <td>0.176821</td>\n",
       "      <td>0.289631</td>\n",
       "      <td>-0.483029</td>\n",
       "      <td>-0.353883</td>\n",
       "      <td>1.000000</td>\n",
       "    </tr>\n",
       "  </tbody>\n",
       "</table>\n",
       "</div>"
      ],
      "text/plain": [
       "                                 Ano  Passageiros  Passageiros_freq  \\\n",
       "Ano                         1.000000    -0.296982         -0.368920   \n",
       "Passageiros                -0.296982     1.000000          0.092457   \n",
       "Passageiros_freq           -0.368920     0.092457          1.000000   \n",
       "numero_de_passageiros       0.825633    -0.063254         -0.422203   \n",
       "Passageiros internacionais  0.537493     0.159826         -0.114829   \n",
       "Oil                         0.498046     0.090478         -0.073021   \n",
       "dolar                       0.462911    -0.393514         -0.530997   \n",
       "inflacao                   -0.379601    -0.353917         -0.222893   \n",
       "PIB REAL BRASIL            -0.313397     0.498017          0.431608   \n",
       "\n",
       "                            numero_de_passageiros  Passageiros internacionais  \\\n",
       "Ano                                      0.825633                    0.537493   \n",
       "Passageiros                             -0.063254                    0.159826   \n",
       "Passageiros_freq                        -0.422203                   -0.114829   \n",
       "numero_de_passageiros                    1.000000                    0.747097   \n",
       "Passageiros internacionais               0.747097                    1.000000   \n",
       "Oil                                      0.757172                    0.769081   \n",
       "dolar                                    0.089808                   -0.233850   \n",
       "inflacao                                -0.283610                   -0.354779   \n",
       "PIB REAL BRASIL                         -0.192897                    0.176821   \n",
       "\n",
       "                                 Oil     dolar  inflacao  PIB REAL BRASIL  \n",
       "Ano                         0.498046  0.462911 -0.379601        -0.313397  \n",
       "Passageiros                 0.090478 -0.393514 -0.353917         0.498017  \n",
       "Passageiros_freq           -0.073021 -0.530997 -0.222893         0.431608  \n",
       "numero_de_passageiros       0.757172  0.089808 -0.283610        -0.192897  \n",
       "Passageiros internacionais  0.769081 -0.233850 -0.354779         0.176821  \n",
       "Oil                         1.000000 -0.336762 -0.422720         0.289631  \n",
       "dolar                      -0.336762  1.000000  0.166638        -0.483029  \n",
       "inflacao                   -0.422720  0.166638  1.000000        -0.353883  \n",
       "PIB REAL BRASIL             0.289631 -0.483029 -0.353883         1.000000  "
      ]
     },
     "execution_count": 13,
     "metadata": {},
     "output_type": "execute_result"
    }
   ],
   "source": [
    "principal_cwb.loc[principal_cwb[\"Ano\"] == 2019, \"Passageiros_freq\"] = 0 \n",
    "principal_cwb = principal_cwb.loc[principal_cwb[\"Ano\"]<2020]\n",
    "\n",
    "principal_cwb.corr()\n"
   ]
  },
  {
   "cell_type": "markdown",
   "metadata": {},
   "source": [
    "#### Análise grafica"
   ]
  },
  {
   "cell_type": "code",
   "execution_count": 14,
   "metadata": {},
   "outputs": [
    {
     "data": {
      "image/png": "[encoded data removed]",
      "text/plain": [
       "<Figure size 1080x1080 with 8 Axes>"
      ]
     },
     "metadata": {
      "needs_background": "light"
     },
     "output_type": "display_data"
    }
   ],
   "source": [
    "fig, ax = plt.subplots(4,2)\n",
    "\n",
    "fig.set_size_inches(15,15)\n",
    "\n",
    "\n",
    "\n",
    "ax[0,0].plot(principal_cwb[\"Ano\"], principal_cwb[\"Passageiros\"],\"g\", label='Passageiros nacionais')\n",
    "ax[0,0].legend()\n",
    "\n",
    "ax[0,1].plot(principal_cwb[\"Ano\"], principal_cwb[\"Passageiros internacionais\"],\"g\", label = 'Passageiros internacionais' )\n",
    "ax[0,1].legend()\n",
    "\n",
    "\n",
    "ax[1,0].plot(principal_cwb[\"Ano\"], principal_cwb[\"dolar\"], label = 'Cambio' )\n",
    "ax[1,0].legend()\n",
    "\n",
    "ax[1,1].plot(principal_cwb[\"Ano\"], principal_cwb[\"inflacao\"], label='Inflação')\n",
    "ax[1,1].legend()\n",
    "\n",
    "#ax[2,0].plot(principal[\"Ano\"], principal[\"PIB REAL PR\"],\"c\", label = 'PIB PR' )\n",
    "#ax[2,0].legend()\n",
    "\n",
    "#ax[2,1].plot(principal[\"Ano\"], principal[\"PIB REAL SP\"],\"c\", label = 'PIB SP ' )\n",
    "#ax[2,1].legend()\n",
    "\n",
    "ax[3,0].plot(principal_cwb[\"Ano\"], principal_cwb[\"PIB REAL BRASIL\"],\"m\", label = 'PIB Brasil' )\n",
    "ax[3,0].legend()\n",
    "\n",
    "ax[3,1].plot(principal_cwb[\"Ano\"], principal_cwb[\"Oil\"],\"m\", label='Petroleo')\n",
    "ax[3,1].legend()\n",
    "\n",
    "plt.show()"
   ]
  },
  {
   "cell_type": "markdown",
   "metadata": {},
   "source": [
    "#### Dividindo a base de dados em treinamento e teste"
   ]
  },
  {
   "cell_type": "code",
   "execution_count": 15,
   "metadata": {},
   "outputs": [],
   "source": [
    "treino = principal_cwb.loc[principal_cwb[\"Ano\"] < 2017]\n",
    "teste = principal_cwb.loc[principal_cwb[\"Ano\"] >= 2000]"
   ]
  },
  {
   "cell_type": "code",
   "execution_count": 17,
   "metadata": {},
   "outputs": [],
   "source": [
    "y_train= treino[\"Passageiros\"].copy()\n",
    "y_test= teste[\"Passageiros\"].copy()\n",
    "\n",
    "X_train = treino.drop([\"Passageiros\", \"Passageiros internacionais\",\"Ano\",\"numero_de_passageiros\",\"Oil\"],axis=1).copy()\n",
    "X_test = teste.drop([\"Passageiros\", \"Passageiros internacionais\",\"Ano\", \"numero_de_passageiros\",\"Oil\"],axis=1).copy()"
   ]
  },
  {
   "cell_type": "code",
   "execution_count": 18,
   "metadata": {},
   "outputs": [
    {
     "name": "stdout",
     "output_type": "stream",
     "text": [
      "Coeficiente da regressão linear: [-4.98812065e-01 -1.63304931e-03 -4.96795192e-02 -2.28832654e-02\n",
      "  1.72120198e+00]\n",
      "0.4190908701366786\n",
      "{'copy_X': True, 'fit_intercept': True, 'n_jobs': None, 'normalize': 'deprecated', 'positive': False}\n",
      "O erro do modelo sem ajuste foi: 0.08043747705890643\n"
     ]
    }
   ],
   "source": [
    "reg= LinearRegression()\n",
    "reg.fit(X_train, y_train)\n",
    "YpredL= reg.predict(X_test)\n",
    "erro = np.sqrt(mean_squared_error(y_test, YpredL))\n",
    "\n",
    "\n",
    "print(f\"Coeficiente da regressão linear: {reg.coef_}\")\n",
    "print(reg.intercept_)\n",
    "print(reg.get_params())\n",
    "print(f\"O erro do modelo sem ajuste foi: {erro}\")"
   ]
  },
  {
   "cell_type": "code",
   "execution_count": 20,
   "metadata": {},
   "outputs": [
    {
     "data": {
      "text/html": [
       "<div>\n",
       "<style scoped>\n",
       "    .dataframe tbody tr th:only-of-type {\n",
       "        vertical-align: middle;\n",
       "    }\n",
       "\n",
       "    .dataframe tbody tr th {\n",
       "        vertical-align: top;\n",
       "    }\n",
       "\n",
       "    .dataframe thead th {\n",
       "        text-align: right;\n",
       "    }\n",
       "</style>\n",
       "<table border=\"1\" class=\"dataframe\">\n",
       "  <thead>\n",
       "    <tr style=\"text-align: right;\">\n",
       "      <th></th>\n",
       "      <th>Ano</th>\n",
       "      <th>Passageiros</th>\n",
       "      <th>Passageiros_freq</th>\n",
       "      <th>numero_de_passageiros</th>\n",
       "      <th>Passageiros internacionais</th>\n",
       "      <th>Oil</th>\n",
       "      <th>dolar</th>\n",
       "      <th>inflacao</th>\n",
       "      <th>PIB REAL BRASIL</th>\n",
       "    </tr>\n",
       "  </thead>\n",
       "  <tbody>\n",
       "    <tr>\n",
       "      <td>0</td>\n",
       "      <td>2000</td>\n",
       "      <td>0.000000</td>\n",
       "      <td>0.072882</td>\n",
       "      <td>2981167</td>\n",
       "      <td>329</td>\n",
       "      <td>27.60</td>\n",
       "      <td>1.9678</td>\n",
       "      <td>7.04</td>\n",
       "      <td>0.000000</td>\n",
       "    </tr>\n",
       "    <tr>\n",
       "      <td>1</td>\n",
       "      <td>2001</td>\n",
       "      <td>0.072882</td>\n",
       "      <td>0.207066</td>\n",
       "      <td>3198439</td>\n",
       "      <td>581</td>\n",
       "      <td>23.12</td>\n",
       "      <td>2.3840</td>\n",
       "      <td>6.84</td>\n",
       "      <td>0.013899</td>\n",
       "    </tr>\n",
       "    <tr>\n",
       "      <td>2</td>\n",
       "      <td>2002</td>\n",
       "      <td>0.207066</td>\n",
       "      <td>-0.140686</td>\n",
       "      <td>3860727</td>\n",
       "      <td>20</td>\n",
       "      <td>24.36</td>\n",
       "      <td>3.7342</td>\n",
       "      <td>8.45</td>\n",
       "      <td>0.030535</td>\n",
       "    </tr>\n",
       "    <tr>\n",
       "      <td>3</td>\n",
       "      <td>2003</td>\n",
       "      <td>-0.140686</td>\n",
       "      <td>0.007247</td>\n",
       "      <td>3317577</td>\n",
       "      <td>29211</td>\n",
       "      <td>28.10</td>\n",
       "      <td>2.9293</td>\n",
       "      <td>14.71</td>\n",
       "      <td>0.011408</td>\n",
       "    </tr>\n",
       "    <tr>\n",
       "      <td>4</td>\n",
       "      <td>2004</td>\n",
       "      <td>0.007247</td>\n",
       "      <td>0.228481</td>\n",
       "      <td>3341621</td>\n",
       "      <td>54979</td>\n",
       "      <td>36.05</td>\n",
       "      <td>2.7508</td>\n",
       "      <td>6.60</td>\n",
       "      <td>0.057600</td>\n",
       "    </tr>\n",
       "    <tr>\n",
       "      <td>5</td>\n",
       "      <td>2005</td>\n",
       "      <td>0.228481</td>\n",
       "      <td>0.030291</td>\n",
       "      <td>4105119</td>\n",
       "      <td>60198</td>\n",
       "      <td>50.59</td>\n",
       "      <td>2.2957</td>\n",
       "      <td>6.87</td>\n",
       "      <td>0.032021</td>\n",
       "    </tr>\n",
       "    <tr>\n",
       "      <td>6</td>\n",
       "      <td>2006</td>\n",
       "      <td>0.030291</td>\n",
       "      <td>0.100356</td>\n",
       "      <td>4229466</td>\n",
       "      <td>93446</td>\n",
       "      <td>61.00</td>\n",
       "      <td>2.1470</td>\n",
       "      <td>4.18</td>\n",
       "      <td>0.039620</td>\n",
       "    </tr>\n",
       "    <tr>\n",
       "      <td>7</td>\n",
       "      <td>2007</td>\n",
       "      <td>0.100356</td>\n",
       "      <td>0.058857</td>\n",
       "      <td>4653920</td>\n",
       "      <td>96927</td>\n",
       "      <td>69.04</td>\n",
       "      <td>1.7959</td>\n",
       "      <td>3.64</td>\n",
       "      <td>0.060699</td>\n",
       "    </tr>\n",
       "    <tr>\n",
       "      <td>8</td>\n",
       "      <td>2008</td>\n",
       "      <td>0.058857</td>\n",
       "      <td>0.173340</td>\n",
       "      <td>4927837</td>\n",
       "      <td>91231</td>\n",
       "      <td>94.10</td>\n",
       "      <td>2.3690</td>\n",
       "      <td>5.68</td>\n",
       "      <td>0.050942</td>\n",
       "    </tr>\n",
       "    <tr>\n",
       "      <td>9</td>\n",
       "      <td>2009</td>\n",
       "      <td>0.173340</td>\n",
       "      <td>0.181015</td>\n",
       "      <td>5782028</td>\n",
       "      <td>93952</td>\n",
       "      <td>60.86</td>\n",
       "      <td>1.7557</td>\n",
       "      <td>4.89</td>\n",
       "      <td>-0.001258</td>\n",
       "    </tr>\n",
       "    <tr>\n",
       "      <td>10</td>\n",
       "      <td>2010</td>\n",
       "      <td>0.181015</td>\n",
       "      <td>0.166882</td>\n",
       "      <td>6828663</td>\n",
       "      <td>127146</td>\n",
       "      <td>77.38</td>\n",
       "      <td>1.6988</td>\n",
       "      <td>5.04</td>\n",
       "      <td>0.075282</td>\n",
       "    </tr>\n",
       "    <tr>\n",
       "      <td>11</td>\n",
       "      <td>2011</td>\n",
       "      <td>0.166882</td>\n",
       "      <td>-0.034612</td>\n",
       "      <td>7968244</td>\n",
       "      <td>132891</td>\n",
       "      <td>107.46</td>\n",
       "      <td>1.8609</td>\n",
       "      <td>6.64</td>\n",
       "      <td>0.039744</td>\n",
       "    </tr>\n",
       "    <tr>\n",
       "      <td>12</td>\n",
       "      <td>2012</td>\n",
       "      <td>-0.034612</td>\n",
       "      <td>-0.041118</td>\n",
       "      <td>7692451</td>\n",
       "      <td>109473</td>\n",
       "      <td>109.45</td>\n",
       "      <td>2.0840</td>\n",
       "      <td>5.40</td>\n",
       "      <td>0.019212</td>\n",
       "    </tr>\n",
       "    <tr>\n",
       "      <td>13</td>\n",
       "      <td>2013</td>\n",
       "      <td>-0.041118</td>\n",
       "      <td>0.058173</td>\n",
       "      <td>7376152</td>\n",
       "      <td>65552</td>\n",
       "      <td>105.87</td>\n",
       "      <td>2.3354</td>\n",
       "      <td>6.20</td>\n",
       "      <td>0.030048</td>\n",
       "    </tr>\n",
       "    <tr>\n",
       "      <td>14</td>\n",
       "      <td>2014</td>\n",
       "      <td>0.058173</td>\n",
       "      <td>-0.037602</td>\n",
       "      <td>7805243</td>\n",
       "      <td>130960</td>\n",
       "      <td>96.29</td>\n",
       "      <td>2.6717</td>\n",
       "      <td>6.33</td>\n",
       "      <td>0.005040</td>\n",
       "    </tr>\n",
       "    <tr>\n",
       "      <td>15</td>\n",
       "      <td>2015</td>\n",
       "      <td>-0.037602</td>\n",
       "      <td>-0.161946</td>\n",
       "      <td>7511752</td>\n",
       "      <td>124619</td>\n",
       "      <td>49.49</td>\n",
       "      <td>3.8703</td>\n",
       "      <td>9.03</td>\n",
       "      <td>-0.035458</td>\n",
       "    </tr>\n",
       "    <tr>\n",
       "      <td>16</td>\n",
       "      <td>2016</td>\n",
       "      <td>-0.161946</td>\n",
       "      <td>0.045379</td>\n",
       "      <td>6295255</td>\n",
       "      <td>44461</td>\n",
       "      <td>40.76</td>\n",
       "      <td>3.3830</td>\n",
       "      <td>8.74</td>\n",
       "      <td>-0.032759</td>\n",
       "    </tr>\n",
       "    <tr>\n",
       "      <td>17</td>\n",
       "      <td>2017</td>\n",
       "      <td>0.045379</td>\n",
       "      <td>-0.057875</td>\n",
       "      <td>6580928</td>\n",
       "      <td>54011</td>\n",
       "      <td>52.51</td>\n",
       "      <td>3.3176</td>\n",
       "      <td>3.45</td>\n",
       "      <td>0.013229</td>\n",
       "    </tr>\n",
       "    <tr>\n",
       "      <td>18</td>\n",
       "      <td>2018</td>\n",
       "      <td>-0.057875</td>\n",
       "      <td>0.026592</td>\n",
       "      <td>6200060</td>\n",
       "      <td>75901</td>\n",
       "      <td>69.78</td>\n",
       "      <td>3.9090</td>\n",
       "      <td>3.67</td>\n",
       "      <td>0.017837</td>\n",
       "    </tr>\n",
       "    <tr>\n",
       "      <td>19</td>\n",
       "      <td>2019</td>\n",
       "      <td>0.026592</td>\n",
       "      <td>0.000000</td>\n",
       "      <td>6364930</td>\n",
       "      <td>78266</td>\n",
       "      <td>64.04</td>\n",
       "      <td>4.0301</td>\n",
       "      <td>3.73</td>\n",
       "      <td>0.014112</td>\n",
       "    </tr>\n",
       "  </tbody>\n",
       "</table>\n",
       "</div>"
      ],
      "text/plain": [
       "     Ano  Passageiros  Passageiros_freq  numero_de_passageiros  \\\n",
       "0   2000     0.000000          0.072882                2981167   \n",
       "1   2001     0.072882          0.207066                3198439   \n",
       "2   2002     0.207066         -0.140686                3860727   \n",
       "3   2003    -0.140686          0.007247                3317577   \n",
       "4   2004     0.007247          0.228481                3341621   \n",
       "5   2005     0.228481          0.030291                4105119   \n",
       "6   2006     0.030291          0.100356                4229466   \n",
       "7   2007     0.100356          0.058857                4653920   \n",
       "8   2008     0.058857          0.173340                4927837   \n",
       "9   2009     0.173340          0.181015                5782028   \n",
       "10  2010     0.181015          0.166882                6828663   \n",
       "11  2011     0.166882         -0.034612                7968244   \n",
       "12  2012    -0.034612         -0.041118                7692451   \n",
       "13  2013    -0.041118          0.058173                7376152   \n",
       "14  2014     0.058173         -0.037602                7805243   \n",
       "15  2015    -0.037602         -0.161946                7511752   \n",
       "16  2016    -0.161946          0.045379                6295255   \n",
       "17  2017     0.045379         -0.057875                6580928   \n",
       "18  2018    -0.057875          0.026592                6200060   \n",
       "19  2019     0.026592          0.000000                6364930   \n",
       "\n",
       "    Passageiros internacionais     Oil   dolar  inflacao  PIB REAL BRASIL  \n",
       "0                          329   27.60  1.9678      7.04         0.000000  \n",
       "1                          581   23.12  2.3840      6.84         0.013899  \n",
       "2                           20   24.36  3.7342      8.45         0.030535  \n",
       "3                        29211   28.10  2.9293     14.71         0.011408  \n",
       "4                        54979   36.05  2.7508      6.60         0.057600  \n",
       "5                        60198   50.59  2.2957      6.87         0.032021  \n",
       "6                        93446   61.00  2.1470      4.18         0.039620  \n",
       "7                        96927   69.04  1.7959      3.64         0.060699  \n",
       "8                        91231   94.10  2.3690      5.68         0.050942  \n",
       "9                        93952   60.86  1.7557      4.89        -0.001258  \n",
       "10                      127146   77.38  1.6988      5.04         0.075282  \n",
       "11                      132891  107.46  1.8609      6.64         0.039744  \n",
       "12                      109473  109.45  2.0840      5.40         0.019212  \n",
       "13                       65552  105.87  2.3354      6.20         0.030048  \n",
       "14                      130960   96.29  2.6717      6.33         0.005040  \n",
       "15                      124619   49.49  3.8703      9.03        -0.035458  \n",
       "16                       44461   40.76  3.3830      8.74        -0.032759  \n",
       "17                       54011   52.51  3.3176      3.45         0.013229  \n",
       "18                       75901   69.78  3.9090      3.67         0.017837  \n",
       "19                       78266   64.04  4.0301      3.73         0.014112  "
      ]
     },
     "execution_count": 20,
     "metadata": {},
     "output_type": "execute_result"
    }
   ],
   "source": [
    "principal_cwb"
   ]
  },
  {
   "cell_type": "code",
   "execution_count": 19,
   "metadata": {},
   "outputs": [
    {
     "data": {
      "image/png": "[encoded data removed]",
      "text/plain": [
       "<Figure size 432x288 with 1 Axes>"
      ]
     },
     "metadata": {
      "needs_background": "light"
     },
     "output_type": "display_data"
    }
   ],
   "source": [
    "ano_lista = np.arange(2000,2020,1)\n",
    "\n",
    "\n",
    "plt.plot(ano_lista, YpredL,'--r', label='Predito')\n",
    "plt.plot(ano_lista, principal_cwb[\"Passageiros\"], label = 'Verdadeiro' )\n",
    "plt.legend()\n",
    "plt.show()\n"
   ]
  },
  {
   "cell_type": "code",
   "execution_count": 21,
   "metadata": {},
   "outputs": [
    {
     "name": "stdout",
     "output_type": "stream",
     "text": [
      "{'poly__degree': 1}\n"
     ]
    }
   ],
   "source": [
    "pipe = Pipeline([\n",
    "    ('poly', PolynomialFeatures(degree=1)),\n",
    "    ('lin_reg', LinearRegression())\n",
    "    #('lin_reg', Ridge(alpha=ALPHA))\n",
    "])\n",
    "\n",
    "params = {\n",
    "    'poly__degree': [1,2,3]\n",
    "}\n",
    "\n",
    "clf_pipe = GridSearchCV(pipe, params, cv=3, n_jobs=-1)\n",
    "\n",
    "clf_pipe.fit(X_train, y_train)\n",
    "\n",
    "print(clf_pipe.best_params_)"
   ]
  },
  {
   "cell_type": "code",
   "execution_count": 22,
   "metadata": {},
   "outputs": [],
   "source": [
    "y_pred_pipeline = clf_pipe.predict(X_train)"
   ]
  },
  {
   "cell_type": "code",
   "execution_count": 23,
   "metadata": {},
   "outputs": [
    {
     "name": "stdout",
     "output_type": "stream",
     "text": [
      "O erro do modelo com ajuste foi: 0.08009224432818128\n"
     ]
    }
   ],
   "source": [
    "erro = np.sqrt(mean_squared_error(y_train, y_pred_pipeline))\n",
    "\n",
    "print(f\"O erro do modelo com ajuste foi: {erro}\")"
   ]
  },
  {
   "cell_type": "code",
   "execution_count": 24,
   "metadata": {},
   "outputs": [
    {
     "name": "stdout",
     "output_type": "stream",
     "text": [
      "RMSE = 0.08043747705890641\n"
     ]
    }
   ],
   "source": [
    "final_model = clf_pipe.best_estimator_\n",
    "\n",
    "final_predictions = final_model.predict(X_test)\n",
    "\n",
    "final_mse = mean_squared_error(y_test, final_predictions)\n",
    "final_rmse = np.sqrt(final_mse)\n",
    "\n",
    "print(f'RMSE = {final_rmse}')"
   ]
  },
  {
   "cell_type": "code",
   "execution_count": 25,
   "metadata": {},
   "outputs": [],
   "source": [
    "#ano_lista = np.arange(2017,2020,1)\n",
    "#\n",
    "#\n",
    "#plt.plot(ano_lista,final_predictions ,'--r', label='Predito')\n",
    "#plt.plot(ano_lista, y_test, label = 'Verdadeiro' )\n",
    "#plt.legend()\n",
    "#plt.show()"
   ]
  },
  {
   "cell_type": "code",
   "execution_count": 38,
   "metadata": {},
   "outputs": [
    {
     "name": "stdout",
     "output_type": "stream",
     "text": [
      "                            OLS Regression Results                            \n",
      "==============================================================================\n",
      "Dep. Variable:            Passageiros   R-squared:                       0.479\n",
      "Model:                            OLS   Adj. R-squared:                  0.293\n",
      "Method:                 Least Squares   F-statistic:                     2.574\n",
      "Date:                Fri, 18 Nov 2022   Prob (F-statistic):             0.0748\n",
      "Time:                        12:32:26   Log-Likelihood:                 22.952\n",
      "No. Observations:                  20   AIC:                            -33.90\n",
      "Df Residuals:                      14   BIC:                            -27.93\n",
      "Df Model:                           5                                         \n",
      "Covariance Type:            nonrobust                                         \n",
      "====================================================================================\n",
      "                       coef    std err          t      P>|t|      [0.025      0.975]\n",
      "------------------------------------------------------------------------------------\n",
      "const                0.4227      0.178      2.369      0.033       0.040       0.806\n",
      "Passageiros_freq    -0.4887      0.261     -1.871      0.082      -1.049       0.071\n",
      "Oil                 -0.0016      0.001     -1.668      0.117      -0.004       0.000\n",
      "dolar               -0.0714      0.037     -1.929      0.074      -0.151       0.008\n",
      "inflacao            -0.0167      0.010     -1.721      0.107      -0.037       0.004\n",
      "PIB REAL BRASIL      1.6966      0.921      1.843      0.087      -0.278       3.671\n",
      "==============================================================================\n",
      "Omnibus:                        3.283   Durbin-Watson:                   1.970\n",
      "Prob(Omnibus):                  0.194   Jarque-Bera (JB):                1.489\n",
      "Skew:                           0.294   Prob(JB):                        0.475\n",
      "Kurtosis:                       1.799   Cond. No.                     3.09e+03\n",
      "==============================================================================\n",
      "\n",
      "Warnings:\n",
      "[1] Standard Errors assume that the covariance matrix of the errors is correctly specified.\n",
      "[2] The condition number is large, 3.09e+03. This might indicate that there are\n",
      "strong multicollinearity or other numerical problems.\n"
     ]
    }
   ],
   "source": [
    "import statsmodels.api as sm\n",
    "\n",
    "#define response variable\n",
    "y = principal_cwb[\"Passageiros\"].loc[principal_cwb[\"Ano\"]<2020]\n",
    "\n",
    "#define predictor variables\n",
    "x = principal_cwb.drop([\"Passageiros\", \"Passageiros internacionais\",\"Ano\", \"numero_de_passageiros\"],axis=1).loc[principal_cwb[\"Ano\"]<2020]\n",
    "\n",
    "#add constant to predictor variables\n",
    "x = sm.add_constant(x)\n",
    "\n",
    "#fit linear regression model\n",
    "model = sm.OLS(y, x).fit()\n",
    "\n",
    "#view model summary\n",
    "print(model.summary())"
   ]
  },
  {
   "cell_type": "code",
   "execution_count": 34,
   "metadata": {},
   "outputs": [
    {
     "data": {
      "text/plain": [
       "0     0.027580\n",
       "1    -0.008861\n",
       "2     0.043391\n",
       "3    -0.053190\n",
       "4     0.035748\n",
       "5     0.074995\n",
       "6     0.098002\n",
       "7     0.163162\n",
       "8     0.068536\n",
       "9     0.023606\n",
       "10    0.143551\n",
       "11    0.128008\n",
       "12    0.101005\n",
       "13    0.068321\n",
       "14    0.043055\n",
       "15   -0.060779\n",
       "16   -0.093943\n",
       "17    0.059709\n",
       "18    0.012259\n",
       "19    0.008570\n",
       "dtype: float64"
      ]
     },
     "execution_count": 34,
     "metadata": {},
     "output_type": "execute_result"
    }
   ],
   "source": [
    "ypred = model.predict(x)\n",
    "\n",
    "\n"
   ]
  },
  {
   "cell_type": "code",
   "execution_count": 37,
   "metadata": {},
   "outputs": [
    {
     "data": {
      "image/png": "[encoded data removed]",
      "text/plain": [
       "<Figure size 432x288 with 1 Axes>"
      ]
     },
     "metadata": {
      "needs_background": "light"
     },
     "output_type": "display_data"
    }
   ],
   "source": [
    "ano_lista = np.arange(2000,2020,1)\n",
    "\n",
    "\n",
    "plt.plot(ano_lista,ypred,'--r', label='Predito')\n",
    "plt.plot(ano_lista, principal_cwb[\"Passageiros\"], label = 'Verdadeiro' )\n",
    "plt.legend()\n",
    "plt.show()"
   ]
  },
  {
   "cell_type": "markdown",
   "metadata": {},
   "source": [
    "## Foz do Iguaçu"
   ]
  },
  {
   "cell_type": "markdown",
   "metadata": {},
   "source": [
    "##### juntando os pontos macros e uma unico DataFrame"
   ]
  },
  {
   "cell_type": "code",
   "execution_count": null,
   "metadata": {},
   "outputs": [],
   "source": [
    "principal_igu =(igu_nac\n",
    " .join(igu_int.set_index('Ano'),on='Ano')\n",
    " .join(oil.set_index('Ano'),on='Ano')\n",
    " .join(dolar.set_index('Ano'),on='Ano')\n",
    " .join(inflacao.set_index('Ano'),on='Ano')\n",
    " .join(pib.set_index('Ano'),on='Ano')\n",
    "          )"
   ]
  },
  {
   "cell_type": "markdown",
   "metadata": {},
   "source": [
    "##### Correlação entre os dados pré selecionados "
   ]
  },
  {
   "cell_type": "code",
   "execution_count": null,
   "metadata": {},
   "outputs": [],
   "source": [
    "principal_igu.loc[principal_igu[\"Ano\"] == 2019, \"Passageiros_freq\"] = 0 \n",
    "principal_igu = principal_igu.loc[principal_igu[\"Ano\"]<2020]\n",
    "\n",
    "principal_igu.corr()\n",
    "principal_igu"
   ]
  },
  {
   "cell_type": "markdown",
   "metadata": {},
   "source": [
    "##### Análise grafica"
   ]
  },
  {
   "cell_type": "code",
   "execution_count": null,
   "metadata": {},
   "outputs": [],
   "source": [
    "fig, ax = plt.subplots(4,2)\n",
    "\n",
    "fig.set_size_inches(15,15)\n",
    "\n",
    "\n",
    "\n",
    "ax[0,0].plot(principal_igu[\"Ano\"], principal_igu[\"Passageiros\"],\"g\", label='Passageiros nacionais')\n",
    "ax[0,0].legend()\n",
    "\n",
    "ax[0,1].plot(principal_igu[\"Ano\"], principal_igu[\"Passageiros internacionais\"],\"g\", label = 'Passageiros internacionais' )\n",
    "ax[0,1].legend()\n",
    "\n",
    "\n",
    "ax[1,0].plot(principal_igu[\"Ano\"], principal_igu[\"dolar\"], label = 'Cambio' )\n",
    "ax[1,0].legend()\n",
    "\n",
    "ax[1,1].plot(principal_igu[\"Ano\"], principal_igu[\"inflacao\"], label='Inflação')\n",
    "ax[1,1].legend()\n",
    "\n",
    "#ax[2,0].plot(principal[\"Ano\"], principal[\"PIB REAL PR\"],\"c\", label = 'PIB PR' )\n",
    "#ax[2,0].legend()\n",
    "#\n",
    "#ax[2,1].plot(principal[\"Ano\"], principal[\"PIB REAL SP\"],\"c\", label = 'PIB SP ' )\n",
    "#ax[2,1].legend()\n",
    "#\n",
    "ax[3,0].plot(principal_igu[\"Ano\"], principal_igu[\"PIB REAL BRASIL\"],\"m\", label = 'PIB Brasil' )\n",
    "ax[3,0].legend()\n",
    "\n",
    "ax[3,1].plot(principal_igu[\"Ano\"], principal_igu[\"Oil\"],\"m\", label='Petroleo')\n",
    "ax[3,1].legend()\n",
    "\n",
    "plt.show()"
   ]
  },
  {
   "cell_type": "markdown",
   "metadata": {},
   "source": [
    "#### Dividindo a base de dados em treinamento e teste"
   ]
  },
  {
   "cell_type": "code",
   "execution_count": null,
   "metadata": {},
   "outputs": [],
   "source": [
    "treino = principal_igu.loc[principal_igu[\"Ano\"] < 2017]\n",
    "teste = principal_igu.loc[principal_igu[\"Ano\"] >= 2000]"
   ]
  },
  {
   "cell_type": "code",
   "execution_count": null,
   "metadata": {},
   "outputs": [],
   "source": [
    "y_train= treino[\"Passageiros\"].copy()\n",
    "y_test= teste[\"Passageiros\"].copy()\n",
    "\n",
    "X_train = treino.drop([\"Passageiros\", \"Passageiros internacionais\",\"Ano\"],axis=1).copy()\n",
    "X_test = teste.drop([\"Passageiros\", \"Passageiros internacionais\",\"Ano\"],axis=1).copy()"
   ]
  },
  {
   "cell_type": "code",
   "execution_count": null,
   "metadata": {},
   "outputs": [],
   "source": [
    "reg= LinearRegression()\n",
    "reg.fit(X_train, y_train)\n",
    "YpredL= reg.predict(X_test)\n",
    "erro = np.sqrt(mean_squared_error(y_test, YpredL))\n",
    "\n",
    "\n",
    "print(f\"Coeficiente da regressão linear: {reg.coef_}\")\n",
    "print(reg.intercept_)\n",
    "print(reg.get_params())\n",
    "print(f\"O erro do modelo sem ajuste foi: {erro}\")\n"
   ]
  },
  {
   "cell_type": "code",
   "execution_count": null,
   "metadata": {},
   "outputs": [],
   "source": [
    "ano_lista = np.arange(2000,2020,1)\n",
    "\n",
    "\n",
    "plt.plot(ano_lista, YpredL,'--r', label='Predito')\n",
    "plt.plot(ano_lista, principal_igu[\"Passageiros\"], label = 'Verdadeiro' )\n",
    "plt.legend()\n",
    "plt.show()\n"
   ]
  },
  {
   "cell_type": "code",
   "execution_count": null,
   "metadata": {},
   "outputs": [],
   "source": [
    "pipe = Pipeline([\n",
    "    ('poly', PolynomialFeatures(degree=1)),\n",
    "    ('lin_reg', LinearRegression())\n",
    "    #('lin_reg', Ridge(alpha=ALPHA))\n",
    "])\n",
    "\n",
    "params = {\n",
    "    'poly__degree': [1,2,3]\n",
    "}\n",
    "\n",
    "clf_pipe = GridSearchCV(pipe, params, cv=3, n_jobs=-1)\n",
    "\n",
    "clf_pipe.fit(X_train, y_train)\n",
    "\n",
    "print(clf_pipe.best_params_)"
   ]
  },
  {
   "cell_type": "code",
   "execution_count": null,
   "metadata": {},
   "outputs": [],
   "source": [
    "y_pred_pipeline = clf_pipe.predict(X_train)"
   ]
  },
  {
   "cell_type": "code",
   "execution_count": null,
   "metadata": {
    "scrolled": true
   },
   "outputs": [],
   "source": [
    "erro = np.sqrt(mean_squared_error(y_train, y_pred_pipeline))\n",
    "\n",
    "print(f\"O erro do modelo com ajuste foi: {erro}\")"
   ]
  },
  {
   "cell_type": "code",
   "execution_count": null,
   "metadata": {},
   "outputs": [],
   "source": [
    "final_model = clf_pipe.best_estimator_\n",
    "\n",
    "final_predictions = final_model.predict(X_test)\n",
    "\n",
    "final_mse = mean_squared_error(y_test, final_predictions)\n",
    "final_rmse = np.sqrt(final_mse)\n",
    "\n",
    "print(f'RMSE = {final_rmse}')"
   ]
  },
  {
   "cell_type": "code",
   "execution_count": null,
   "metadata": {},
   "outputs": [],
   "source": [
    "import statsmodels.api as sm\n",
    "\n",
    "#define response variable\n",
    "y = principal_igu[\"Passageiros\"].loc[principal_igu[\"Ano\"]<2020]\n",
    "\n",
    "#define predictor variables\n",
    "x = principal_igu.drop([\"Passageiros\", \"Passageiros internacionais\",\"Ano\"],axis=1).loc[principal_igu[\"Ano\"]<2020]\n",
    "\n",
    "#add constant to predictor variables\n",
    "x = sm.add_constant(x)\n",
    "\n",
    "#fit linear regression model\n",
    "model = sm.OLS(y, x).fit()\n",
    "\n",
    "#view model summary\n",
    "print(model.summary())"
   ]
  },
  {
   "cell_type": "markdown",
   "metadata": {},
   "source": [
    "## Navegantes"
   ]
  },
  {
   "cell_type": "markdown",
   "metadata": {},
   "source": [
    "##### juntando os pontos macros e uma unico DataFrame"
   ]
  },
  {
   "cell_type": "code",
   "execution_count": null,
   "metadata": {},
   "outputs": [],
   "source": [
    "principal_nvt =(nvt_nac\n",
    " .join(nvt_int.set_index('Ano'),on='Ano')\n",
    " .join(oil.set_index('Ano'),on='Ano')\n",
    " .join(dolar.set_index('Ano'),on='Ano')\n",
    " .join(inflacao.set_index('Ano'),on='Ano')\n",
    " .join(pib.set_index('Ano'),on='Ano')\n",
    "          )"
   ]
  },
  {
   "cell_type": "markdown",
   "metadata": {},
   "source": [
    "##### Correlação entre os dados pré selecionados "
   ]
  },
  {
   "cell_type": "code",
   "execution_count": null,
   "metadata": {},
   "outputs": [],
   "source": [
    " \n",
    "principal_nvt = principal_nvt.loc[principal_nvt[\"Ano\"]<2020]\n",
    "\n",
    "principal_nvt.corr()\n",
    "principal_nvt"
   ]
  },
  {
   "cell_type": "markdown",
   "metadata": {},
   "source": [
    "##### Análise grafica"
   ]
  },
  {
   "cell_type": "code",
   "execution_count": null,
   "metadata": {},
   "outputs": [],
   "source": [
    "fig, ax = plt.subplots(4,2)\n",
    "\n",
    "fig.set_size_inches(15,15)\n",
    "\n",
    "\n",
    "\n",
    "ax[0,0].plot(principal_nvt[\"Ano\"], principal_nvt[\"Passageiros\"],\"g\", label='Passageiros nacionais')\n",
    "ax[0,0].legend()\n",
    "\n",
    "ax[0,1].plot(principal_nvt[\"Ano\"], principal_nvt[\"Passageiros internacionais\"],\"g\", label = 'Passageiros internacionais' )\n",
    "ax[0,1].legend()\n",
    "\n",
    "\n",
    "ax[1,0].plot(principal_nvt[\"Ano\"], principal_nvt[\"dolar\"], label = 'Cambio' )\n",
    "ax[1,0].legend()\n",
    "\n",
    "ax[1,1].plot(principal_nvt[\"Ano\"], principal_nvt[\"inflacao\"], label='Inflação')\n",
    "ax[1,1].legend()\n",
    "\n",
    "#ax[2,0].plot(principal[\"Ano\"], principal[\"PIB REAL SC\"],\"c\", label = 'PIB SC' )\n",
    "#ax[2,0].legend()\n",
    "#\n",
    "#ax[2,1].plot(principal[\"Ano\"], principal[\"PIB REAL SP\"],\"c\", label = 'PIB SP ' )\n",
    "#ax[2,1].legend()\n",
    "\n",
    "ax[3,0].plot(principal_nvt[\"Ano\"], principal_nvt[\"PIB REAL BRASIL\"],\"m\", label = 'PIB Brasil' )\n",
    "ax[3,0].legend()\n",
    "\n",
    "ax[3,1].plot(principal_nvt[\"Ano\"], principal_nvt[\"Oil\"],\"m\", label='Petroleo')\n",
    "ax[3,1].legend()\n",
    "\n",
    "plt.show()"
   ]
  },
  {
   "cell_type": "code",
   "execution_count": null,
   "metadata": {},
   "outputs": [],
   "source": []
  },
  {
   "cell_type": "code",
   "execution_count": null,
   "metadata": {},
   "outputs": [],
   "source": [
    "treino = principal_nvt.loc[principal_nvt[\"Ano\"] < 2017]\n",
    "teste = principal_nvt.loc[principal_nvt[\"Ano\"] >= 2000]"
   ]
  },
  {
   "cell_type": "code",
   "execution_count": null,
   "metadata": {},
   "outputs": [],
   "source": [
    "y_train= treino[\"Passageiros\"].copy()\n",
    "y_test= teste[\"Passageiros\"].copy()\n",
    "\n",
    "X_train = treino.drop([\"Passageiros\", \"Passageiros internacionais\",\"Ano\"],axis=1).copy()\n",
    "X_test = teste.drop([\"Passageiros\", \"Passageiros internacionais\",\"Ano\"],axis=1).copy()"
   ]
  },
  {
   "cell_type": "code",
   "execution_count": null,
   "metadata": {},
   "outputs": [],
   "source": [
    "reg= LinearRegression()\n",
    "reg.fit(X_train, y_train)\n",
    "YpredL= reg.predict(X_test)\n",
    "erro = np.sqrt(mean_squared_error(y_test, YpredL))\n",
    "\n",
    "\n",
    "print(f\"Coeficiente da regressão linear: {reg.coef_}\")\n",
    "print(reg.intercept_)\n",
    "print(reg.get_params())\n",
    "print(f\"O erro do modelo sem ajuste foi: {erro}\")\n"
   ]
  },
  {
   "cell_type": "code",
   "execution_count": null,
   "metadata": {},
   "outputs": [],
   "source": [
    "ano_lista = np.arange(2000,2020,1)\n",
    "\n",
    "\n",
    "plt.plot(ano_lista, YpredL,'--r', label='Predito')\n",
    "plt.plot(ano_lista, principal_nvt[\"Passageiros\"], label = 'Verdadeiro' )\n",
    "plt.legend()\n",
    "plt.show()\n"
   ]
  },
  {
   "cell_type": "code",
   "execution_count": null,
   "metadata": {},
   "outputs": [],
   "source": [
    "pipe = Pipeline([\n",
    "    ('poly', PolynomialFeatures(degree=1)),\n",
    "    ('lin_reg', LinearRegression())\n",
    "    #('lin_reg', Ridge(alpha=ALPHA))\n",
    "])\n",
    "\n",
    "params = {\n",
    "    'poly__degree': [1,2,3]\n",
    "}\n",
    "\n",
    "clf_pipe = GridSearchCV(pipe, params, cv=3, n_jobs=-1)\n",
    "\n",
    "clf_pipe.fit(X_train, y_train)\n",
    "\n",
    "print(clf_pipe.best_params_)"
   ]
  },
  {
   "cell_type": "code",
   "execution_count": null,
   "metadata": {},
   "outputs": [],
   "source": [
    "y_pred_pipeline = clf_pipe.predict(X_train)"
   ]
  },
  {
   "cell_type": "code",
   "execution_count": null,
   "metadata": {
    "scrolled": true
   },
   "outputs": [],
   "source": [
    "erro = np.sqrt(mean_squared_error(y_train, y_pred_pipeline))\n",
    "\n",
    "print(f\"O erro do modelo com ajuste foi: {erro}\")"
   ]
  },
  {
   "cell_type": "code",
   "execution_count": null,
   "metadata": {},
   "outputs": [],
   "source": [
    "final_model = clf_pipe.best_estimator_\n",
    "\n",
    "final_predictions = final_model.predict(X_test)\n",
    "\n",
    "final_mse = mean_squared_error(y_test, final_predictions)\n",
    "final_rmse = np.sqrt(final_mse)\n",
    "\n",
    "print(f'RMSE = {final_rmse}')"
   ]
  },
  {
   "cell_type": "code",
   "execution_count": null,
   "metadata": {},
   "outputs": [],
   "source": [
    "import statsmodels.api as sm\n",
    "\n",
    "#define response variable\n",
    "y = principal_nvt[\"Passageiros\"].loc[principal_nvt[\"Ano\"]<2020]\n",
    "\n",
    "#define predictor variables\n",
    "x = principal_nvt.drop([\"Passageiros\", \"Passageiros internacionais\",\"Ano\"],axis=1).loc[principal_nvt[\"Ano\"]<2020]\n",
    "\n",
    "#add constant to predictor variables\n",
    "x = sm.add_constant(x)\n",
    "\n",
    "#fit linear regression model\n",
    "model = sm.OLS(y, x).fit()\n",
    "\n",
    "#view model summary\n",
    "print(model.summary())"
   ]
  },
  {
   "cell_type": "markdown",
   "metadata": {},
   "source": [
    "## Palmas"
   ]
  },
  {
   "cell_type": "markdown",
   "metadata": {},
   "source": [
    "##### juntando os pontos macros e uma unico DataFrame"
   ]
  },
  {
   "cell_type": "code",
   "execution_count": null,
   "metadata": {},
   "outputs": [],
   "source": [
    "principal_pmw =(pmw\n",
    " .join(oil.set_index('Ano'),on='Ano')\n",
    " .join(dolar.set_index('Ano'),on='Ano')\n",
    " .join(inflacao.set_index('Ano'),on='Ano')\n",
    " .join(pib.set_index('Ano'),on='Ano')\n",
    "          )"
   ]
  },
  {
   "cell_type": "markdown",
   "metadata": {},
   "source": [
    "##### Correlação entre os dados pré selecionados "
   ]
  },
  {
   "cell_type": "code",
   "execution_count": null,
   "metadata": {},
   "outputs": [],
   "source": [
    "principal_pmw.loc[principal_pmw[\"Ano\"] == 2019, \"Passageiros_freq\"] = 0 \n",
    "principal_pmw= principal_pmw.loc[principal_pmw[\"Ano\"]<2020]\n",
    "principal_pmw.corr()"
   ]
  },
  {
   "cell_type": "markdown",
   "metadata": {},
   "source": [
    "##### Análise grafica"
   ]
  },
  {
   "cell_type": "code",
   "execution_count": null,
   "metadata": {},
   "outputs": [],
   "source": [
    "fig, ax = plt.subplots(4,2)\n",
    "\n",
    "fig.set_size_inches(15,15)\n",
    "\n",
    "\n",
    "ax[0,0].plot(principal_pmw[\"Ano\"], principal_pmw[\"Passageiros\"],\"g\", label='Passageiros')\n",
    "ax[0,0].legend()\n",
    "\n",
    "#ax[0,1].plot(principal[\"Ano\"], principal[\"PIB REAL TO\"],\"g\", label='PIB TO')\n",
    "#ax[0,1].legend()\n",
    "\n",
    "ax[1,0].plot(principal_pmw[\"Ano\"], principal_pmw[\"dolar\"], label = 'Cambio' )\n",
    "ax[1,0].legend()\n",
    "\n",
    "ax[1,1].plot(principal_pmw[\"Ano\"], principal_pmw[\"inflacao\"], label='Inflação')\n",
    "ax[1,1].legend()\n",
    "\n",
    "ax[2,0].plot(principal_pmw[\"Ano\"], principal_pmw[\"PIB REAL BRASIL\"],\"c\", label = 'PIB Brasil' )\n",
    "ax[2,0].legend()\n",
    "\n",
    "#ax[2,1].plot(principal[\"Ano\"], principal[\"PIB REAL SP\"],\"c\", label = 'PIB SP' )\n",
    "#ax[2,1].legend()\n",
    "\n",
    "ax[3,0].plot(principal_nvt[\"Ano\"], principal_nvt[\"Oil\"],\"m\", label='Petroleo')\n",
    "ax[3,0].legend()\n",
    "\n",
    "\n",
    "\n",
    "plt.show()#"
   ]
  },
  {
   "cell_type": "code",
   "execution_count": null,
   "metadata": {},
   "outputs": [],
   "source": [
    "treino = principal_pmw.loc[principal_pmw[\"Ano\"] < 2017]\n",
    "teste = principal_pmw.loc[principal_pmw[\"Ano\"] >= 2000]"
   ]
  },
  {
   "cell_type": "code",
   "execution_count": null,
   "metadata": {},
   "outputs": [],
   "source": [
    "y_train= treino[\"Passageiros\"].copy()\n",
    "y_test= teste[\"Passageiros\"].copy()\n",
    "\n",
    "X_train = treino.drop([\"Passageiros\", \"Ano\"],axis=1).copy()\n",
    "X_test = teste.drop([\"Passageiros\", \"Ano\"],axis=1).copy()"
   ]
  },
  {
   "cell_type": "code",
   "execution_count": null,
   "metadata": {},
   "outputs": [],
   "source": [
    "reg= LinearRegression()\n",
    "reg.fit(X_train, y_train)\n",
    "YpredL= reg.predict(X_test)\n",
    "erro = np.sqrt(mean_squared_error(y_test, YpredL))\n",
    "\n",
    "\n",
    "print(f\"Coeficiente da regressão linear: {reg.coef_}\")\n",
    "print(reg.intercept_)\n",
    "print(reg.get_params())\n",
    "print(f\"O erro do modelo sem ajuste foi: {erro}\")\n"
   ]
  },
  {
   "cell_type": "code",
   "execution_count": null,
   "metadata": {},
   "outputs": [],
   "source": [
    "ano_lista = np.arange(2000,2020,1)\n",
    "\n",
    "\n",
    "plt.plot(ano_lista, YpredL,'--r', label='Predito')\n",
    "plt.plot(ano_lista, principal_pmw[\"Passageiros\"], label = 'Verdadeiro' )\n",
    "plt.legend()\n",
    "plt.show()\n"
   ]
  },
  {
   "cell_type": "code",
   "execution_count": null,
   "metadata": {},
   "outputs": [],
   "source": [
    "pipe = Pipeline([\n",
    "    ('poly', PolynomialFeatures(degree=1)),\n",
    "    ('lin_reg', LinearRegression())\n",
    "    #('lin_reg', Ridge(alpha=ALPHA))\n",
    "])\n",
    "\n",
    "params = {\n",
    "    'poly__degree': [1,2,3]\n",
    "}\n",
    "\n",
    "clf_pipe = GridSearchCV(pipe, params, cv=3, n_jobs=-1)\n",
    "\n",
    "clf_pipe.fit(X_train, y_train)\n",
    "\n",
    "print(clf_pipe.best_params_)"
   ]
  },
  {
   "cell_type": "code",
   "execution_count": null,
   "metadata": {},
   "outputs": [],
   "source": [
    "y_pred_pipeline = clf_pipe.predict(X_train)"
   ]
  },
  {
   "cell_type": "code",
   "execution_count": null,
   "metadata": {
    "scrolled": true
   },
   "outputs": [],
   "source": [
    "erro = np.sqrt(mean_squared_error(y_train, y_pred_pipeline))\n",
    "\n",
    "print(f\"O erro do modelo com ajuste foi: {erro}\")"
   ]
  },
  {
   "cell_type": "code",
   "execution_count": null,
   "metadata": {},
   "outputs": [],
   "source": [
    "final_model = clf_pipe.best_estimator_\n",
    "\n",
    "final_predictions = final_model.predict(X_test)\n",
    "\n",
    "final_mse = mean_squared_error(y_test, final_predictions)\n",
    "final_rmse = np.sqrt(final_mse)\n",
    "\n",
    "print(f'RMSE = {final_rmse}')"
   ]
  },
  {
   "cell_type": "code",
   "execution_count": null,
   "metadata": {},
   "outputs": [],
   "source": [
    "import statsmodels.api as sm\n",
    "\n",
    "#define response variable\n",
    "y = principal_pmw[\"Passageiros\"].loc[principal_pmw[\"Ano\"]<2020]\n",
    "\n",
    "#define predictor variables\n",
    "x = principal_pmw.drop([\"Passageiros\", \"Ano\"],axis=1).loc[principal_pmw[\"Ano\"]<2020]\n",
    "\n",
    "#add constant to predictor variables\n",
    "x = sm.add_constant(x)\n",
    "\n",
    "#fit linear regression model\n",
    "model = sm.OLS(y, x).fit()\n",
    "\n",
    "#view model summary\n",
    "print(model.summary())"
   ]
  },
  {
   "cell_type": "markdown",
   "metadata": {},
   "source": [
    "## São Luiz"
   ]
  },
  {
   "cell_type": "markdown",
   "metadata": {},
   "source": [
    "##### juntando os pontos macros e uma unico DataFrame"
   ]
  },
  {
   "cell_type": "code",
   "execution_count": null,
   "metadata": {},
   "outputs": [],
   "source": [
    "principal_slz =(slz\n",
    " .join(oil.set_index('Ano'),on='Ano')\n",
    " .join(dolar.set_index('Ano'),on='Ano')\n",
    " .join(inflacao.set_index('Ano'),on='Ano')\n",
    " .join(pib.set_index('Ano'),on='Ano')\n",
    "          )"
   ]
  },
  {
   "cell_type": "markdown",
   "metadata": {},
   "source": [
    "##### Correlação entre os dados pré selecionados "
   ]
  },
  {
   "cell_type": "code",
   "execution_count": null,
   "metadata": {},
   "outputs": [],
   "source": [
    "principal_slz.loc[principal_slz[\"Ano\"] == 2019, \"Passageiros_freq\"] = 0 \n",
    "principal_slz= principal_slz.loc[principal_slz[\"Ano\"]<2020]\n",
    "principal_slz.corr()\n",
    "principal_slz"
   ]
  },
  {
   "cell_type": "markdown",
   "metadata": {},
   "source": [
    "##### Análise grafica"
   ]
  },
  {
   "cell_type": "code",
   "execution_count": null,
   "metadata": {},
   "outputs": [],
   "source": [
    "fig, ax = plt.subplots(4,2)\n",
    "\n",
    "fig.set_size_inches(15,15)\n",
    "\n",
    "\n",
    "ax[0,0].plot(principal_slz[\"Ano\"], principal_slz[\"Passageiros\"],\"g\", label='Passageiros')\n",
    "ax[0,0].legend()\n",
    "\n",
    "#ax[0,1].plot(principal[\"Ano\"], principal[\"PIB REAL TO\"],\"g\", label='PIB TO')\n",
    "#ax[0,1].legend()\n",
    "\n",
    "ax[1,0].plot(principal_slz[\"Ano\"], principal_slz[\"dolar\"], label = 'Cambio' )\n",
    "ax[1,0].legend()\n",
    "\n",
    "ax[1,1].plot(principal_slz[\"Ano\"], principal_slz[\"inflacao\"], label='Inflação')\n",
    "ax[1,1].legend()\n",
    "\n",
    "ax[2,0].plot(principal_slz[\"Ano\"], principal_slz[\"PIB REAL BRASIL\"],\"c\", label = 'PIB Brasil' )\n",
    "ax[2,0].legend()\n",
    "\n",
    "#ax[2,1].plot(principal[\"Ano\"], principal[\"PIB REAL SP\"],\"c\", label = 'PIB SP' )\n",
    "#ax[2,1].legend()\n",
    "\n",
    "ax[3,0].plot(principal_slz[\"Ano\"], principal_slz[\"Oil\"],\"m\", label='Petroleo')\n",
    "ax[3,0].legend()\n",
    "\n",
    "\n",
    "\n",
    "plt.show()#"
   ]
  },
  {
   "cell_type": "code",
   "execution_count": null,
   "metadata": {},
   "outputs": [],
   "source": [
    "treino = principal_slz.loc[principal_slz[\"Ano\"] < 2017]\n",
    "teste = principal_slz.loc[principal_slz[\"Ano\"] >= 2000]"
   ]
  },
  {
   "cell_type": "code",
   "execution_count": null,
   "metadata": {},
   "outputs": [],
   "source": [
    "y_train= treino[\"Passageiros\"].copy()\n",
    "y_test= teste[\"Passageiros\"].copy()\n",
    "\n",
    "X_train = treino.drop([\"Passageiros\", \"Ano\"],axis=1).copy()\n",
    "X_test = teste.drop([\"Passageiros\", \"Ano\"],axis=1).copy()"
   ]
  },
  {
   "cell_type": "code",
   "execution_count": null,
   "metadata": {},
   "outputs": [],
   "source": [
    "reg= LinearRegression()\n",
    "reg.fit(X_train, y_train)\n",
    "YpredL= reg.predict(X_test)\n",
    "erro = np.sqrt(mean_squared_error(y_test, YpredL))\n",
    "\n",
    "\n",
    "print(f\"Coeficiente da regressão linear: {reg.coef_}\")\n",
    "print(reg.intercept_)\n",
    "print(reg.get_params())\n",
    "print(f\"O erro do modelo sem ajuste foi: {erro}\")\n"
   ]
  },
  {
   "cell_type": "code",
   "execution_count": null,
   "metadata": {},
   "outputs": [],
   "source": [
    "ano_lista = np.arange(2000,2020,1)\n",
    "\n",
    "\n",
    "plt.plot(ano_lista, YpredL,'--r', label='Predito')\n",
    "plt.plot(ano_lista, principal_slz[\"Passageiros\"], label = 'Verdadeiro' )\n",
    "plt.legend()\n",
    "plt.show()\n"
   ]
  },
  {
   "cell_type": "code",
   "execution_count": null,
   "metadata": {},
   "outputs": [],
   "source": [
    "pipe = Pipeline([\n",
    "    ('poly', PolynomialFeatures(degree=1)),\n",
    "    ('lin_reg', LinearRegression())\n",
    "    #('lin_reg', Ridge(alpha=ALPHA))\n",
    "])\n",
    "\n",
    "params = {\n",
    "    'poly__degree': [1,2,3]\n",
    "}\n",
    "\n",
    "clf_pipe = GridSearchCV(pipe, params, cv=3, n_jobs=-1)\n",
    "\n",
    "clf_pipe.fit(X_train, y_train)\n",
    "\n",
    "print(clf_pipe.best_params_)"
   ]
  },
  {
   "cell_type": "code",
   "execution_count": null,
   "metadata": {},
   "outputs": [],
   "source": [
    "y_pred_pipeline = clf_pipe.predict(X_train)"
   ]
  },
  {
   "cell_type": "code",
   "execution_count": null,
   "metadata": {
    "scrolled": true
   },
   "outputs": [],
   "source": [
    "erro = np.sqrt(mean_squared_error(y_train, y_pred_pipeline))\n",
    "\n",
    "print(f\"O erro do modelo com ajuste foi: {erro}\")"
   ]
  },
  {
   "cell_type": "code",
   "execution_count": null,
   "metadata": {},
   "outputs": [],
   "source": [
    "final_model = clf_pipe.best_estimator_\n",
    "\n",
    "final_predictions = final_model.predict(X_test)\n",
    "\n",
    "final_mse = mean_squared_error(y_test, final_predictions)\n",
    "final_rmse = np.sqrt(final_mse)\n",
    "\n",
    "print(f'RMSE = {final_rmse}')"
   ]
  },
  {
   "cell_type": "code",
   "execution_count": null,
   "metadata": {},
   "outputs": [],
   "source": [
    "import statsmodels.api as sm\n",
    "\n",
    "#define response variable\n",
    "y = principal_slz[\"Passageiros\"].loc[principal_slz[\"Ano\"]<2020]\n",
    "\n",
    "#define predictor variables\n",
    "x = principal_slz.drop([\"Passageiros\", \"Ano\"],axis=1).loc[principal_slz[\"Ano\"]<2020]\n",
    "\n",
    "#add constant to predictor variables\n",
    "x = sm.add_constant(x)\n",
    "\n",
    "#fit linear regression model\n",
    "model = sm.OLS(y, x).fit()\n",
    "\n",
    "#view model summary\n",
    "print(model.summary())"
   ]
  },
  {
   "cell_type": "markdown",
   "metadata": {},
   "source": [
    "## Comparação de passageiros nos aeroportos analisados"
   ]
  },
  {
   "cell_type": "code",
   "execution_count": null,
   "metadata": {},
   "outputs": [],
   "source": [
    "#plt.plot(cwb_nac[\"Ano\"], cwb_nac[\"Passageiros\"], label='Curitiba')\n",
    "#plt.legend()\n",
    "#\n",
    "#plt.plot(igu_nac[\"Ano\"], igu_nac[\"Passageiros\"], label='Foz do Iguaçu')\n",
    "#plt.legend()\n",
    "##\n",
    "#plt.plot(nvt_nac[\"Ano\"], nvt_nac[\"Passageiros\"], label='Navegantes')\n",
    "#plt.legend()\n",
    "##\n",
    "#plt.plot(slz[\"Ano\"], slz[\"Passageiros\"], label='São Luiz')\n",
    "#plt.legend()\n",
    "##\n",
    "#plt.plot(pmw[\"Ano\"], pmw[\"Passageiros\"], label='Palmas')\n",
    "#plt.legend()\n",
    "#\n",
    "#plt.title(\"Voos Nacionais\")\n",
    "#plt.show()\n",
    "#\n",
    "#\n",
    "#\n",
    "#\n",
    "#plt.plot(cwb_nac[\"Ano\"], cwb_int[\"Passageiros internacionais\"], label='Curitiba')\n",
    "#plt.legend()\n",
    "#\n",
    "#plt.plot(igu_nac[\"Ano\"], igu_int[\"Passageiros internacionais\"], label='Foz do Iguaçu')\n",
    "#plt.legend()\n",
    "#\n",
    "#plt.plot(nvt_nac[\"Ano\"], nvt_int[\"Passageiros internacionais\"], label='Navegantes')\n",
    "#plt.legend()\n",
    "#\n",
    "#plt.title(\"Voos Internacionais\")\n",
    "#plt.show()"
   ]
  },
  {
   "cell_type": "code",
   "execution_count": null,
   "metadata": {},
   "outputs": [],
   "source": []
  }
 ],
 "metadata": {
  "kernelspec": {
   "display_name": "Python 3",
   "language": "python",
   "name": "python3"
  },
  "language_info": {
   "codemirror_mode": {
    "name": "ipython",
    "version": 3
   },
   "file_extension": ".py",
   "mimetype": "text/x-python",
   "name": "python",
   "nbconvert_exporter": "python",
   "pygments_lexer": "ipython3",
   "version": "3.7.4"
  }
 },
 "nbformat": 4,
 "nbformat_minor": 2
}

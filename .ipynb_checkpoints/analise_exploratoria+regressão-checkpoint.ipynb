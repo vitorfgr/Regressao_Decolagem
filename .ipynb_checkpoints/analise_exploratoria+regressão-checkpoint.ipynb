{
 "cells": [
  {
   "cell_type": "markdown",
   "metadata": {},
   "source": [
    "## Biblioteca importadas"
   ]
  },
  {
   "cell_type": "code",
   "execution_count": 1,
   "metadata": {},
   "outputs": [],
   "source": [
    "import numpy as np  \n",
    "import pandas as pd \n",
    "import seaborn as sns\n",
    "from sklearn.datasets import load_iris\n",
    "from sklearn.linear_model import LinearRegression\n",
    "from sklearn.ensemble import RandomForestRegressor\n",
    "from sklearn.metrics import mean_squared_error\n",
    "from sklearn.model_selection import train_test_split\n",
    "from sklearn.metrics import r2_score\n",
    "import matplotlib.pyplot as plt\n"
   ]
  },
  {
   "cell_type": "markdown",
   "metadata": {},
   "source": [
    "## Leitura das bases de dados de cada aeroportos\n"
   ]
  },
  {
   "cell_type": "markdown",
   "metadata": {},
   "source": [
    "#### Frequencia de passageiros no aeroporto CWB"
   ]
  },
  {
   "cell_type": "code",
   "execution_count": 2,
   "metadata": {},
   "outputs": [],
   "source": [
    "#nacional \n",
    "filename = r'C:Passageiros pagos\\cwb_nac.xlsx'\n",
    "cwb_nac = pd.read_excel(filename).drop([\"Unnamed: 0\"],axis=1)\n",
    "\n",
    "#internacional\n",
    "filename = r'C:Passageiros pagos\\cwb_int.xlsx'\n",
    "cwb_int = (pd.read_excel(filename)\n",
    " .drop([\"Unnamed: 0\"],axis=1)\n",
    " .rename(columns ={'Passageiros':'Passageiros internacionais'})\n",
    "          )\n"
   ]
  },
  {
   "cell_type": "code",
   "execution_count": null,
   "metadata": {},
   "outputs": [],
   "source": []
  },
  {
   "cell_type": "markdown",
   "metadata": {},
   "source": [
    "#### Frequencia de passageiros no aeroporto IGU"
   ]
  },
  {
   "cell_type": "code",
   "execution_count": 3,
   "metadata": {},
   "outputs": [],
   "source": [
    "#nacional\n",
    "filename = r'C:Passageiros pagos\\igu_nac.xlsx'\n",
    "igu_nac = pd.read_excel(filename).drop([\"Unnamed: 0\"],axis=1)\n",
    "\n",
    "#internacional\n",
    "filename = r'C:Passageiros pagos\\igu_int.xlsx'\n",
    "igu_int = (pd.read_excel(filename)\n",
    " .drop([\"Unnamed: 0\"],axis=1)\n",
    " .rename(columns ={'Passageiros':'Passageiros internacionais'})\n",
    "          )"
   ]
  },
  {
   "cell_type": "markdown",
   "metadata": {},
   "source": [
    "#### Frequencia de passageiros no aeroporto NVT"
   ]
  },
  {
   "cell_type": "code",
   "execution_count": 4,
   "metadata": {},
   "outputs": [],
   "source": [
    "#nacional\n",
    "filename = r'C:Passageiros pagos\\nvt_nac.xlsx'\n",
    "nvt_nac = pd.read_excel(filename).drop([\"Unnamed: 0\"],axis=1)\n",
    "\n",
    "#internacional\n",
    "filename = r'C:Passageiros pagos\\nvt_int.xlsx'\n",
    "nvt_int = (pd.read_excel(filename)\n",
    " .drop([\"Unnamed: 0\"],axis=1)\n",
    " .rename(columns ={'Passageiros':'Passageiros internacionais'})\n",
    "          )"
   ]
  },
  {
   "cell_type": "markdown",
   "metadata": {},
   "source": [
    "#### Frequencia de passageiros no aeroporto PMW"
   ]
  },
  {
   "cell_type": "code",
   "execution_count": 5,
   "metadata": {},
   "outputs": [],
   "source": [
    "filename = r'C:Passageiros pagos\\pmw.xlsx'\n",
    "pmw = pd.read_excel(filename).drop([\"Unnamed: 0\"],axis=1)"
   ]
  },
  {
   "cell_type": "markdown",
   "metadata": {},
   "source": [
    "#### Frequencia de passageiros no aeroporto SLZ"
   ]
  },
  {
   "cell_type": "code",
   "execution_count": 6,
   "metadata": {},
   "outputs": [],
   "source": [
    "filename = r'C:Passageiros pagos\\slz.xlsx'\n",
    "slz = pd.read_excel(filename).drop([\"Unnamed: 0\"],axis=1)"
   ]
  },
  {
   "cell_type": "markdown",
   "metadata": {},
   "source": [
    "#### Frequencia de passageiros no aeroporto SJO"
   ]
  },
  {
   "cell_type": "code",
   "execution_count": 7,
   "metadata": {},
   "outputs": [],
   "source": [
    "##nacional\n",
    "#filename = r'C:\\Users\\vitor\\OneDrive\\Documentos\\INSPER_JR\\Decolagem_I\\regressão\\Passageiros pagos\\sjo_nac.csv'\n",
    "#dados7 = pd.read_csv(filename)\n",
    "\n",
    "##internacional\n",
    "#filename = r'C:\\Users\\vitor\\OneDrive\\Documentos\\INSPER_JR\\Decolagem_I\\regressão\\Passageiros pagos\\sjo_int.csv'\n",
    "#dados6 = pd.read_csv(filename)\n",
    "\n"
   ]
  },
  {
   "cell_type": "markdown",
   "metadata": {},
   "source": [
    "## Variaveis macro economicas"
   ]
  },
  {
   "cell_type": "markdown",
   "metadata": {},
   "source": [
    "#### Valor do barril de petróleo"
   ]
  },
  {
   "cell_type": "code",
   "execution_count": 8,
   "metadata": {},
   "outputs": [],
   "source": [
    "filename = r'C:Dados macros\\statistic_id262858_opec-oil-price-annually-1960-2022.xlsx'\n",
    "oil = pd.read_excel(filename)"
   ]
  },
  {
   "cell_type": "markdown",
   "metadata": {},
   "source": [
    "#### Cotação do dolar"
   ]
  },
  {
   "cell_type": "code",
   "execution_count": 9,
   "metadata": {},
   "outputs": [],
   "source": [
    "filename = r'C:Dados macros\\Base de dados Dólar.xlsx'\n",
    "dolar = pd.read_excel(filename)"
   ]
  },
  {
   "cell_type": "markdown",
   "metadata": {},
   "source": [
    "#### Inflação do turismo no Brasil"
   ]
  },
  {
   "cell_type": "code",
   "execution_count": 10,
   "metadata": {},
   "outputs": [],
   "source": [
    "filename = r'C:Dados macros\\statistic_id270812_inflation-rate-in-brazil-2027.xlsx'\n",
    "inflacao = pd.read_excel(filename)"
   ]
  },
  {
   "cell_type": "markdown",
   "metadata": {},
   "source": [
    "#### PIB do Brasil e dos Estados dos aeroportos "
   ]
  },
  {
   "cell_type": "code",
   "execution_count": 11,
   "metadata": {},
   "outputs": [],
   "source": [
    "filename = r'C:Dados macros\\PIB_brasil_freq.xlsx'\n",
    "pib = pd.read_excel(filename)"
   ]
  },
  {
   "cell_type": "markdown",
   "metadata": {},
   "source": [
    "## Curitiba"
   ]
  },
  {
   "cell_type": "markdown",
   "metadata": {},
   "source": [
    "##### juntando os pontos macros e uma unico DataFrame"
   ]
  },
  {
   "cell_type": "code",
   "execution_count": 23,
   "metadata": {},
   "outputs": [],
   "source": [
    "principal_cwb =(cwb_nac\n",
    " .join(cwb_int.set_index('Ano'),on='Ano')\n",
    " .join(oil.set_index('Ano'),on='Ano')\n",
    " .join(dolar.set_index('Ano'),on='Ano')\n",
    " .join(inflacao.set_index('Ano'),on='Ano')\n",
    " .join(pib.set_index('Ano'),on='Ano')\n",
    "          )\n"
   ]
  },
  {
   "cell_type": "markdown",
   "metadata": {},
   "source": [
    "#### Correlação entre os dados pré selecionados "
   ]
  },
  {
   "cell_type": "code",
   "execution_count": 24,
   "metadata": {},
   "outputs": [
    {
     "data": {
      "text/html": [
       "<div>\n",
       "<style scoped>\n",
       "    .dataframe tbody tr th:only-of-type {\n",
       "        vertical-align: middle;\n",
       "    }\n",
       "\n",
       "    .dataframe tbody tr th {\n",
       "        vertical-align: top;\n",
       "    }\n",
       "\n",
       "    .dataframe thead th {\n",
       "        text-align: right;\n",
       "    }\n",
       "</style>\n",
       "<table border=\"1\" class=\"dataframe\">\n",
       "  <thead>\n",
       "    <tr style=\"text-align: right;\">\n",
       "      <th></th>\n",
       "      <th>Ano</th>\n",
       "      <th>Passageiros</th>\n",
       "      <th>Passageiros_freq</th>\n",
       "      <th>Passageiros internacionais</th>\n",
       "      <th>Oil</th>\n",
       "      <th>dolar</th>\n",
       "      <th>inflacao</th>\n",
       "      <th>PIB REAL BRASIL</th>\n",
       "    </tr>\n",
       "  </thead>\n",
       "  <tbody>\n",
       "    <tr>\n",
       "      <td>Ano</td>\n",
       "      <td>1.000000</td>\n",
       "      <td>0.825633</td>\n",
       "      <td>-0.502786</td>\n",
       "      <td>0.537493</td>\n",
       "      <td>0.498046</td>\n",
       "      <td>0.462911</td>\n",
       "      <td>-0.379601</td>\n",
       "      <td>-0.313397</td>\n",
       "    </tr>\n",
       "    <tr>\n",
       "      <td>Passageiros</td>\n",
       "      <td>0.825633</td>\n",
       "      <td>1.000000</td>\n",
       "      <td>-0.334966</td>\n",
       "      <td>0.747097</td>\n",
       "      <td>0.757172</td>\n",
       "      <td>0.089808</td>\n",
       "      <td>-0.283610</td>\n",
       "      <td>-0.192897</td>\n",
       "    </tr>\n",
       "    <tr>\n",
       "      <td>Passageiros_freq</td>\n",
       "      <td>-0.502786</td>\n",
       "      <td>-0.334966</td>\n",
       "      <td>1.000000</td>\n",
       "      <td>-0.089302</td>\n",
       "      <td>-0.053763</td>\n",
       "      <td>-0.623398</td>\n",
       "      <td>0.044637</td>\n",
       "      <td>0.307437</td>\n",
       "    </tr>\n",
       "    <tr>\n",
       "      <td>Passageiros internacionais</td>\n",
       "      <td>0.537493</td>\n",
       "      <td>0.747097</td>\n",
       "      <td>-0.089302</td>\n",
       "      <td>1.000000</td>\n",
       "      <td>0.769081</td>\n",
       "      <td>-0.233850</td>\n",
       "      <td>-0.354779</td>\n",
       "      <td>0.176821</td>\n",
       "    </tr>\n",
       "    <tr>\n",
       "      <td>Oil</td>\n",
       "      <td>0.498046</td>\n",
       "      <td>0.757172</td>\n",
       "      <td>-0.053763</td>\n",
       "      <td>0.769081</td>\n",
       "      <td>1.000000</td>\n",
       "      <td>-0.336762</td>\n",
       "      <td>-0.422720</td>\n",
       "      <td>0.289631</td>\n",
       "    </tr>\n",
       "    <tr>\n",
       "      <td>dolar</td>\n",
       "      <td>0.462911</td>\n",
       "      <td>0.089808</td>\n",
       "      <td>-0.623398</td>\n",
       "      <td>-0.233850</td>\n",
       "      <td>-0.336762</td>\n",
       "      <td>1.000000</td>\n",
       "      <td>0.166638</td>\n",
       "      <td>-0.483029</td>\n",
       "    </tr>\n",
       "    <tr>\n",
       "      <td>inflacao</td>\n",
       "      <td>-0.379601</td>\n",
       "      <td>-0.283610</td>\n",
       "      <td>0.044637</td>\n",
       "      <td>-0.354779</td>\n",
       "      <td>-0.422720</td>\n",
       "      <td>0.166638</td>\n",
       "      <td>1.000000</td>\n",
       "      <td>-0.353883</td>\n",
       "    </tr>\n",
       "    <tr>\n",
       "      <td>PIB REAL BRASIL</td>\n",
       "      <td>-0.313397</td>\n",
       "      <td>-0.192897</td>\n",
       "      <td>0.307437</td>\n",
       "      <td>0.176821</td>\n",
       "      <td>0.289631</td>\n",
       "      <td>-0.483029</td>\n",
       "      <td>-0.353883</td>\n",
       "      <td>1.000000</td>\n",
       "    </tr>\n",
       "  </tbody>\n",
       "</table>\n",
       "</div>"
      ],
      "text/plain": [
       "                                 Ano  Passageiros  Passageiros_freq  \\\n",
       "Ano                         1.000000     0.825633         -0.502786   \n",
       "Passageiros                 0.825633     1.000000         -0.334966   \n",
       "Passageiros_freq           -0.502786    -0.334966          1.000000   \n",
       "Passageiros internacionais  0.537493     0.747097         -0.089302   \n",
       "Oil                         0.498046     0.757172         -0.053763   \n",
       "dolar                       0.462911     0.089808         -0.623398   \n",
       "inflacao                   -0.379601    -0.283610          0.044637   \n",
       "PIB REAL BRASIL            -0.313397    -0.192897          0.307437   \n",
       "\n",
       "                            Passageiros internacionais       Oil     dolar  \\\n",
       "Ano                                           0.537493  0.498046  0.462911   \n",
       "Passageiros                                   0.747097  0.757172  0.089808   \n",
       "Passageiros_freq                             -0.089302 -0.053763 -0.623398   \n",
       "Passageiros internacionais                    1.000000  0.769081 -0.233850   \n",
       "Oil                                           0.769081  1.000000 -0.336762   \n",
       "dolar                                        -0.233850 -0.336762  1.000000   \n",
       "inflacao                                     -0.354779 -0.422720  0.166638   \n",
       "PIB REAL BRASIL                               0.176821  0.289631 -0.483029   \n",
       "\n",
       "                            inflacao  PIB REAL BRASIL  \n",
       "Ano                        -0.379601        -0.313397  \n",
       "Passageiros                -0.283610        -0.192897  \n",
       "Passageiros_freq            0.044637         0.307437  \n",
       "Passageiros internacionais -0.354779         0.176821  \n",
       "Oil                        -0.422720         0.289631  \n",
       "dolar                       0.166638        -0.483029  \n",
       "inflacao                    1.000000        -0.353883  \n",
       "PIB REAL BRASIL            -0.353883         1.000000  "
      ]
     },
     "execution_count": 24,
     "metadata": {},
     "output_type": "execute_result"
    }
   ],
   "source": [
    "principal_cwb = principal_cwb.loc[principal_cwb[\"Ano\"]<2020]\n",
    "principal_cwb.corr()\n"
   ]
  },
  {
   "cell_type": "markdown",
   "metadata": {},
   "source": [
    "#### Análise grafica"
   ]
  },
  {
   "cell_type": "code",
   "execution_count": 25,
   "metadata": {},
   "outputs": [
    {
     "data": {
      "image/png": "[encoded data removed]",
      "text/plain": [
       "<Figure size 1080x1080 with 8 Axes>"
      ]
     },
     "metadata": {
      "needs_background": "light"
     },
     "output_type": "display_data"
    }
   ],
   "source": [
    "fig, ax = plt.subplots(4,2)\n",
    "\n",
    "fig.set_size_inches(15,15)\n",
    "\n",
    "\n",
    "\n",
    "ax[0,0].plot(principal_cwb[\"Ano\"], principal_cwb[\"Passageiros\"],\"g\", label='Passageiros nacionais')\n",
    "ax[0,0].legend()\n",
    "\n",
    "ax[0,1].plot(principal_cwb[\"Ano\"], principal_cwb[\"Passageiros internacionais\"],\"g\", label = 'Passageiros internacionais' )\n",
    "ax[0,1].legend()\n",
    "\n",
    "\n",
    "ax[1,0].plot(principal_cwb[\"Ano\"], principal_cwb[\"dolar\"], label = 'Cambio' )\n",
    "ax[1,0].legend()\n",
    "\n",
    "ax[1,1].plot(principal_cwb[\"Ano\"], principal_cwb[\"inflacao\"], label='Inflação')\n",
    "ax[1,1].legend()\n",
    "\n",
    "#ax[2,0].plot(principal[\"Ano\"], principal[\"PIB REAL PR\"],\"c\", label = 'PIB PR' )\n",
    "#ax[2,0].legend()\n",
    "\n",
    "#ax[2,1].plot(principal[\"Ano\"], principal[\"PIB REAL SP\"],\"c\", label = 'PIB SP ' )\n",
    "#ax[2,1].legend()\n",
    "\n",
    "ax[3,0].plot(principal_cwb[\"Ano\"], principal_cwb[\"PIB REAL BRASIL\"],\"m\", label = 'PIB Brasil' )\n",
    "ax[3,0].legend()\n",
    "\n",
    "ax[3,1].plot(principal_cwb[\"Ano\"], principal_cwb[\"Oil\"],\"m\", label='Petroleo')\n",
    "ax[3,1].legend()\n",
    "\n",
    "plt.show()"
   ]
  },
  {
   "cell_type": "code",
   "execution_count": 26,
   "metadata": {},
   "outputs": [],
   "source": [
    "treino = principal_cwb.loc[principal_cwb[\"Ano\"] < 2017]\n",
    "teste = principal_cwb.loc[principal_cwb[\"Ano\"] >= 2017]"
   ]
  },
  {
   "cell_type": "code",
   "execution_count": 27,
   "metadata": {},
   "outputs": [],
   "source": [
    "y_train= treino[\"Passageiros\"].copy()\n",
    "y_test= teste[\"Passageiros\"].copy()\n",
    "\n",
    "X_train = treino.drop([\"Passageiros\", \"Passageiros internacionais\",\"Ano\"],axis=1).copy()\n",
    "X_test = teste.drop([\"Passageiros\", \"Passageiros internacionais\",\"Ano\"],axis=1).copy()"
   ]
  },
  {
   "cell_type": "code",
   "execution_count": 47,
   "metadata": {},
   "outputs": [
    {
     "name": "stdout",
     "output_type": "stream",
     "text": [
      "[5876291.78995712 6869802.99825564 7709573.73090183]\n",
      "17    6580928\n",
      "18    6200060\n",
      "19    6364930\n",
      "Name: Passageiros, dtype: int64\n",
      "[ -1600401.21163278     54300.73298734    502610.16559237\n",
      "    -60095.42761093 -20205246.86703127]\n",
      "1739496.5587730869\n",
      "{'copy_X': True, 'fit_intercept': True, 'n_jobs': None, 'normalize': 'deprecated', 'positive': False}\n",
      "O erro do modelo sem ajuste foi: 957972.6223070691\n"
     ]
    }
   ],
   "source": [
    "reg= LinearRegression()\n",
    "reg.fit(X_train, y_train)\n",
    "YpredL= reg.predict(X_test)\n",
    "print(YpredL)\n",
    "print(y_test)\n",
    "print(reg.coef_)\n",
    "print(reg.intercept_)\n",
    "print(reg.get_params())\n",
    "\n",
    "erro = np.sqrt(mean_squared_error(y_test, YpredL))\n",
    "\n",
    "print(f\"O erro do modelo sem ajuste foi: {erro}\")"
   ]
  },
  {
   "cell_type": "code",
   "execution_count": 31,
   "metadata": {},
   "outputs": [
    {
     "data": {
      "image/png": "[encoded data removed]",
      "text/plain": [
       "<Figure size 432x288 with 1 Axes>"
      ]
     },
     "metadata": {
      "needs_background": "light"
     },
     "output_type": "display_data"
    }
   ],
   "source": [
    "ano_lista = np.arange(2017,2020,1)\n",
    "\n",
    "\n",
    "plt.plot(ano_lista, YpredL,'--r', label='Predito')\n",
    "plt.plot(ano_lista, y_test, label = 'Verdadeiro' )\n",
    "plt.legend()\n",
    "plt.show()\n"
   ]
  },
  {
   "cell_type": "code",
   "execution_count": 40,
   "metadata": {},
   "outputs": [],
   "source": [
    "from sklearn.model_selection import GridSearchCV\n",
    "from sklearn.preprocessing import PolynomialFeatures\n",
    "from sklearn.pipeline import Pipeline\n",
    "from sklearn.metrics import mean_squared_error"
   ]
  },
  {
   "cell_type": "code",
   "execution_count": 57,
   "metadata": {},
   "outputs": [
    {
     "name": "stdout",
     "output_type": "stream",
     "text": [
      "{'poly__degree': 1}\n"
     ]
    }
   ],
   "source": [
    "pipe = Pipeline([\n",
    "    ('poly', PolynomialFeatures(degree=1)),\n",
    "    ('lin_reg', LinearRegression())\n",
    "    #('lin_reg', Ridge(alpha=ALPHA))\n",
    "])\n",
    "\n",
    "params = {\n",
    "    'poly__degree': [1,2,3]\n",
    "}\n",
    "\n",
    "clf_pipe = GridSearchCV(pipe, params, cv=3, n_jobs=-1)\n",
    "\n",
    "clf_pipe.fit(X_train, y_train)\n",
    "\n",
    "print(clf_pipe.best_params_)"
   ]
  },
  {
   "cell_type": "code",
   "execution_count": 58,
   "metadata": {},
   "outputs": [],
   "source": [
    "y_pred_pipeline = clf_pipe.predict(X_train)"
   ]
  },
  {
   "cell_type": "code",
   "execution_count": 59,
   "metadata": {},
   "outputs": [
    {
     "name": "stdout",
     "output_type": "stream",
     "text": [
      "O erro do modelo com ajuste foi: 750794.0600742056\n"
     ]
    }
   ],
   "source": [
    "erro = np.sqrt(mean_squared_error(y_train, y_pred_pipeline))\n",
    "\n",
    "print(f\"O erro do modelo com ajuste foi: {erro}\")"
   ]
  },
  {
   "cell_type": "code",
   "execution_count": 60,
   "metadata": {},
   "outputs": [
    {
     "name": "stdout",
     "output_type": "stream",
     "text": [
      "RMSE = 957972.6223070639\n"
     ]
    }
   ],
   "source": [
    "final_model = clf_pipe.best_estimator_\n",
    "\n",
    "final_predictions = final_model.predict(X_test)\n",
    "\n",
    "final_mse = mean_squared_error(y_test, final_predictions)\n",
    "final_rmse = np.sqrt(final_mse)\n",
    "\n",
    "print(f'RMSE = {final_rmse}')"
   ]
  },
  {
   "cell_type": "code",
   "execution_count": 56,
   "metadata": {},
   "outputs": [
    {
     "data": {
      "image/png": "[encoded data removed]",
      "text/plain": [
       "<Figure size 432x288 with 1 Axes>"
      ]
     },
     "metadata": {
      "needs_background": "light"
     },
     "output_type": "display_data"
    }
   ],
   "source": [
    "ano_lista = np.arange(2017,2020,1)\n",
    "\n",
    "\n",
    "plt.plot(ano_lista,final_predictions ,'--r', label='Predito')\n",
    "plt.plot(ano_lista, y_test, label = 'Verdadeiro' )\n",
    "plt.legend()\n",
    "plt.show()"
   ]
  },
  {
   "cell_type": "code",
   "execution_count": 33,
   "metadata": {},
   "outputs": [
    {
     "name": "stdout",
     "output_type": "stream",
     "text": [
      "                            OLS Regression Results                            \n",
      "==============================================================================\n",
      "Dep. Variable:            Passageiros   R-squared:                       0.804\n",
      "Model:                            OLS   Adj. R-squared:                  0.734\n",
      "Method:                 Least Squares   F-statistic:                     11.48\n",
      "Date:                Wed, 16 Nov 2022   Prob (F-statistic):           0.000150\n",
      "Time:                        15:56:15   Log-Likelihood:                -298.86\n",
      "No. Observations:                  20   AIC:                             609.7\n",
      "Df Residuals:                      14   BIC:                             615.7\n",
      "Df Model:                           5                                         \n",
      "Covariance Type:            nonrobust                                         \n",
      "====================================================================================\n",
      "                       coef    std err          t      P>|t|      [0.025      0.975]\n",
      "------------------------------------------------------------------------------------\n",
      "const             1.771e+06   1.64e+06      1.078      0.299   -1.75e+06     5.3e+06\n",
      "Passageiros_freq -4.649e+05   1.55e+06     -0.301      0.768   -3.78e+06    2.85e+06\n",
      "Oil               5.444e+04   8730.343      6.236      0.000    3.57e+04    7.32e+04\n",
      "dolar             4.325e+05   3.96e+05      1.092      0.293   -4.17e+05    1.28e+06\n",
      "inflacao         -4.221e+04   9.11e+04     -0.463      0.650   -2.38e+05    1.53e+05\n",
      "PIB REAL BRASIL  -2.237e+07   8.75e+06     -2.558      0.023   -4.11e+07   -3.61e+06\n",
      "==============================================================================\n",
      "Omnibus:                        5.661   Durbin-Watson:                   1.458\n",
      "Prob(Omnibus):                  0.059   Jarque-Bera (JB):                3.284\n",
      "Skew:                           0.748   Prob(JB):                        0.194\n",
      "Kurtosis:                       4.306   Cond. No.                     3.01e+03\n",
      "==============================================================================\n",
      "\n",
      "Warnings:\n",
      "[1] Standard Errors assume that the covariance matrix of the errors is correctly specified.\n",
      "[2] The condition number is large, 3.01e+03. This might indicate that there are\n",
      "strong multicollinearity or other numerical problems.\n"
     ]
    },
    {
     "name": "stderr",
     "output_type": "stream",
     "text": [
      "C:\\Users\\vitor\\AppData\\Local\\Continuum\\anaconda3\\lib\\site-packages\\numpy\\core\\fromnumeric.py:2629: FutureWarning: Method .ptp is deprecated and will be removed in a future version. Use numpy.ptp instead.\n",
      "  return ptp(axis=axis, out=out, **kwargs)\n"
     ]
    }
   ],
   "source": [
    "import statsmodels.api as sm\n",
    "\n",
    "#define response variable\n",
    "y = principal_cwb[\"Passageiros\"].loc[principal_cwb[\"Ano\"]<2020]\n",
    "\n",
    "#define predictor variables\n",
    "x = principal_cwb.drop([\"Passageiros\", \"Passageiros internacionais\",\"Ano\"],axis=1).loc[principal_cwb[\"Ano\"]<2020]\n",
    "\n",
    "#add constant to predictor variables\n",
    "x = sm.add_constant(x)\n",
    "\n",
    "#fit linear regression model\n",
    "model = sm.OLS(y, x).fit()\n",
    "\n",
    "#view model summary\n",
    "print(model.summary())"
   ]
  },
  {
   "cell_type": "markdown",
   "metadata": {},
   "source": [
    "## Foz do Iguaçu"
   ]
  },
  {
   "cell_type": "markdown",
   "metadata": {},
   "source": [
    "##### juntando os pontos macros e uma unico DataFrame"
   ]
  },
  {
   "cell_type": "code",
   "execution_count": null,
   "metadata": {},
   "outputs": [],
   "source": [
    "principal_igu =(igu_nac\n",
    " .join(igu_int.set_index('Ano'),on='Ano')\n",
    " .join(oil.set_index('Ano'),on='Ano')\n",
    " .join(dolar.set_index('Ano'),on='Ano')\n",
    " .join(inflacao.set_index('Ano'),on='Ano')\n",
    " .join(pib.set_index('Ano'),on='Ano')\n",
    "          )"
   ]
  },
  {
   "cell_type": "markdown",
   "metadata": {},
   "source": [
    "##### Correlação entre os dados pré selecionados "
   ]
  },
  {
   "cell_type": "code",
   "execution_count": null,
   "metadata": {},
   "outputs": [],
   "source": [
    "principal_igu = principal_igu.loc[principal_igu[\"Ano\"]<2020]\n",
    "\n",
    "principal_igu.corr()\n"
   ]
  },
  {
   "cell_type": "markdown",
   "metadata": {},
   "source": [
    "##### Análise grafica"
   ]
  },
  {
   "cell_type": "code",
   "execution_count": null,
   "metadata": {},
   "outputs": [],
   "source": [
    "fig, ax = plt.subplots(4,2)\n",
    "\n",
    "fig.set_size_inches(15,15)\n",
    "\n",
    "\n",
    "\n",
    "ax[0,0].plot(principal_igu[\"Ano\"], principal_igu[\"Passageiros\"],\"g\", label='Passageiros nacionais')\n",
    "ax[0,0].legend()\n",
    "\n",
    "ax[0,1].plot(principal_igu[\"Ano\"], principal_igu[\"Passageiros internacionais\"],\"g\", label = 'Passageiros internacionais' )\n",
    "ax[0,1].legend()\n",
    "\n",
    "\n",
    "ax[1,0].plot(principal_igu[\"Ano\"], principal_igu[\"dolar\"], label = 'Cambio' )\n",
    "ax[1,0].legend()\n",
    "\n",
    "ax[1,1].plot(principal_igu[\"Ano\"], principal_igu[\"inflacao\"], label='Inflação')\n",
    "ax[1,1].legend()\n",
    "\n",
    "#ax[2,0].plot(principal[\"Ano\"], principal[\"PIB REAL PR\"],\"c\", label = 'PIB PR' )\n",
    "#ax[2,0].legend()\n",
    "#\n",
    "#ax[2,1].plot(principal[\"Ano\"], principal[\"PIB REAL SP\"],\"c\", label = 'PIB SP ' )\n",
    "#ax[2,1].legend()\n",
    "#\n",
    "ax[3,0].plot(principal_igu[\"Ano\"], principal_igu[\"PIB REAL BRASIL\"],\"m\", label = 'PIB Brasil' )\n",
    "ax[3,0].legend()\n",
    "\n",
    "ax[3,1].plot(principal_igu[\"Ano\"], principal_igu[\"Oil\"],\"m\", label='Petroleo')\n",
    "ax[3,1].legend()\n",
    "\n",
    "plt.show()"
   ]
  },
  {
   "cell_type": "code",
   "execution_count": null,
   "metadata": {},
   "outputs": [],
   "source": [
    "Y= principal_igu[\"Passageiros\"].copy()\n",
    "X= principal_igu.drop([\"Passageiros\", \"Passageiros internacionais\",\"Ano\"],axis=1).loc[principal_igu[\"Ano\"]<2020].copy()"
   ]
  },
  {
   "cell_type": "code",
   "execution_count": null,
   "metadata": {},
   "outputs": [],
   "source": [
    "X_train, X_test, y_train, y_test = train_test_split(X, Y, test_size=0.5, random_state=42)"
   ]
  },
  {
   "cell_type": "code",
   "execution_count": null,
   "metadata": {},
   "outputs": [],
   "source": [
    "reg= LinearRegression()\n",
    "reg.fit(X_train, y_train)\n",
    "YpredL= reg.predict(X_test)\n",
    "print(YpredL)\n",
    "print(y_test)\n"
   ]
  },
  {
   "cell_type": "code",
   "execution_count": null,
   "metadata": {},
   "outputs": [],
   "source": [
    "ano_lista= np.arange(1,11,1)\n",
    "\n",
    "\n",
    "plt.plot(ano_lista, YpredL,'--r', label='Predito')\n",
    "plt.plot(ano_lista, y_test, label = 'Verdadeiro' )\n",
    "plt.legend()\n",
    "plt.show()"
   ]
  },
  {
   "cell_type": "code",
   "execution_count": null,
   "metadata": {},
   "outputs": [],
   "source": [
    "import statsmodels.api as sm\n",
    "\n",
    "#define response variable\n",
    "y = principal_igu[\"Passageiros\"].loc[principal_igu[\"Ano\"]<2020]\n",
    "\n",
    "#define predictor variables\n",
    "x = principal_igu.drop([\"Passageiros\", \"Passageiros internacionais\",\"Ano\"],axis=1).loc[principal_igu[\"Ano\"]<2020]\n",
    "\n",
    "#add constant to predictor variables\n",
    "x = sm.add_constant(x)\n",
    "\n",
    "#fit linear regression model\n",
    "model = sm.OLS(y, x).fit()\n",
    "\n",
    "#view model summary\n",
    "print(model.summary())"
   ]
  },
  {
   "cell_type": "markdown",
   "metadata": {},
   "source": [
    "## Navegantes"
   ]
  },
  {
   "cell_type": "markdown",
   "metadata": {},
   "source": [
    "##### juntando os pontos macros e uma unico DataFrame"
   ]
  },
  {
   "cell_type": "code",
   "execution_count": null,
   "metadata": {},
   "outputs": [],
   "source": [
    "principal_nvt =(nvt_nac\n",
    " .join(nvt_int.set_index('Ano'),on='Ano')\n",
    " .join(oil.set_index('Ano'),on='Ano')\n",
    " .join(dolar.set_index('Ano'),on='Ano')\n",
    " .join(inflacao.set_index('Ano'),on='Ano')\n",
    " .join(pib.set_index('Ano'),on='Ano')\n",
    "          )"
   ]
  },
  {
   "cell_type": "markdown",
   "metadata": {},
   "source": [
    "##### Correlação entre os dados pré selecionados "
   ]
  },
  {
   "cell_type": "code",
   "execution_count": null,
   "metadata": {},
   "outputs": [],
   "source": [
    "principal_nvt= principal_nvt.loc[principal_nvt[\"Ano\"]<2020]\n",
    "\n",
    "principal_nvt.corr()"
   ]
  },
  {
   "cell_type": "markdown",
   "metadata": {},
   "source": [
    "##### Análise grafica"
   ]
  },
  {
   "cell_type": "code",
   "execution_count": null,
   "metadata": {},
   "outputs": [],
   "source": [
    "fig, ax = plt.subplots(4,2)\n",
    "\n",
    "fig.set_size_inches(15,15)\n",
    "\n",
    "\n",
    "\n",
    "ax[0,0].plot(principal_nvt[\"Ano\"], principal_nvt[\"Passageiros\"],\"g\", label='Passageiros nacionais')\n",
    "ax[0,0].legend()\n",
    "\n",
    "ax[0,1].plot(principal_nvt[\"Ano\"], principal_nvt[\"Passageiros internacionais\"],\"g\", label = 'Passageiros internacionais' )\n",
    "ax[0,1].legend()\n",
    "\n",
    "\n",
    "ax[1,0].plot(principal_nvt[\"Ano\"], principal_nvt[\"dolar\"], label = 'Cambio' )\n",
    "ax[1,0].legend()\n",
    "\n",
    "ax[1,1].plot(principal_nvt[\"Ano\"], principal_nvt[\"inflacao\"], label='Inflação')\n",
    "ax[1,1].legend()\n",
    "\n",
    "#ax[2,0].plot(principal[\"Ano\"], principal[\"PIB REAL SC\"],\"c\", label = 'PIB SC' )\n",
    "#ax[2,0].legend()\n",
    "#\n",
    "#ax[2,1].plot(principal[\"Ano\"], principal[\"PIB REAL SP\"],\"c\", label = 'PIB SP ' )\n",
    "#ax[2,1].legend()\n",
    "\n",
    "ax[3,0].plot(principal_nvt[\"Ano\"], principal_nvt[\"PIB REAL BRASIL\"],\"m\", label = 'PIB Brasil' )\n",
    "ax[3,0].legend()\n",
    "\n",
    "ax[3,1].plot(principal_nvt[\"Ano\"], principal_nvt[\"Oil\"],\"m\", label='Petroleo')\n",
    "ax[3,1].legend()\n",
    "\n",
    "plt.show()"
   ]
  },
  {
   "cell_type": "code",
   "execution_count": null,
   "metadata": {},
   "outputs": [],
   "source": [
    "Y= principal_nvt[\"Passageiros\"].copy()\n",
    "X= principal_nvt.drop([\"Passageiros\", \"Passageiros internacionais\",\"Ano\"],axis=1).loc[principal_nvt[\"Ano\"]<2020].copy()"
   ]
  },
  {
   "cell_type": "code",
   "execution_count": null,
   "metadata": {},
   "outputs": [],
   "source": [
    "X_train, X_test, y_train, y_test = train_test_split(X, Y, test_size=0.5, random_state=42)"
   ]
  },
  {
   "cell_type": "code",
   "execution_count": null,
   "metadata": {},
   "outputs": [],
   "source": [
    "reg= LinearRegression()\n",
    "reg.fit(X_train, y_train)\n",
    "YpredL= reg.predict(X_test)\n",
    "print(YpredL)\n",
    "print(y_test)"
   ]
  },
  {
   "cell_type": "code",
   "execution_count": null,
   "metadata": {},
   "outputs": [],
   "source": [
    "ano_lista= np.arange(1,11,1)\n",
    "\n",
    "\n",
    "plt.plot(ano_lista, YpredL,'--r', label='Predito')\n",
    "plt.plot(ano_lista, y_test, label = 'Verdadeiro' )\n",
    "plt.legend()\n",
    "plt.show()"
   ]
  },
  {
   "cell_type": "code",
   "execution_count": null,
   "metadata": {},
   "outputs": [],
   "source": [
    "import statsmodels.api as sm\n",
    "\n",
    "#define response variable\n",
    "y = principal_nvt[\"Passageiros\"].loc[principal_nvt[\"Ano\"]<2020]\n",
    "\n",
    "#define predictor variables\n",
    "x = principal_nvt.drop([\"Passageiros\", \"Passageiros internacionais\",\"Ano\"],axis=1).loc[principal_nvt[\"Ano\"]<2020]\n",
    "\n",
    "#add constant to predictor variables\n",
    "x = sm.add_constant(x)\n",
    "\n",
    "#fit linear regression model\n",
    "model = sm.OLS(y, x).fit()\n",
    "\n",
    "#view model summary\n",
    "print(model.summary())"
   ]
  },
  {
   "cell_type": "markdown",
   "metadata": {},
   "source": [
    "## Palmas"
   ]
  },
  {
   "cell_type": "markdown",
   "metadata": {},
   "source": [
    "##### juntando os pontos macros e uma unico DataFrame"
   ]
  },
  {
   "cell_type": "code",
   "execution_count": null,
   "metadata": {},
   "outputs": [],
   "source": [
    "principal_pmw =(pmw\n",
    " .join(oil.set_index('Ano'),on='Ano')\n",
    " .join(dolar.set_index('Ano'),on='Ano')\n",
    " .join(inflacao.set_index('Ano'),on='Ano')\n",
    " .join(pib.set_index('Ano'),on='Ano')\n",
    "          )"
   ]
  },
  {
   "cell_type": "markdown",
   "metadata": {},
   "source": [
    "##### Correlação entre os dados pré selecionados "
   ]
  },
  {
   "cell_type": "code",
   "execution_count": null,
   "metadata": {},
   "outputs": [],
   "source": [
    "principal_pmw= principal_pmw.loc[principal_pmw[\"Ano\"]<2020]\n",
    "principal_pmw.corr()"
   ]
  },
  {
   "cell_type": "markdown",
   "metadata": {},
   "source": [
    "##### Análise grafica"
   ]
  },
  {
   "cell_type": "code",
   "execution_count": null,
   "metadata": {},
   "outputs": [],
   "source": [
    "fig, ax = plt.subplots(4,2)\n",
    "\n",
    "fig.set_size_inches(15,15)\n",
    "\n",
    "\n",
    "ax[0,0].plot(principal_nvt[\"Ano\"], principal_nvt[\"Passageiros\"],\"g\", label='Passageiros')\n",
    "ax[0,0].legend()\n",
    "\n",
    "#ax[0,1].plot(principal[\"Ano\"], principal[\"PIB REAL TO\"],\"g\", label='PIB TO')\n",
    "#ax[0,1].legend()\n",
    "\n",
    "ax[1,0].plot(principal_nvt[\"Ano\"], principal_nvt[\"dolar\"], label = 'Cambio' )\n",
    "ax[1,0].legend()\n",
    "\n",
    "ax[1,1].plot(principal_nvt[\"Ano\"], principal_nvt[\"inflacao\"], label='Inflação')\n",
    "ax[1,1].legend()\n",
    "\n",
    "ax[2,0].plot(principal_nvt[\"Ano\"], principal_nvt[\"PIB REAL BRASIL\"],\"c\", label = 'PIB Brasil' )\n",
    "ax[2,0].legend()\n",
    "\n",
    "#ax[2,1].plot(principal[\"Ano\"], principal[\"PIB REAL SP\"],\"c\", label = 'PIB SP' )\n",
    "#ax[2,1].legend()\n",
    "\n",
    "ax[3,0].plot(principal_nvt[\"Ano\"], principal_nvt[\"Oil\"],\"m\", label='Petroleo')\n",
    "ax[3,0].legend()\n",
    "\n",
    "\n",
    "\n",
    "plt.show()#"
   ]
  },
  {
   "cell_type": "code",
   "execution_count": null,
   "metadata": {},
   "outputs": [],
   "source": [
    "Y= principal_pmw[\"Passageiros\"].copy()\n",
    "X= principal_pmw.drop([\"Passageiros\",\"Ano\"],axis=1).loc[principal_pmw[\"Ano\"]<2020].copy()"
   ]
  },
  {
   "cell_type": "code",
   "execution_count": null,
   "metadata": {},
   "outputs": [],
   "source": [
    "X_train, X_test, y_train, y_test = train_test_split(X, Y, test_size=0.5, random_state=42)"
   ]
  },
  {
   "cell_type": "code",
   "execution_count": null,
   "metadata": {},
   "outputs": [],
   "source": [
    "reg= LinearRegression()\n",
    "reg.fit(X_train, y_train)\n",
    "YpredL= reg.predict(X_test)\n",
    "print(YpredL)\n",
    "print(y_test)"
   ]
  },
  {
   "cell_type": "code",
   "execution_count": null,
   "metadata": {},
   "outputs": [],
   "source": [
    "ano_lista= np.arange(1,11,1)\n",
    "\n",
    "\n",
    "plt.plot(ano_lista, YpredL,'--r', label='Predito')\n",
    "plt.plot(ano_lista, y_test, label = 'Verdadeiro' )\n",
    "plt.legend()\n",
    "plt.show()"
   ]
  },
  {
   "cell_type": "code",
   "execution_count": null,
   "metadata": {},
   "outputs": [],
   "source": [
    "import statsmodels.api as sm\n",
    "\n",
    "#define response variable\n",
    "y = principal_pmw[\"Passageiros\"].loc[principal_pmw[\"Ano\"]<2020]\n",
    "\n",
    "#define predictor variables\n",
    "x = principal_pmw.drop([\"Passageiros\", \"Ano\"],axis=1).loc[principal_pmw[\"Ano\"]<2020]\n",
    "\n",
    "#add constant to predictor variables\n",
    "x = sm.add_constant(x)\n",
    "\n",
    "#fit linear regression model\n",
    "model = sm.OLS(y, x).fit()\n",
    "\n",
    "#view model summary\n",
    "print(model.summary())"
   ]
  },
  {
   "cell_type": "markdown",
   "metadata": {},
   "source": [
    "## São Luiz"
   ]
  },
  {
   "cell_type": "markdown",
   "metadata": {},
   "source": [
    "##### juntando os pontos macros e uma unico DataFrame"
   ]
  },
  {
   "cell_type": "code",
   "execution_count": null,
   "metadata": {},
   "outputs": [],
   "source": [
    "principal =(slz\n",
    " .join(oil.set_index('Ano'),on='Ano')\n",
    " .join(dolar.set_index('Ano'),on='Ano')\n",
    " .join(inflacao.set_index('Ano'),on='Ano')\n",
    " .join(pib.set_index('Ano'),on='Ano')\n",
    "          )"
   ]
  },
  {
   "cell_type": "markdown",
   "metadata": {},
   "source": [
    "##### Correlação entre os dados pré selecionados "
   ]
  },
  {
   "cell_type": "code",
   "execution_count": null,
   "metadata": {},
   "outputs": [],
   "source": [
    "principal= principal.loc[principal[\"Ano\"]<2020]\n",
    "principal.corr()"
   ]
  },
  {
   "cell_type": "markdown",
   "metadata": {},
   "source": [
    "##### Análise grafica"
   ]
  },
  {
   "cell_type": "code",
   "execution_count": null,
   "metadata": {},
   "outputs": [],
   "source": [
    "fig, ax = plt.subplots(4,2)\n",
    "\n",
    "fig.set_size_inches(15,15)\n",
    "\n",
    "\n",
    "ax[0,0].plot(principal[\"Ano\"], principal[\"Passageiros\"],\"g\", label='Passageiros')\n",
    "ax[0,0].legend()\n",
    "\n",
    "#ax[0,1].plot(principal[\"Ano\"], principal[\"PIB REAL MA\"],\"g\", label='PIB MA')\n",
    "#ax[0,1].legend()\n",
    "\n",
    "ax[1,0].plot(principal[\"Ano\"], principal[\"dolar\"], label = 'Cambio' )\n",
    "ax[1,0].legend()\n",
    "\n",
    "ax[1,1].plot(principal[\"Ano\"], principal[\"inflacao\"], label='Inflação')\n",
    "ax[1,1].legend()\n",
    "\n",
    "ax[2,0].plot(principal[\"Ano\"], principal[\"PIB REAL BRASIL\"],\"c\", label = 'PIB Brasil' )\n",
    "ax[2,0].legend()\n",
    "\n",
    "#ax[2,1].plot(principal[\"Ano\"], principal[\"PIB REAL SP\"],\"c\", label = 'PIB SP' )\n",
    "#ax[2,1].legend()\n",
    "\n",
    "ax[3,0].plot(principal[\"Ano\"], principal[\"Oil\"],\"m\", label='Petroleo')\n",
    "ax[3,0].legend()\n",
    "\n",
    "\n",
    "\n",
    "plt.show()"
   ]
  },
  {
   "cell_type": "code",
   "execution_count": null,
   "metadata": {},
   "outputs": [],
   "source": [
    "Y= principal[\"Passageiros\"].copy()\n",
    "X= principal.drop([\"Passageiros\", \"Ano\"],axis=1).loc[principal[\"Ano\"]<2020].copy()"
   ]
  },
  {
   "cell_type": "code",
   "execution_count": null,
   "metadata": {},
   "outputs": [],
   "source": [
    "X_train, X_test, y_train, y_test = train_test_split(X, Y, test_size=0.5, random_state=42)"
   ]
  },
  {
   "cell_type": "code",
   "execution_count": null,
   "metadata": {},
   "outputs": [],
   "source": [
    "reg= LinearRegression()\n",
    "reg.fit(X_train, y_train)\n",
    "YpredL= reg.predict(X_test)\n",
    "print(YpredL)\n",
    "print(y_test)"
   ]
  },
  {
   "cell_type": "code",
   "execution_count": null,
   "metadata": {},
   "outputs": [],
   "source": [
    "ano_lista= np.arange(1,11,1)\n",
    "\n",
    "\n",
    "plt.plot(ano_lista, YpredL,'--r', label='Predito')\n",
    "plt.plot(ano_lista, y_test, label = 'Verdadeiro' )\n",
    "plt.legend()\n",
    "plt.show()"
   ]
  },
  {
   "cell_type": "code",
   "execution_count": null,
   "metadata": {},
   "outputs": [],
   "source": [
    "import statsmodels.api as sm\n",
    "\n",
    "#define response variable\n",
    "y = principal[\"Passageiros\"].loc[principal[\"Ano\"]<2020]\n",
    "\n",
    "#define predictor variables\n",
    "x = principal.drop([\"Passageiros\", \"Passageiros internacionais\",\"Ano\"],axis=1).loc[principal[\"Ano\"]<2020]\n",
    "\n",
    "#add constant to predictor variables\n",
    "x = sm.add_constant(x)\n",
    "\n",
    "#fit linear regression model\n",
    "model = sm.OLS(y, x).fit()\n",
    "\n",
    "#view model summary\n",
    "print(model.summary())"
   ]
  },
  {
   "cell_type": "markdown",
   "metadata": {},
   "source": [
    "## Comparação de passageiros nos aeroportos analisados"
   ]
  },
  {
   "cell_type": "code",
   "execution_count": null,
   "metadata": {},
   "outputs": [],
   "source": [
    "#plt.plot(cwb_nac[\"Ano\"], cwb_nac[\"Passageiros\"], label='Curitiba')\n",
    "#plt.legend()\n",
    "#\n",
    "#plt.plot(igu_nac[\"Ano\"], igu_nac[\"Passageiros\"], label='Foz do Iguaçu')\n",
    "#plt.legend()\n",
    "##\n",
    "#plt.plot(nvt_nac[\"Ano\"], nvt_nac[\"Passageiros\"], label='Navegantes')\n",
    "#plt.legend()\n",
    "##\n",
    "#plt.plot(slz[\"Ano\"], slz[\"Passageiros\"], label='São Luiz')\n",
    "#plt.legend()\n",
    "##\n",
    "#plt.plot(pmw[\"Ano\"], pmw[\"Passageiros\"], label='Palmas')\n",
    "#plt.legend()\n",
    "#\n",
    "#plt.title(\"Voos Nacionais\")\n",
    "#plt.show()\n",
    "#\n",
    "#\n",
    "#\n",
    "#\n",
    "#plt.plot(cwb_nac[\"Ano\"], cwb_int[\"Passageiros internacionais\"], label='Curitiba')\n",
    "#plt.legend()\n",
    "#\n",
    "#plt.plot(igu_nac[\"Ano\"], igu_int[\"Passageiros internacionais\"], label='Foz do Iguaçu')\n",
    "#plt.legend()\n",
    "#\n",
    "#plt.plot(nvt_nac[\"Ano\"], nvt_int[\"Passageiros internacionais\"], label='Navegantes')\n",
    "#plt.legend()\n",
    "#\n",
    "#plt.title(\"Voos Internacionais\")\n",
    "#plt.show()"
   ]
  },
  {
   "cell_type": "code",
   "execution_count": null,
   "metadata": {},
   "outputs": [],
   "source": []
  }
 ],
 "metadata": {
  "kernelspec": {
   "display_name": "Python 3",
   "language": "python",
   "name": "python3"
  },
  "language_info": {
   "codemirror_mode": {
    "name": "ipython",
    "version": 3
   },
   "file_extension": ".py",
   "mimetype": "text/x-python",
   "name": "python",
   "nbconvert_exporter": "python",
   "pygments_lexer": "ipython3",
   "version": "3.7.4"
  }
 },
 "nbformat": 4,
 "nbformat_minor": 2
}

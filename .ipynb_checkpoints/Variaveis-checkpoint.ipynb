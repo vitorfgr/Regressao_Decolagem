{
 "cells": [
  {
   "cell_type": "markdown",
   "metadata": {},
   "source": [
    "## Biblioteca importadas"
   ]
  },
  {
   "cell_type": "code",
   "execution_count": 1,
   "metadata": {},
   "outputs": [],
   "source": [
    "\n",
    "import numpy as np \n",
    "import pandas as pd\n",
    "import seaborn as sns\n",
    "\n",
    "from sklearn.datasets import load_iris\n",
    "from sklearn.linear_model import LinearRegression\n",
    "from sklearn.ensemble import RandomForestRegressor\n",
    "from sklearn.metrics import mean_squared_error\n",
    "from sklearn.model_selection import train_test_split\n",
    "from sklearn.metrics import r2_score\n",
    "from sklearn.model_selection import GridSearchCV\n",
    "from sklearn.preprocessing import PolynomialFeatures\n",
    "from sklearn.pipeline import Pipeline\n",
    "\n",
    "import matplotlib.pyplot as plt\n",
    "\n",
    "\n"
   ]
  },
  {
   "cell_type": "markdown",
   "metadata": {},
   "source": [
    "## Leitura das bases de dados de cada aeroportos\n"
   ]
  },
  {
   "cell_type": "markdown",
   "metadata": {},
   "source": [
    "#### Frequencia de passageiros no aeroporto CWB"
   ]
  },
  {
   "cell_type": "code",
   "execution_count": 2,
   "metadata": {},
   "outputs": [],
   "source": [
    "#nacional \n",
    "filename = r'C:Passageiros pagos\\cwb_nac.xlsx'\n",
    "cwb_nac = pd.read_excel(filename).drop([\"Unnamed: 0\"],axis=1)\n",
    "\n",
    "#internacional\n",
    "filename = r'C:Passageiros pagos\\cwb_int.xlsx'\n",
    "cwb_int = (pd.read_excel(filename)\n",
    " .drop([\"Unnamed: 0\"],axis=1)\n",
    " .rename(columns ={'Passageiros':'Passageiros internacionais'})\n",
    "          )\n"
   ]
  },
  {
   "cell_type": "markdown",
   "metadata": {},
   "source": [
    "#### Frequencia de passageiros no aeroporto IGU"
   ]
  },
  {
   "cell_type": "code",
   "execution_count": 3,
   "metadata": {},
   "outputs": [],
   "source": [
    "#nacional\n",
    "filename = r'C:Passageiros pagos\\igu_nac.xlsx'\n",
    "igu_nac = pd.read_excel(filename).drop([\"Unnamed: 0\"],axis=1)\n",
    "\n",
    "#internacional\n",
    "filename = r'C:Passageiros pagos\\igu_int.xlsx'\n",
    "igu_int = (pd.read_excel(filename)\n",
    " .drop([\"Unnamed: 0\"],axis=1)\n",
    " .rename(columns ={'Passageiros':'Passageiros internacionais'})\n",
    "          )"
   ]
  },
  {
   "cell_type": "markdown",
   "metadata": {},
   "source": [
    "#### Frequencia de passageiros no aeroporto NVT"
   ]
  },
  {
   "cell_type": "code",
   "execution_count": 4,
   "metadata": {},
   "outputs": [],
   "source": [
    "#nacional\n",
    "filename = r'C:Passageiros pagos\\nvt_nac.xlsx'\n",
    "nvt_nac = pd.read_excel(filename).drop([\"Unnamed: 0\"],axis=1)\n",
    "\n",
    "#internacional\n",
    "filename = r'C:Passageiros pagos\\nvt_int.xlsx'\n",
    "nvt_int = (pd.read_excel(filename)\n",
    " .drop([\"Unnamed: 0\"],axis=1)\n",
    " .rename(columns ={'Passageiros':'Passageiros internacionais'})\n",
    "          )"
   ]
  },
  {
   "cell_type": "markdown",
   "metadata": {},
   "source": [
    "#### Frequencia de passageiros no aeroporto PMW"
   ]
  },
  {
   "cell_type": "code",
   "execution_count": 5,
   "metadata": {},
   "outputs": [],
   "source": [
    "filename = r'C:Passageiros pagos\\pmw.xlsx'\n",
    "pmw = pd.read_excel(filename).drop([\"Unnamed: 0\"],axis=1)"
   ]
  },
  {
   "cell_type": "markdown",
   "metadata": {},
   "source": [
    "#### Frequencia de passageiros no aeroporto SLZ"
   ]
  },
  {
   "cell_type": "code",
   "execution_count": 6,
   "metadata": {},
   "outputs": [],
   "source": [
    "filename = r'C:Passageiros pagos\\slz.xlsx'\n",
    "slz = pd.read_excel(filename).drop([\"Unnamed: 0\"],axis=1)"
   ]
  },
  {
   "cell_type": "markdown",
   "metadata": {},
   "source": [
    "## Variaveis macro economicas"
   ]
  },
  {
   "cell_type": "markdown",
   "metadata": {},
   "source": [
    "#### Os dados ja foram puxados em escala logaritmica"
   ]
  },
  {
   "cell_type": "markdown",
   "metadata": {},
   "source": [
    "#### Valor do barril de petróleo"
   ]
  },
  {
   "cell_type": "code",
   "execution_count": 7,
   "metadata": {},
   "outputs": [
    {
     "data": {
      "text/html": [
       "<div>\n",
       "<style scoped>\n",
       "    .dataframe tbody tr th:only-of-type {\n",
       "        vertical-align: middle;\n",
       "    }\n",
       "\n",
       "    .dataframe tbody tr th {\n",
       "        vertical-align: top;\n",
       "    }\n",
       "\n",
       "    .dataframe thead th {\n",
       "        text-align: right;\n",
       "    }\n",
       "</style>\n",
       "<table border=\"1\" class=\"dataframe\">\n",
       "  <thead>\n",
       "    <tr style=\"text-align: right;\">\n",
       "      <th></th>\n",
       "      <th>Ano</th>\n",
       "      <th>Oil</th>\n",
       "    </tr>\n",
       "  </thead>\n",
       "  <tbody>\n",
       "    <tr>\n",
       "      <td>0</td>\n",
       "      <td>1960</td>\n",
       "      <td>1.63</td>\n",
       "    </tr>\n",
       "    <tr>\n",
       "      <td>1</td>\n",
       "      <td>1961</td>\n",
       "      <td>1.57</td>\n",
       "    </tr>\n",
       "    <tr>\n",
       "      <td>2</td>\n",
       "      <td>1962</td>\n",
       "      <td>1.52</td>\n",
       "    </tr>\n",
       "    <tr>\n",
       "      <td>3</td>\n",
       "      <td>1963</td>\n",
       "      <td>1.50</td>\n",
       "    </tr>\n",
       "    <tr>\n",
       "      <td>4</td>\n",
       "      <td>1964</td>\n",
       "      <td>1.45</td>\n",
       "    </tr>\n",
       "  </tbody>\n",
       "</table>\n",
       "</div>"
      ],
      "text/plain": [
       "    Ano   Oil\n",
       "0  1960  1.63\n",
       "1  1961  1.57\n",
       "2  1962  1.52\n",
       "3  1963  1.50\n",
       "4  1964  1.45"
      ]
     },
     "execution_count": 7,
     "metadata": {},
     "output_type": "execute_result"
    }
   ],
   "source": [
    "filename = r'C:Dados macros\\statistic_id262858_opec-oil-price-annually-1960-2022.xlsx'\n",
    "oil = pd.read_excel(filename)\n",
    "oil.head()"
   ]
  },
  {
   "cell_type": "markdown",
   "metadata": {},
   "source": [
    "#### Cotação do dolar"
   ]
  },
  {
   "cell_type": "code",
   "execution_count": 8,
   "metadata": {},
   "outputs": [
    {
     "data": {
      "text/html": [
       "<div>\n",
       "<style scoped>\n",
       "    .dataframe tbody tr th:only-of-type {\n",
       "        vertical-align: middle;\n",
       "    }\n",
       "\n",
       "    .dataframe tbody tr th {\n",
       "        vertical-align: top;\n",
       "    }\n",
       "\n",
       "    .dataframe thead th {\n",
       "        text-align: right;\n",
       "    }\n",
       "</style>\n",
       "<table border=\"1\" class=\"dataframe\">\n",
       "  <thead>\n",
       "    <tr style=\"text-align: right;\">\n",
       "      <th></th>\n",
       "      <th>Ano</th>\n",
       "      <th>Câmbio</th>\n",
       "    </tr>\n",
       "  </thead>\n",
       "  <tbody>\n",
       "    <tr>\n",
       "      <td>0</td>\n",
       "      <td>2000</td>\n",
       "      <td>0.000000</td>\n",
       "    </tr>\n",
       "    <tr>\n",
       "      <td>1</td>\n",
       "      <td>2001</td>\n",
       "      <td>0.283438</td>\n",
       "    </tr>\n",
       "    <tr>\n",
       "      <td>2</td>\n",
       "      <td>2002</td>\n",
       "      <td>0.516534</td>\n",
       "    </tr>\n",
       "    <tr>\n",
       "      <td>3</td>\n",
       "      <td>2003</td>\n",
       "      <td>-0.184261</td>\n",
       "    </tr>\n",
       "    <tr>\n",
       "      <td>4</td>\n",
       "      <td>2004</td>\n",
       "      <td>-0.058498</td>\n",
       "    </tr>\n",
       "  </tbody>\n",
       "</table>\n",
       "</div>"
      ],
      "text/plain": [
       "    Ano    Câmbio\n",
       "0  2000  0.000000\n",
       "1  2001  0.283438\n",
       "2  2002  0.516534\n",
       "3  2003 -0.184261\n",
       "4  2004 -0.058498"
      ]
     },
     "execution_count": 8,
     "metadata": {},
     "output_type": "execute_result"
    }
   ],
   "source": [
    "filename = r'C:Dados macros\\Base de dados Dólar.xlsx'\n",
    "dolar = pd.read_excel(filename)\n",
    "dolar = dolar.drop([\"valor\"], axis =1)\n",
    "dolar.head()"
   ]
  },
  {
   "cell_type": "markdown",
   "metadata": {},
   "source": [
    "#### Inflação do turismo no Brasil"
   ]
  },
  {
   "cell_type": "code",
   "execution_count": 9,
   "metadata": {},
   "outputs": [
    {
     "data": {
      "text/html": [
       "<div>\n",
       "<style scoped>\n",
       "    .dataframe tbody tr th:only-of-type {\n",
       "        vertical-align: middle;\n",
       "    }\n",
       "\n",
       "    .dataframe tbody tr th {\n",
       "        vertical-align: top;\n",
       "    }\n",
       "\n",
       "    .dataframe thead th {\n",
       "        text-align: right;\n",
       "    }\n",
       "</style>\n",
       "<table border=\"1\" class=\"dataframe\">\n",
       "  <thead>\n",
       "    <tr style=\"text-align: right;\">\n",
       "      <th></th>\n",
       "      <th>Ano</th>\n",
       "      <th>Inflação</th>\n",
       "    </tr>\n",
       "  </thead>\n",
       "  <tbody>\n",
       "    <tr>\n",
       "      <td>0</td>\n",
       "      <td>1987</td>\n",
       "      <td>2.2833</td>\n",
       "    </tr>\n",
       "    <tr>\n",
       "      <td>1</td>\n",
       "      <td>1988</td>\n",
       "      <td>6.2912</td>\n",
       "    </tr>\n",
       "    <tr>\n",
       "      <td>2</td>\n",
       "      <td>1989</td>\n",
       "      <td>14.3072</td>\n",
       "    </tr>\n",
       "    <tr>\n",
       "      <td>3</td>\n",
       "      <td>1990</td>\n",
       "      <td>29.4773</td>\n",
       "    </tr>\n",
       "    <tr>\n",
       "      <td>4</td>\n",
       "      <td>1991</td>\n",
       "      <td>4.3277</td>\n",
       "    </tr>\n",
       "  </tbody>\n",
       "</table>\n",
       "</div>"
      ],
      "text/plain": [
       "    Ano  Inflação\n",
       "0  1987    2.2833\n",
       "1  1988    6.2912\n",
       "2  1989   14.3072\n",
       "3  1990   29.4773\n",
       "4  1991    4.3277"
      ]
     },
     "execution_count": 9,
     "metadata": {},
     "output_type": "execute_result"
    }
   ],
   "source": [
    "filename = r'C:Dados macros\\statistic_id270812_inflation-rate-in-brazil-2027.xlsx'\n",
    "inflacao = pd.read_excel(filename)\n",
    "inflacao = inflacao.drop([\"valor\"], axis =1)\n",
    "inflacao.head()\n"
   ]
  },
  {
   "cell_type": "markdown",
   "metadata": {},
   "source": [
    "#### PIB do Brasil e dos Estados dos aeroportos "
   ]
  },
  {
   "cell_type": "code",
   "execution_count": 10,
   "metadata": {},
   "outputs": [
    {
     "data": {
      "text/html": [
       "<div>\n",
       "<style scoped>\n",
       "    .dataframe tbody tr th:only-of-type {\n",
       "        vertical-align: middle;\n",
       "    }\n",
       "\n",
       "    .dataframe tbody tr th {\n",
       "        vertical-align: top;\n",
       "    }\n",
       "\n",
       "    .dataframe thead th {\n",
       "        text-align: right;\n",
       "    }\n",
       "</style>\n",
       "<table border=\"1\" class=\"dataframe\">\n",
       "  <thead>\n",
       "    <tr style=\"text-align: right;\">\n",
       "      <th></th>\n",
       "      <th>Ano</th>\n",
       "      <th>PIB real Brasil</th>\n",
       "    </tr>\n",
       "  </thead>\n",
       "  <tbody>\n",
       "    <tr>\n",
       "      <td>0</td>\n",
       "      <td>2000</td>\n",
       "      <td>0.000000</td>\n",
       "    </tr>\n",
       "    <tr>\n",
       "      <td>1</td>\n",
       "      <td>2001</td>\n",
       "      <td>0.000472</td>\n",
       "    </tr>\n",
       "    <tr>\n",
       "      <td>2</td>\n",
       "      <td>2002</td>\n",
       "      <td>0.001028</td>\n",
       "    </tr>\n",
       "    <tr>\n",
       "      <td>3</td>\n",
       "      <td>2003</td>\n",
       "      <td>0.000387</td>\n",
       "    </tr>\n",
       "    <tr>\n",
       "      <td>4</td>\n",
       "      <td>2004</td>\n",
       "      <td>0.001911</td>\n",
       "    </tr>\n",
       "  </tbody>\n",
       "</table>\n",
       "</div>"
      ],
      "text/plain": [
       "    Ano  PIB real Brasil\n",
       "0  2000         0.000000\n",
       "1  2001         0.000472\n",
       "2  2002         0.001028\n",
       "3  2003         0.000387\n",
       "4  2004         0.001911"
      ]
     },
     "execution_count": 10,
     "metadata": {},
     "output_type": "execute_result"
    }
   ],
   "source": [
    "filename = r'C:Dados macros\\PIB_brasil_freq.xlsx'\n",
    "pib = pd.read_excel(filename)\n",
    "pib = pib.drop([\"valor\"], axis =1)\n",
    "pib.head()"
   ]
  },
  {
   "cell_type": "markdown",
   "metadata": {},
   "source": [
    "# Curitiba"
   ]
  },
  {
   "cell_type": "markdown",
   "metadata": {},
   "source": [
    "##### juntando os pontos macros e uma unico DataFrame"
   ]
  },
  {
   "cell_type": "code",
   "execution_count": 11,
   "metadata": {},
   "outputs": [],
   "source": [
    "principal_cwb =(cwb_nac\n",
    " .join(cwb_int.set_index('Ano'),on='Ano')\n",
    " .join(oil.set_index('Ano'),on='Ano')\n",
    " .join(dolar.set_index('Ano'),on='Ano')\n",
    " .join(inflacao.set_index('Ano'),on='Ano')\n",
    " .join(pib.set_index('Ano'),on='Ano')\n",
    "          )\n"
   ]
  },
  {
   "cell_type": "markdown",
   "metadata": {},
   "source": [
    "#### Correlação entre os dados pré selecionados "
   ]
  },
  {
   "cell_type": "code",
   "execution_count": 12,
   "metadata": {},
   "outputs": [
    {
     "data": {
      "text/html": [
       "<div>\n",
       "<style scoped>\n",
       "    .dataframe tbody tr th:only-of-type {\n",
       "        vertical-align: middle;\n",
       "    }\n",
       "\n",
       "    .dataframe tbody tr th {\n",
       "        vertical-align: top;\n",
       "    }\n",
       "\n",
       "    .dataframe thead th {\n",
       "        text-align: right;\n",
       "    }\n",
       "</style>\n",
       "<table border=\"1\" class=\"dataframe\">\n",
       "  <thead>\n",
       "    <tr style=\"text-align: right;\">\n",
       "      <th></th>\n",
       "      <th>Passageiros_freq_defasagem</th>\n",
       "      <th>Câmbio</th>\n",
       "      <th>Inflação</th>\n",
       "      <th>PIB real Brasil</th>\n",
       "    </tr>\n",
       "  </thead>\n",
       "  <tbody>\n",
       "    <tr>\n",
       "      <td>Passageiros_freq_defasagem</td>\n",
       "      <td>1.000000</td>\n",
       "      <td>-0.378978</td>\n",
       "      <td>-0.229385</td>\n",
       "      <td>0.427399</td>\n",
       "    </tr>\n",
       "    <tr>\n",
       "      <td>Câmbio</td>\n",
       "      <td>-0.378978</td>\n",
       "      <td>1.000000</td>\n",
       "      <td>0.077090</td>\n",
       "      <td>-0.058331</td>\n",
       "    </tr>\n",
       "    <tr>\n",
       "      <td>Inflação</td>\n",
       "      <td>-0.229385</td>\n",
       "      <td>0.077090</td>\n",
       "      <td>1.000000</td>\n",
       "      <td>-0.353719</td>\n",
       "    </tr>\n",
       "    <tr>\n",
       "      <td>PIB real Brasil</td>\n",
       "      <td>0.427399</td>\n",
       "      <td>-0.058331</td>\n",
       "      <td>-0.353719</td>\n",
       "      <td>1.000000</td>\n",
       "    </tr>\n",
       "  </tbody>\n",
       "</table>\n",
       "</div>"
      ],
      "text/plain": [
       "                            Passageiros_freq_defasagem    Câmbio  Inflação  \\\n",
       "Passageiros_freq_defasagem                    1.000000 -0.378978 -0.229385   \n",
       "Câmbio                                       -0.378978  1.000000  0.077090   \n",
       "Inflação                                     -0.229385  0.077090  1.000000   \n",
       "PIB real Brasil                               0.427399 -0.058331 -0.353719   \n",
       "\n",
       "                            PIB real Brasil  \n",
       "Passageiros_freq_defasagem         0.427399  \n",
       "Câmbio                            -0.058331  \n",
       "Inflação                          -0.353719  \n",
       "PIB real Brasil                    1.000000  "
      ]
     },
     "execution_count": 12,
     "metadata": {},
     "output_type": "execute_result"
    }
   ],
   "source": [
    "principal_cwb.loc[principal_cwb[\"Ano\"] == 2019, \"Passageiros_freq_defasagem\"] = 0 \n",
    "principal_cwb = principal_cwb.loc[principal_cwb[\"Ano\"]<2020]\n",
    "\n",
    "principal_cwb.drop([\"Passageiros internacionais\",\"Passageiros_frequencia\", \"Ano\",\"numero_de_passageiros\",\"Oil\"],axis=1).corr()\n"
   ]
  },
  {
   "cell_type": "markdown",
   "metadata": {},
   "source": [
    "#### Dividindo a base de dados em treinamento e teste "
   ]
  },
  {
   "cell_type": "markdown",
   "metadata": {},
   "source": [
    "Nas duas células de códigos seguintes temos a parte de treinamento e teste. O treino foi definido do ano 2000 até 2017 e na parte foi colocado todos os anos de 2000 até 2019. A variavel Y(a ser prevista) foi colocado a frequencia dos passageiros e nas variaveis X (Cambio, PIB real do Brasil e Inflação) e foi retirada todas as outras."
   ]
  },
  {
   "cell_type": "code",
   "execution_count": 13,
   "metadata": {},
   "outputs": [],
   "source": [
    "# Para treinamento utilizamos de 2000 até 2017\n",
    "treino = principal_cwb.loc[principal_cwb[\"Ano\"] < 2017]\n",
    "\n",
    "# Para teste utilizamos de 2000 até 2019\n",
    "teste = principal_cwb.loc[principal_cwb[\"Ano\"] >= 2017]"
   ]
  },
  {
   "cell_type": "markdown",
   "metadata": {},
   "source": [
    "##### Testando quais variaveis são as que mais correspondem com a regressão \n",
    "A variavel dependente utilizada foi o PIB"
   ]
  },
  {
   "cell_type": "code",
   "execution_count": 14,
   "metadata": {},
   "outputs": [],
   "source": [
    "y_train= treino[\"Passageiros_frequencia\"].copy()\n",
    "y_test= teste[\"Passageiros_frequencia\"].copy()\n",
    "\n",
    "X_train = treino.drop([\"Passageiros_frequencia\", \"Passageiros internacionais\",\"Ano\",\"numero_de_passageiros\",\"Oil\",\"Inflação\",\"Câmbio\"],axis=1).copy()\n",
    "X_test = teste.drop([\"Passageiros_frequencia\", \"Passageiros internacionais\",\"Ano\", \"numero_de_passageiros\",\"Oil\",\"Inflação\",\"Câmbio\"],axis=1).copy()"
   ]
  },
  {
   "cell_type": "markdown",
   "metadata": {},
   "source": [
    "#### Analise com OLS"
   ]
  },
  {
   "cell_type": "markdown",
   "metadata": {},
   "source": [
    "A regressão linear está analisando um periodo de tempo de 19 anos, se iniciando em 2000 até 2019. Foi utilizada a biblioteca OLS (statsmoldels)"
   ]
  },
  {
   "cell_type": "code",
   "execution_count": 15,
   "metadata": {
    "scrolled": true
   },
   "outputs": [
    {
     "name": "stdout",
     "output_type": "stream",
     "text": [
      "                              OLS Regression Results                              \n",
      "==================================================================================\n",
      "Dep. Variable:     Passageiros_frequencia   R-squared:                       0.285\n",
      "Model:                                OLS   Adj. R-squared:                  0.183\n",
      "Method:                     Least Squares   F-statistic:                     2.788\n",
      "Date:                    Wed, 21 Dec 2022   Prob (F-statistic):             0.0957\n",
      "Time:                            23:12:24   Log-Likelihood:                 62.864\n",
      "No. Observations:                      17   AIC:                            -119.7\n",
      "Df Residuals:                          14   BIC:                            -117.2\n",
      "Df Model:                               2                                         \n",
      "Covariance Type:                nonrobust                                         \n",
      "==============================================================================================\n",
      "                                 coef    std err          t      P>|t|      [0.025      0.975]\n",
      "----------------------------------------------------------------------------------------------\n",
      "const                          0.0002      0.002      0.114      0.911      -0.004       0.005\n",
      "Passageiros_freq_defasagem    -0.1718      0.250     -0.687      0.503      -0.708       0.365\n",
      "PIB real Brasil                4.1625      1.779      2.339      0.035       0.346       7.979\n",
      "==============================================================================\n",
      "Omnibus:                        0.103   Durbin-Watson:                   2.064\n",
      "Prob(Omnibus):                  0.950   Jarque-Bera (JB):                0.209\n",
      "Skew:                           0.149   Prob(JB):                        0.901\n",
      "Kurtosis:                       2.546   Cond. No.                     1.11e+03\n",
      "==============================================================================\n",
      "\n",
      "Warnings:\n",
      "[1] Standard Errors assume that the covariance matrix of the errors is correctly specified.\n",
      "[2] The condition number is large, 1.11e+03. This might indicate that there are\n",
      "strong multicollinearity or other numerical problems.\n"
     ]
    },
    {
     "name": "stderr",
     "output_type": "stream",
     "text": [
      "C:\\Users\\vitor\\AppData\\Local\\Continuum\\anaconda3\\lib\\site-packages\\numpy\\core\\fromnumeric.py:2629: FutureWarning: Method .ptp is deprecated and will be removed in a future version. Use numpy.ptp instead.\n",
      "  return ptp(axis=axis, out=out, **kwargs)\n",
      "C:\\Users\\vitor\\AppData\\Local\\Continuum\\anaconda3\\lib\\site-packages\\scipy\\stats\\stats.py:1450: UserWarning: kurtosistest only valid for n>=20 ... continuing anyway, n=17\n",
      "  \"anyway, n=%i\" % int(n))\n"
     ]
    }
   ],
   "source": [
    "import statsmodels.api as sm\n",
    "\n",
    "\n",
    "x = sm.add_constant(X_train)\n",
    "\n",
    "model = sm.OLS(y_train, x).fit()\n",
    "\n",
    "\n",
    "print(model.summary())"
   ]
  },
  {
   "cell_type": "markdown",
   "metadata": {},
   "source": [
    "##### Testando quais variaveis são as que mais correspondem com a regressão \n",
    "A variavel dependente utilizada foi o PIB"
   ]
  },
  {
   "cell_type": "code",
   "execution_count": 16,
   "metadata": {},
   "outputs": [],
   "source": [
    "y_train= treino[\"Passageiros_frequencia\"].copy()\n",
    "y_test= teste[\"Passageiros_frequencia\"].copy()\n",
    "\n",
    "X_train = treino.drop([\"Passageiros_frequencia\", \"Passageiros internacionais\",\"Ano\",\"numero_de_passageiros\",\"Oil\",\"Inflação\"],axis=1).copy()\n",
    "X_test = teste.drop([\"Passageiros_frequencia\", \"Passageiros internacionais\",\"Ano\", \"numero_de_passageiros\",\"Oil\",\"Inflação\"],axis=1).copy()"
   ]
  },
  {
   "cell_type": "markdown",
   "metadata": {},
   "source": [
    "#### Analise com OLS"
   ]
  },
  {
   "cell_type": "markdown",
   "metadata": {},
   "source": [
    "A regressão linear está analisando um periodo de tempo de 19 anos, se iniciando em 2000 até 2019. Foi utilizada a biblioteca OLS (statsmoldels)"
   ]
  },
  {
   "cell_type": "code",
   "execution_count": 17,
   "metadata": {
    "scrolled": true
   },
   "outputs": [
    {
     "name": "stdout",
     "output_type": "stream",
     "text": [
      "                              OLS Regression Results                              \n",
      "==================================================================================\n",
      "Dep. Variable:     Passageiros_frequencia   R-squared:                       0.285\n",
      "Model:                                OLS   Adj. R-squared:                  0.121\n",
      "Method:                     Least Squares   F-statistic:                     1.731\n",
      "Date:                    Wed, 21 Dec 2022   Prob (F-statistic):              0.210\n",
      "Time:                            23:12:24   Log-Likelihood:                 62.871\n",
      "No. Observations:                      17   AIC:                            -117.7\n",
      "Df Residuals:                          13   BIC:                            -114.4\n",
      "Df Model:                               3                                         \n",
      "Covariance Type:                nonrobust                                         \n",
      "==============================================================================================\n",
      "                                 coef    std err          t      P>|t|      [0.025      0.975]\n",
      "----------------------------------------------------------------------------------------------\n",
      "const                          0.0002      0.002      0.074      0.942      -0.005       0.005\n",
      "Passageiros_freq_defasagem    -0.1592      0.286     -0.556      0.588      -0.778       0.460\n",
      "Câmbio                         0.0008      0.008      0.103      0.919      -0.015       0.017\n",
      "PIB real Brasil                4.1376      1.861      2.223      0.045       0.116       8.159\n",
      "==============================================================================\n",
      "Omnibus:                        0.192   Durbin-Watson:                   2.082\n",
      "Prob(Omnibus):                  0.908   Jarque-Bera (JB):                0.243\n",
      "Skew:                           0.202   Prob(JB):                        0.886\n",
      "Kurtosis:                       2.577   Cond. No.                     1.12e+03\n",
      "==============================================================================\n",
      "\n",
      "Warnings:\n",
      "[1] Standard Errors assume that the covariance matrix of the errors is correctly specified.\n",
      "[2] The condition number is large, 1.12e+03. This might indicate that there are\n",
      "strong multicollinearity or other numerical problems.\n"
     ]
    }
   ],
   "source": [
    "import statsmodels.api as sm\n",
    "\n",
    "\n",
    "x = sm.add_constant(X_train)\n",
    "\n",
    "model = sm.OLS(y_train, x).fit()\n",
    "\n",
    "\n",
    "print(model.summary())"
   ]
  },
  {
   "cell_type": "markdown",
   "metadata": {},
   "source": [
    "##### Testando quais variaveis são as que mais correspondem com a regressão \n",
    "A variavel dependente utilizada foi o PIB"
   ]
  },
  {
   "cell_type": "code",
   "execution_count": 18,
   "metadata": {},
   "outputs": [],
   "source": [
    "y_train= treino[\"Passageiros_frequencia\"].copy()\n",
    "y_test= teste[\"Passageiros_frequencia\"].copy()\n",
    "\n",
    "X_train = treino.drop([\"Passageiros_frequencia\", \"Passageiros internacionais\",\"Ano\",\"numero_de_passageiros\",\"Oil\",\"Câmbio\"],axis=1).copy()\n",
    "X_test = teste.drop([\"Passageiros_frequencia\", \"Passageiros internacionais\",\"Ano\", \"numero_de_passageiros\",\"Oil\",\"Câmbio\"],axis=1).copy()"
   ]
  },
  {
   "cell_type": "markdown",
   "metadata": {},
   "source": [
    "#### Analise com OLS"
   ]
  },
  {
   "cell_type": "markdown",
   "metadata": {},
   "source": [
    "A regressão linear está analisando um periodo de tempo de 19 anos, se iniciando em 2000 até 2019. Foi utilizada a biblioteca OLS (statsmoldels)"
   ]
  },
  {
   "cell_type": "code",
   "execution_count": 19,
   "metadata": {
    "scrolled": true
   },
   "outputs": [
    {
     "name": "stdout",
     "output_type": "stream",
     "text": [
      "                              OLS Regression Results                              \n",
      "==================================================================================\n",
      "Dep. Variable:     Passageiros_frequencia   R-squared:                       0.419\n",
      "Model:                                OLS   Adj. R-squared:                  0.285\n",
      "Method:                     Least Squares   F-statistic:                     3.130\n",
      "Date:                    Wed, 21 Dec 2022   Prob (F-statistic):             0.0624\n",
      "Time:                            23:12:24   Log-Likelihood:                 64.636\n",
      "No. Observations:                      17   AIC:                            -121.3\n",
      "Df Residuals:                          13   BIC:                            -117.9\n",
      "Df Model:                               3                                         \n",
      "Covariance Type:                nonrobust                                         \n",
      "==============================================================================================\n",
      "                                 coef    std err          t      P>|t|      [0.025      0.975]\n",
      "----------------------------------------------------------------------------------------------\n",
      "const                          0.0097      0.006      1.680      0.117      -0.003       0.022\n",
      "Passageiros_freq_defasagem    -0.2668      0.240     -1.111      0.287      -0.786       0.252\n",
      "Inflação                      -0.1226      0.071     -1.736      0.106      -0.275       0.030\n",
      "PIB real Brasil                3.0769      1.777      1.731      0.107      -0.763       6.917\n",
      "==============================================================================\n",
      "Omnibus:                        1.381   Durbin-Watson:                   1.868\n",
      "Prob(Omnibus):                  0.501   Jarque-Bera (JB):                1.064\n",
      "Skew:                           0.389   Prob(JB):                        0.587\n",
      "Kurtosis:                       2.053   Cond. No.                     1.19e+03\n",
      "==============================================================================\n",
      "\n",
      "Warnings:\n",
      "[1] Standard Errors assume that the covariance matrix of the errors is correctly specified.\n",
      "[2] The condition number is large, 1.19e+03. This might indicate that there are\n",
      "strong multicollinearity or other numerical problems.\n"
     ]
    }
   ],
   "source": [
    "import statsmodels.api as sm\n",
    "\n",
    "\n",
    "x = sm.add_constant(X_train)\n",
    "\n",
    "model = sm.OLS(y_train, x).fit()\n",
    "\n",
    "\n",
    "print(model.summary())"
   ]
  },
  {
   "cell_type": "markdown",
   "metadata": {},
   "source": [
    "##### Testando quais variaveis são as que mais correspondem com a regressão \n",
    "A variavel dependente utilizada foi o PIB"
   ]
  },
  {
   "cell_type": "code",
   "execution_count": 20,
   "metadata": {},
   "outputs": [],
   "source": [
    "y_train= treino[\"Passageiros_frequencia\"].copy()\n",
    "y_test= teste[\"Passageiros_frequencia\"].copy()\n",
    "\n",
    "X_train = treino.drop([\"Passageiros_frequencia\", \"Passageiros internacionais\",\"Ano\",\"numero_de_passageiros\",\"Oil\"],axis=1).copy()\n",
    "X_test = teste.drop([\"Passageiros_frequencia\", \"Passageiros internacionais\",\"Ano\", \"numero_de_passageiros\",\"Oil\"],axis=1).copy()"
   ]
  },
  {
   "cell_type": "markdown",
   "metadata": {},
   "source": [
    "#### Analise com OLS"
   ]
  },
  {
   "cell_type": "markdown",
   "metadata": {},
   "source": [
    "A regressão linear está analisando um periodo de tempo de 19 anos, se iniciando em 2000 até 2019. Foi utilizada a biblioteca OLS (statsmoldels)"
   ]
  },
  {
   "cell_type": "code",
   "execution_count": 21,
   "metadata": {
    "scrolled": true
   },
   "outputs": [
    {
     "name": "stdout",
     "output_type": "stream",
     "text": [
      "                              OLS Regression Results                              \n",
      "==================================================================================\n",
      "Dep. Variable:     Passageiros_frequencia   R-squared:                       0.419\n",
      "Model:                                OLS   Adj. R-squared:                  0.226\n",
      "Method:                     Least Squares   F-statistic:                     2.167\n",
      "Date:                    Wed, 21 Dec 2022   Prob (F-statistic):              0.135\n",
      "Time:                            23:12:24   Log-Likelihood:                 64.636\n",
      "No. Observations:                      17   AIC:                            -119.3\n",
      "Df Residuals:                          12   BIC:                            -115.1\n",
      "Df Model:                               4                                         \n",
      "Covariance Type:                nonrobust                                         \n",
      "==============================================================================================\n",
      "                                 coef    std err          t      P>|t|      [0.025      0.975]\n",
      "----------------------------------------------------------------------------------------------\n",
      "const                          0.0097      0.006      1.592      0.137      -0.004       0.023\n",
      "Passageiros_freq_defasagem    -0.2644      0.276     -0.958      0.357      -0.866       0.337\n",
      "Câmbio                         0.0001      0.007      0.021      0.984      -0.015       0.016\n",
      "Inflação                      -0.1225      0.074     -1.664      0.122      -0.283       0.038\n",
      "PIB real Brasil                3.0729      1.860      1.652      0.124      -0.979       7.125\n",
      "==============================================================================\n",
      "Omnibus:                        1.353   Durbin-Watson:                   1.872\n",
      "Prob(Omnibus):                  0.508   Jarque-Bera (JB):                1.060\n",
      "Skew:                           0.395   Prob(JB):                        0.589\n",
      "Kurtosis:                       2.066   Cond. No.                     1.20e+03\n",
      "==============================================================================\n",
      "\n",
      "Warnings:\n",
      "[1] Standard Errors assume that the covariance matrix of the errors is correctly specified.\n",
      "[2] The condition number is large, 1.2e+03. This might indicate that there are\n",
      "strong multicollinearity or other numerical problems.\n"
     ]
    }
   ],
   "source": [
    "import statsmodels.api as sm\n",
    "\n",
    "\n",
    "x = sm.add_constant(X_train)\n",
    "\n",
    "model = sm.OLS(y_train, x).fit()\n",
    "\n",
    "\n",
    "print(model.summary())"
   ]
  },
  {
   "cell_type": "markdown",
   "metadata": {},
   "source": [
    "# Foz do Iguaçu"
   ]
  },
  {
   "cell_type": "markdown",
   "metadata": {},
   "source": [
    "##### juntando os pontos macros e uma unico DataFrame"
   ]
  },
  {
   "cell_type": "code",
   "execution_count": 22,
   "metadata": {},
   "outputs": [],
   "source": [
    "principal_igu =(igu_nac\n",
    " .join(igu_int.set_index('Ano'),on='Ano')\n",
    " .join(oil.set_index('Ano'),on='Ano')\n",
    " .join(dolar.set_index('Ano'),on='Ano')\n",
    " .join(inflacao.set_index('Ano'),on='Ano')\n",
    " .join(pib.set_index('Ano'),on='Ano')\n",
    "          )"
   ]
  },
  {
   "cell_type": "markdown",
   "metadata": {},
   "source": [
    "##### Correlação entre os dados pré selecionados "
   ]
  },
  {
   "cell_type": "code",
   "execution_count": 23,
   "metadata": {},
   "outputs": [
    {
     "data": {
      "text/html": [
       "<div>\n",
       "<style scoped>\n",
       "    .dataframe tbody tr th:only-of-type {\n",
       "        vertical-align: middle;\n",
       "    }\n",
       "\n",
       "    .dataframe tbody tr th {\n",
       "        vertical-align: top;\n",
       "    }\n",
       "\n",
       "    .dataframe thead th {\n",
       "        text-align: right;\n",
       "    }\n",
       "</style>\n",
       "<table border=\"1\" class=\"dataframe\">\n",
       "  <thead>\n",
       "    <tr style=\"text-align: right;\">\n",
       "      <th></th>\n",
       "      <th>Passageiros_freq_defasagem</th>\n",
       "      <th>Câmbio</th>\n",
       "      <th>Inflação</th>\n",
       "      <th>PIB real Brasil</th>\n",
       "    </tr>\n",
       "  </thead>\n",
       "  <tbody>\n",
       "    <tr>\n",
       "      <td>Passageiros_freq_defasagem</td>\n",
       "      <td>1.000000</td>\n",
       "      <td>-0.362140</td>\n",
       "      <td>0.128012</td>\n",
       "      <td>0.282233</td>\n",
       "    </tr>\n",
       "    <tr>\n",
       "      <td>Câmbio</td>\n",
       "      <td>-0.362140</td>\n",
       "      <td>1.000000</td>\n",
       "      <td>0.077090</td>\n",
       "      <td>-0.058331</td>\n",
       "    </tr>\n",
       "    <tr>\n",
       "      <td>Inflação</td>\n",
       "      <td>0.128012</td>\n",
       "      <td>0.077090</td>\n",
       "      <td>1.000000</td>\n",
       "      <td>-0.353719</td>\n",
       "    </tr>\n",
       "    <tr>\n",
       "      <td>PIB real Brasil</td>\n",
       "      <td>0.282233</td>\n",
       "      <td>-0.058331</td>\n",
       "      <td>-0.353719</td>\n",
       "      <td>1.000000</td>\n",
       "    </tr>\n",
       "  </tbody>\n",
       "</table>\n",
       "</div>"
      ],
      "text/plain": [
       "                            Passageiros_freq_defasagem    Câmbio  Inflação  \\\n",
       "Passageiros_freq_defasagem                    1.000000 -0.362140  0.128012   \n",
       "Câmbio                                       -0.362140  1.000000  0.077090   \n",
       "Inflação                                      0.128012  0.077090  1.000000   \n",
       "PIB real Brasil                               0.282233 -0.058331 -0.353719   \n",
       "\n",
       "                            PIB real Brasil  \n",
       "Passageiros_freq_defasagem         0.282233  \n",
       "Câmbio                            -0.058331  \n",
       "Inflação                          -0.353719  \n",
       "PIB real Brasil                    1.000000  "
      ]
     },
     "execution_count": 23,
     "metadata": {},
     "output_type": "execute_result"
    }
   ],
   "source": [
    "principal_igu.loc[principal_igu[\"Ano\"] == 2019, \"Passageiros_freq_defasagem\"] = 0 \n",
    "principal_igu = principal_igu.loc[principal_igu[\"Ano\"]<2020]\n",
    "\n",
    "principal_igu.drop([\"Passageiros internacionais\",\"Passageiros_frequencia\", \"Ano\",\"numero_de_passageiros\",\"Oil\"],axis=1).corr()\n"
   ]
  },
  {
   "cell_type": "markdown",
   "metadata": {},
   "source": [
    "#### Dividindo a base de dados em treinamento e teste"
   ]
  },
  {
   "cell_type": "markdown",
   "metadata": {},
   "source": [
    "Nas duas células de códigos seguintes temos a parte de treinamento e teste. O treino foi definido do ano 2000 até 2017 e na parte foi colocado todos os anos de 2000 até 2019. A variavel Y(a ser prevista) foi colocado a frequencia dos passageiros e nas variaveis X (Cambio, PIB real do Brasil e Inflação) e foi retirada todas as outras."
   ]
  },
  {
   "cell_type": "code",
   "execution_count": 24,
   "metadata": {},
   "outputs": [],
   "source": [
    "treino = principal_igu.loc[principal_igu[\"Ano\"] < 2017]\n",
    "teste = principal_igu.loc[principal_igu[\"Ano\"] >= 2017]"
   ]
  },
  {
   "cell_type": "markdown",
   "metadata": {},
   "source": [
    "##### Testando quais variaveis são as que mais correspondem com a regressão \n",
    "A variavel dependente utilizada foi o PIB"
   ]
  },
  {
   "cell_type": "code",
   "execution_count": 25,
   "metadata": {},
   "outputs": [],
   "source": [
    "y_train= treino[\"Passageiros_frequencia\"].copy()\n",
    "y_test= teste[\"Passageiros_frequencia\"].copy()\n",
    "\n",
    "X_train = treino.drop([\"Passageiros_frequencia\", \"Passageiros internacionais\",\"Ano\",\"numero_de_passageiros\",\"Oil\",\"Inflação\",\"Câmbio\"],axis=1).copy()\n",
    "X_test = teste.drop([\"Passageiros_frequencia\", \"Passageiros internacionais\",\"Ano\",\"numero_de_passageiros\",\"Oil\",\"Inflação\",\"Câmbio\"],axis=1).copy()"
   ]
  },
  {
   "cell_type": "markdown",
   "metadata": {},
   "source": [
    "#### Analise com OLS"
   ]
  },
  {
   "cell_type": "markdown",
   "metadata": {},
   "source": [
    "A regressão linear está analisando um periodo de tempo de 19 anos, se iniciando em 2000 até 2019. Foi utilizada a biblioteca OLS (statsmoldels)"
   ]
  },
  {
   "cell_type": "code",
   "execution_count": 26,
   "metadata": {
    "scrolled": false
   },
   "outputs": [
    {
     "name": "stdout",
     "output_type": "stream",
     "text": [
      "                              OLS Regression Results                              \n",
      "==================================================================================\n",
      "Dep. Variable:     Passageiros_frequencia   R-squared:                       0.164\n",
      "Model:                                OLS   Adj. R-squared:                  0.045\n",
      "Method:                     Least Squares   F-statistic:                     1.374\n",
      "Date:                    Wed, 21 Dec 2022   Prob (F-statistic):              0.285\n",
      "Time:                            23:12:24   Log-Likelihood:                 54.162\n",
      "No. Observations:                      17   AIC:                            -102.3\n",
      "Df Residuals:                          14   BIC:                            -99.82\n",
      "Df Model:                               2                                         \n",
      "Covariance Type:                nonrobust                                         \n",
      "==============================================================================================\n",
      "                                 coef    std err          t      P>|t|      [0.025      0.975]\n",
      "----------------------------------------------------------------------------------------------\n",
      "const                          0.0020      0.004      0.567      0.580      -0.006       0.010\n",
      "Passageiros_freq_defasagem     0.1187      0.254      0.467      0.648      -0.427       0.664\n",
      "PIB real Brasil                3.9338      2.802      1.404      0.182      -2.076       9.944\n",
      "==============================================================================\n",
      "Omnibus:                        1.281   Durbin-Watson:                   1.719\n",
      "Prob(Omnibus):                  0.527   Jarque-Bera (JB):                1.110\n",
      "Skew:                           0.514   Prob(JB):                        0.574\n",
      "Kurtosis:                       2.286   Cond. No.                     1.05e+03\n",
      "==============================================================================\n",
      "\n",
      "Warnings:\n",
      "[1] Standard Errors assume that the covariance matrix of the errors is correctly specified.\n",
      "[2] The condition number is large, 1.05e+03. This might indicate that there are\n",
      "strong multicollinearity or other numerical problems.\n"
     ]
    }
   ],
   "source": [
    "import statsmodels.api as sm\n",
    "\n",
    "\n",
    "x = sm.add_constant(X_train)\n",
    "\n",
    "model = sm.OLS(y_train, x).fit()\n",
    "\n",
    "\n",
    "print(model.summary())"
   ]
  },
  {
   "cell_type": "markdown",
   "metadata": {},
   "source": [
    "##### Testando quais variaveis são as que mais correspondem com a regressão \n",
    "A variavel dependente utilizada foi o PIB"
   ]
  },
  {
   "cell_type": "code",
   "execution_count": 27,
   "metadata": {},
   "outputs": [],
   "source": [
    "y_train= treino[\"Passageiros_frequencia\"].copy()\n",
    "y_test= teste[\"Passageiros_frequencia\"].copy()\n",
    "\n",
    "X_train = treino.drop([\"Passageiros_frequencia\", \"Passageiros internacionais\",\"Ano\",\"numero_de_passageiros\",\"Oil\",\"Inflação\"],axis=1).copy()\n",
    "X_test = teste.drop([\"Passageiros_frequencia\", \"Passageiros internacionais\",\"Ano\",\"numero_de_passageiros\",\"Oil\",\"Inflação\"],axis=1).copy()"
   ]
  },
  {
   "cell_type": "markdown",
   "metadata": {},
   "source": [
    "#### Analise com OLS"
   ]
  },
  {
   "cell_type": "markdown",
   "metadata": {},
   "source": [
    "A regressão linear está analisando um periodo de tempo de 19 anos, se iniciando em 2000 até 2019. Foi utilizada a biblioteca OLS (statsmoldels)"
   ]
  },
  {
   "cell_type": "code",
   "execution_count": 28,
   "metadata": {
    "scrolled": true
   },
   "outputs": [
    {
     "name": "stdout",
     "output_type": "stream",
     "text": [
      "                              OLS Regression Results                              \n",
      "==================================================================================\n",
      "Dep. Variable:     Passageiros_frequencia   R-squared:                       0.170\n",
      "Model:                                OLS   Adj. R-squared:                 -0.021\n",
      "Method:                     Least Squares   F-statistic:                    0.8878\n",
      "Date:                    Wed, 21 Dec 2022   Prob (F-statistic):              0.473\n",
      "Time:                            23:12:25   Log-Likelihood:                 54.223\n",
      "No. Observations:                      17   AIC:                            -100.4\n",
      "Df Residuals:                          13   BIC:                            -97.11\n",
      "Df Model:                               3                                         \n",
      "Covariance Type:                nonrobust                                         \n",
      "==============================================================================================\n",
      "                                 coef    std err          t      P>|t|      [0.025      0.975]\n",
      "----------------------------------------------------------------------------------------------\n",
      "const                          0.0024      0.004      0.620      0.546      -0.006       0.011\n",
      "Passageiros_freq_defasagem     0.0868      0.283      0.307      0.764      -0.524       0.698\n",
      "Câmbio                        -0.0037      0.012     -0.306      0.764      -0.030       0.023\n",
      "PIB real Brasil                3.9698      2.900      1.369      0.194      -2.295      10.235\n",
      "==============================================================================\n",
      "Omnibus:                        1.051   Durbin-Watson:                   1.714\n",
      "Prob(Omnibus):                  0.591   Jarque-Bera (JB):                0.953\n",
      "Skew:                           0.442   Prob(JB):                        0.621\n",
      "Kurtosis:                       2.248   Cond. No.                     1.05e+03\n",
      "==============================================================================\n",
      "\n",
      "Warnings:\n",
      "[1] Standard Errors assume that the covariance matrix of the errors is correctly specified.\n",
      "[2] The condition number is large, 1.05e+03. This might indicate that there are\n",
      "strong multicollinearity or other numerical problems.\n"
     ]
    }
   ],
   "source": [
    "import statsmodels.api as sm\n",
    "\n",
    "\n",
    "x = sm.add_constant(X_train)\n",
    "\n",
    "model = sm.OLS(y_train, x).fit()\n",
    "\n",
    "\n",
    "print(model.summary())"
   ]
  },
  {
   "cell_type": "markdown",
   "metadata": {},
   "source": [
    "##### Testando quais variaveis são as que mais correspondem com a regressão \n",
    "A variavel dependente utilizada foi o PIB"
   ]
  },
  {
   "cell_type": "code",
   "execution_count": 29,
   "metadata": {},
   "outputs": [],
   "source": [
    "y_train= treino[\"Passageiros_frequencia\"].copy()\n",
    "y_test= teste[\"Passageiros_frequencia\"].copy()\n",
    "\n",
    "X_train = treino.drop([\"Passageiros_frequencia\", \"Passageiros internacionais\",\"Ano\",\"numero_de_passageiros\",\"Oil\",\"Câmbio\"],axis=1).copy()\n",
    "X_test = teste.drop([\"Passageiros_frequencia\", \"Passageiros internacionais\",\"Ano\",\"numero_de_passageiros\",\"Oil\",\"Câmbio\"],axis=1).copy()"
   ]
  },
  {
   "cell_type": "markdown",
   "metadata": {},
   "source": [
    "#### Analise com OLS"
   ]
  },
  {
   "cell_type": "markdown",
   "metadata": {},
   "source": [
    "A regressão linear está analisando um periodo de tempo de 19 anos, se iniciando em 2000 até 2019. Foi utilizada a biblioteca OLS (statsmoldels)"
   ]
  },
  {
   "cell_type": "code",
   "execution_count": 30,
   "metadata": {
    "scrolled": false
   },
   "outputs": [
    {
     "name": "stdout",
     "output_type": "stream",
     "text": [
      "                              OLS Regression Results                              \n",
      "==================================================================================\n",
      "Dep. Variable:     Passageiros_frequencia   R-squared:                       0.194\n",
      "Model:                                OLS   Adj. R-squared:                  0.008\n",
      "Method:                     Least Squares   F-statistic:                     1.043\n",
      "Date:                    Wed, 21 Dec 2022   Prob (F-statistic):              0.406\n",
      "Time:                            23:12:25   Log-Likelihood:                 54.472\n",
      "No. Observations:                      17   AIC:                            -100.9\n",
      "Df Residuals:                          13   BIC:                            -97.61\n",
      "Df Model:                               3                                         \n",
      "Covariance Type:                nonrobust                                         \n",
      "==============================================================================================\n",
      "                                 coef    std err          t      P>|t|      [0.025      0.975]\n",
      "----------------------------------------------------------------------------------------------\n",
      "const                         -0.0047      0.010     -0.455      0.656      -0.027       0.018\n",
      "Passageiros_freq_defasagem     0.0786      0.266      0.296      0.772      -0.495       0.652\n",
      "Inflação                       0.0891      0.128      0.696      0.499      -0.188       0.366\n",
      "PIB real Brasil                5.0481      3.274      1.542      0.147      -2.025      12.121\n",
      "==============================================================================\n",
      "Omnibus:                        1.841   Durbin-Watson:                   1.647\n",
      "Prob(Omnibus):                  0.398   Jarque-Bera (JB):                1.392\n",
      "Skew:                           0.524   Prob(JB):                        0.498\n",
      "Kurtosis:                       2.069   Cond. No.                     1.21e+03\n",
      "==============================================================================\n",
      "\n",
      "Warnings:\n",
      "[1] Standard Errors assume that the covariance matrix of the errors is correctly specified.\n",
      "[2] The condition number is large, 1.21e+03. This might indicate that there are\n",
      "strong multicollinearity or other numerical problems.\n"
     ]
    }
   ],
   "source": [
    "import statsmodels.api as sm\n",
    "\n",
    "\n",
    "x = sm.add_constant(X_train)\n",
    "\n",
    "model = sm.OLS(y_train, x).fit()\n",
    "\n",
    "\n",
    "print(model.summary())"
   ]
  },
  {
   "cell_type": "markdown",
   "metadata": {},
   "source": [
    "##### Testando quais variaveis são as que mais correspondem com a regressão \n",
    "A variavel dependente utilizada foi o PIB"
   ]
  },
  {
   "cell_type": "code",
   "execution_count": 31,
   "metadata": {},
   "outputs": [],
   "source": [
    "y_train= treino[\"Passageiros_frequencia\"].copy()\n",
    "y_test= teste[\"Passageiros_frequencia\"].copy()\n",
    "\n",
    "X_train = treino.drop([\"Passageiros_frequencia\", \"Passageiros internacionais\",\"Ano\",\"numero_de_passageiros\",\"Oil\"],axis=1).copy()\n",
    "X_test = teste.drop([\"Passageiros_frequencia\", \"Passageiros internacionais\",\"Ano\",\"numero_de_passageiros\",\"Oil\"],axis=1).copy()"
   ]
  },
  {
   "cell_type": "markdown",
   "metadata": {},
   "source": [
    "#### Analise com OLS"
   ]
  },
  {
   "cell_type": "markdown",
   "metadata": {},
   "source": [
    "A regressão linear está analisando um periodo de tempo de 19 anos, se iniciando em 2000 até 2019. Foi utilizada a biblioteca OLS (statsmoldels)"
   ]
  },
  {
   "cell_type": "code",
   "execution_count": 32,
   "metadata": {
    "scrolled": false
   },
   "outputs": [
    {
     "name": "stdout",
     "output_type": "stream",
     "text": [
      "                              OLS Regression Results                              \n",
      "==================================================================================\n",
      "Dep. Variable:     Passageiros_frequencia   R-squared:                       0.205\n",
      "Model:                                OLS   Adj. R-squared:                 -0.060\n",
      "Method:                     Least Squares   F-statistic:                    0.7721\n",
      "Date:                    Wed, 21 Dec 2022   Prob (F-statistic):              0.564\n",
      "Time:                            23:12:25   Log-Likelihood:                 54.585\n",
      "No. Observations:                      17   AIC:                            -99.17\n",
      "Df Residuals:                          12   BIC:                            -95.00\n",
      "Df Model:                               4                                         \n",
      "Covariance Type:                nonrobust                                         \n",
      "==============================================================================================\n",
      "                                 coef    std err          t      P>|t|      [0.025      0.975]\n",
      "----------------------------------------------------------------------------------------------\n",
      "const                         -0.0047      0.011     -0.442      0.667      -0.028       0.018\n",
      "Passageiros_freq_defasagem     0.0322      0.298      0.108      0.916      -0.617       0.682\n",
      "Câmbio                        -0.0050      0.013     -0.400      0.696      -0.032       0.022\n",
      "Inflação                       0.0967      0.134      0.723      0.484      -0.195       0.388\n",
      "PIB real Brasil                5.1921      3.404      1.525      0.153      -2.225      12.609\n",
      "==============================================================================\n",
      "Omnibus:                        1.764   Durbin-Watson:                   1.642\n",
      "Prob(Omnibus):                  0.414   Jarque-Bera (JB):                1.254\n",
      "Skew:                           0.442   Prob(JB):                        0.534\n",
      "Kurtosis:                       2.005   Cond. No.                     1.21e+03\n",
      "==============================================================================\n",
      "\n",
      "Warnings:\n",
      "[1] Standard Errors assume that the covariance matrix of the errors is correctly specified.\n",
      "[2] The condition number is large, 1.21e+03. This might indicate that there are\n",
      "strong multicollinearity or other numerical problems.\n"
     ]
    }
   ],
   "source": [
    "import statsmodels.api as sm\n",
    "\n",
    "\n",
    "x = sm.add_constant(X_train)\n",
    "\n",
    "model = sm.OLS(y_train, x).fit()\n",
    "\n",
    "\n",
    "print(model.summary())"
   ]
  },
  {
   "cell_type": "code",
   "execution_count": null,
   "metadata": {},
   "outputs": [],
   "source": []
  },
  {
   "cell_type": "markdown",
   "metadata": {},
   "source": [
    "# Navegantes"
   ]
  },
  {
   "cell_type": "markdown",
   "metadata": {},
   "source": [
    "##### juntando os pontos macros e uma unico DataFrame"
   ]
  },
  {
   "cell_type": "code",
   "execution_count": 33,
   "metadata": {},
   "outputs": [],
   "source": [
    "principal_nvt =(nvt_nac\n",
    " .join(nvt_int.set_index('Ano'),on='Ano')\n",
    " .join(oil.set_index('Ano'),on='Ano')\n",
    " .join(dolar.set_index('Ano'),on='Ano')\n",
    " .join(inflacao.set_index('Ano'),on='Ano')\n",
    " .join(pib.set_index('Ano'),on='Ano')\n",
    "          )"
   ]
  },
  {
   "cell_type": "markdown",
   "metadata": {},
   "source": [
    "##### Correlação entre os dados pré selecionados "
   ]
  },
  {
   "cell_type": "code",
   "execution_count": 34,
   "metadata": {},
   "outputs": [
    {
     "data": {
      "text/html": [
       "<div>\n",
       "<style scoped>\n",
       "    .dataframe tbody tr th:only-of-type {\n",
       "        vertical-align: middle;\n",
       "    }\n",
       "\n",
       "    .dataframe tbody tr th {\n",
       "        vertical-align: top;\n",
       "    }\n",
       "\n",
       "    .dataframe thead th {\n",
       "        text-align: right;\n",
       "    }\n",
       "</style>\n",
       "<table border=\"1\" class=\"dataframe\">\n",
       "  <thead>\n",
       "    <tr style=\"text-align: right;\">\n",
       "      <th></th>\n",
       "      <th>Passageiros_freq_defasagem</th>\n",
       "      <th>Câmbio</th>\n",
       "      <th>Inflação</th>\n",
       "      <th>PIB real Brasil</th>\n",
       "    </tr>\n",
       "  </thead>\n",
       "  <tbody>\n",
       "    <tr>\n",
       "      <td>Passageiros_freq_defasagem</td>\n",
       "      <td>1.000000</td>\n",
       "      <td>-0.136459</td>\n",
       "      <td>0.048770</td>\n",
       "      <td>0.207299</td>\n",
       "    </tr>\n",
       "    <tr>\n",
       "      <td>Câmbio</td>\n",
       "      <td>-0.136459</td>\n",
       "      <td>1.000000</td>\n",
       "      <td>0.077090</td>\n",
       "      <td>-0.058331</td>\n",
       "    </tr>\n",
       "    <tr>\n",
       "      <td>Inflação</td>\n",
       "      <td>0.048770</td>\n",
       "      <td>0.077090</td>\n",
       "      <td>1.000000</td>\n",
       "      <td>-0.353719</td>\n",
       "    </tr>\n",
       "    <tr>\n",
       "      <td>PIB real Brasil</td>\n",
       "      <td>0.207299</td>\n",
       "      <td>-0.058331</td>\n",
       "      <td>-0.353719</td>\n",
       "      <td>1.000000</td>\n",
       "    </tr>\n",
       "  </tbody>\n",
       "</table>\n",
       "</div>"
      ],
      "text/plain": [
       "                            Passageiros_freq_defasagem    Câmbio  Inflação  \\\n",
       "Passageiros_freq_defasagem                    1.000000 -0.136459  0.048770   \n",
       "Câmbio                                       -0.136459  1.000000  0.077090   \n",
       "Inflação                                      0.048770  0.077090  1.000000   \n",
       "PIB real Brasil                               0.207299 -0.058331 -0.353719   \n",
       "\n",
       "                            PIB real Brasil  \n",
       "Passageiros_freq_defasagem         0.207299  \n",
       "Câmbio                            -0.058331  \n",
       "Inflação                          -0.353719  \n",
       "PIB real Brasil                    1.000000  "
      ]
     },
     "execution_count": 34,
     "metadata": {},
     "output_type": "execute_result"
    }
   ],
   "source": [
    " \n",
    "principal_nvt = principal_nvt.loc[principal_nvt[\"Ano\"]<2020]\n",
    "\n",
    "principal_nvt.drop([\"Passageiros internacionais\",\"Passageiros_frequencia\", \"Ano\",\"numero_de_passageiros\",\"Oil\"],axis=1).corr()\n"
   ]
  },
  {
   "cell_type": "markdown",
   "metadata": {},
   "source": [
    "#### Dividindo a base de dados em treinamento e teste"
   ]
  },
  {
   "cell_type": "markdown",
   "metadata": {},
   "source": [
    "Nas duas células de códigos seguintes temos a parte de treinamento e teste. O treino foi definido do ano 2000 até 2017 e na parte foi colocado todos os anos de 2000 até 2019. A variavel Y(a ser prevista) foi colocado a frequencia dos passageiros e nas variaveis X (Cambio, PIB real do Brasil e Inflação) e foi retirada todas as outras."
   ]
  },
  {
   "cell_type": "code",
   "execution_count": 35,
   "metadata": {},
   "outputs": [],
   "source": [
    "treino = principal_nvt.loc[principal_nvt[\"Ano\"] < 2017]\n",
    "teste = principal_nvt.loc[principal_nvt[\"Ano\"] >= 2017]"
   ]
  },
  {
   "cell_type": "markdown",
   "metadata": {},
   "source": [
    "##### Testando quais variaveis são as que mais correspondem com a regressão \n",
    "A variavel dependente utilizada foi o PIB"
   ]
  },
  {
   "cell_type": "code",
   "execution_count": 36,
   "metadata": {},
   "outputs": [],
   "source": [
    "y_train= treino[\"Passageiros_frequencia\"].copy()\n",
    "y_test= teste[\"Passageiros_frequencia\"].copy()\n",
    "\n",
    "X_train = treino.drop([\"Passageiros_frequencia\", \"Passageiros internacionais\",\"Ano\",\"numero_de_passageiros\",\"Oil\",\"Câmbio\", \"Inflação\"],axis=1).copy()\n",
    "X_test = teste.drop([\"Passageiros_frequencia\", \"Passageiros internacionais\",\"Ano\",\"numero_de_passageiros\",\"Oil\",\"Câmbio\", \"Inflação\"],axis=1).copy()"
   ]
  },
  {
   "cell_type": "markdown",
   "metadata": {},
   "source": [
    "#### Analise com OLS"
   ]
  },
  {
   "cell_type": "markdown",
   "metadata": {},
   "source": [
    "A regressão linear está analisando um periodo de tempo de 19 anos, se iniciando em 2000 até 2019. Foi utilizada a biblioteca OLS (statsmoldels)"
   ]
  },
  {
   "cell_type": "code",
   "execution_count": 37,
   "metadata": {
    "scrolled": false
   },
   "outputs": [
    {
     "name": "stdout",
     "output_type": "stream",
     "text": [
      "                              OLS Regression Results                              \n",
      "==================================================================================\n",
      "Dep. Variable:     Passageiros_frequencia   R-squared:                       0.158\n",
      "Model:                                OLS   Adj. R-squared:                  0.038\n",
      "Method:                     Least Squares   F-statistic:                     1.312\n",
      "Date:                    Wed, 21 Dec 2022   Prob (F-statistic):              0.300\n",
      "Time:                            23:12:25   Log-Likelihood:                 45.141\n",
      "No. Observations:                      17   AIC:                            -84.28\n",
      "Df Residuals:                          14   BIC:                            -81.78\n",
      "Df Model:                               2                                         \n",
      "Covariance Type:                nonrobust                                         \n",
      "==============================================================================================\n",
      "                                 coef    std err          t      P>|t|      [0.025      0.975]\n",
      "----------------------------------------------------------------------------------------------\n",
      "const                          0.0015      0.006      0.256      0.802      -0.011       0.014\n",
      "Passageiros_freq_defasagem     0.4000      0.251      1.592      0.134      -0.139       0.939\n",
      "PIB real Brasil               -0.2522      4.698     -0.054      0.958     -10.328       9.823\n",
      "==============================================================================\n",
      "Omnibus:                        0.434   Durbin-Watson:                   1.819\n",
      "Prob(Omnibus):                  0.805   Jarque-Bera (JB):                0.378\n",
      "Skew:                          -0.306   Prob(JB):                        0.828\n",
      "Kurtosis:                       2.601   Cond. No.                     1.03e+03\n",
      "==============================================================================\n",
      "\n",
      "Warnings:\n",
      "[1] Standard Errors assume that the covariance matrix of the errors is correctly specified.\n",
      "[2] The condition number is large, 1.03e+03. This might indicate that there are\n",
      "strong multicollinearity or other numerical problems.\n"
     ]
    }
   ],
   "source": [
    "import statsmodels.api as sm\n",
    "\n",
    "\n",
    "x = sm.add_constant(X_train)\n",
    "\n",
    "model = sm.OLS(y_train, x).fit()\n",
    "\n",
    "\n",
    "print(model.summary())"
   ]
  },
  {
   "cell_type": "markdown",
   "metadata": {},
   "source": [
    "##### Testando quais variaveis são as que mais correspondem com a regressão \n",
    "A variavel dependente utilizada foi o PIB"
   ]
  },
  {
   "cell_type": "code",
   "execution_count": 38,
   "metadata": {},
   "outputs": [],
   "source": [
    "y_train= treino[\"Passageiros_frequencia\"].copy()\n",
    "y_test= teste[\"Passageiros_frequencia\"].copy()\n",
    "\n",
    "X_train = treino.drop([\"Passageiros_frequencia\", \"Passageiros internacionais\",\"Ano\",\"numero_de_passageiros\",\"Oil\", \"Inflação\"],axis=1).copy()\n",
    "X_test = teste.drop([\"Passageiros_frequencia\", \"Passageiros internacionais\",\"Ano\",\"numero_de_passageiros\",\"Oil\", \"Inflação\"],axis=1).copy()"
   ]
  },
  {
   "cell_type": "markdown",
   "metadata": {},
   "source": [
    "#### Analise com OLS"
   ]
  },
  {
   "cell_type": "markdown",
   "metadata": {},
   "source": [
    "A regressão linear está analisando um periodo de tempo de 19 anos, se iniciando em 2000 até 2019. Foi utilizada a biblioteca OLS (statsmoldels)"
   ]
  },
  {
   "cell_type": "code",
   "execution_count": 39,
   "metadata": {
    "scrolled": false
   },
   "outputs": [
    {
     "name": "stdout",
     "output_type": "stream",
     "text": [
      "                              OLS Regression Results                              \n",
      "==================================================================================\n",
      "Dep. Variable:     Passageiros_frequencia   R-squared:                       0.244\n",
      "Model:                                OLS   Adj. R-squared:                  0.069\n",
      "Method:                     Least Squares   F-statistic:                     1.397\n",
      "Date:                    Wed, 21 Dec 2022   Prob (F-statistic):              0.288\n",
      "Time:                            23:12:25   Log-Likelihood:                 46.056\n",
      "No. Observations:                      17   AIC:                            -84.11\n",
      "Df Residuals:                          13   BIC:                            -80.78\n",
      "Df Model:                               3                                         \n",
      "Covariance Type:                nonrobust                                         \n",
      "==============================================================================================\n",
      "                                 coef    std err          t      P>|t|      [0.025      0.975]\n",
      "----------------------------------------------------------------------------------------------\n",
      "const                          0.0031      0.006      0.541      0.598      -0.009       0.016\n",
      "Passageiros_freq_defasagem     0.3472      0.251      1.384      0.190      -0.195       0.889\n",
      "Câmbio                        -0.0226      0.019     -1.216      0.246      -0.063       0.018\n",
      "PIB real Brasil               -0.3974      4.621     -0.086      0.933     -10.381       9.586\n",
      "==============================================================================\n",
      "Omnibus:                        3.285   Durbin-Watson:                   1.798\n",
      "Prob(Omnibus):                  0.193   Jarque-Bera (JB):                1.589\n",
      "Skew:                          -0.723   Prob(JB):                        0.452\n",
      "Kurtosis:                       3.388   Cond. No.                     1.04e+03\n",
      "==============================================================================\n",
      "\n",
      "Warnings:\n",
      "[1] Standard Errors assume that the covariance matrix of the errors is correctly specified.\n",
      "[2] The condition number is large, 1.04e+03. This might indicate that there are\n",
      "strong multicollinearity or other numerical problems.\n"
     ]
    }
   ],
   "source": [
    "import statsmodels.api as sm\n",
    "\n",
    "\n",
    "x = sm.add_constant(X_train)\n",
    "\n",
    "model = sm.OLS(y_train, x).fit()\n",
    "\n",
    "\n",
    "print(model.summary())"
   ]
  },
  {
   "cell_type": "markdown",
   "metadata": {},
   "source": [
    "##### Testando quais variaveis são as que mais correspondem com a regressão \n",
    "A variavel dependente utilizada foi o PIB"
   ]
  },
  {
   "cell_type": "code",
   "execution_count": 40,
   "metadata": {},
   "outputs": [],
   "source": [
    "y_train= treino[\"Passageiros_frequencia\"].copy()\n",
    "y_test= teste[\"Passageiros_frequencia\"].copy()\n",
    "\n",
    "X_train = treino.drop([\"Passageiros_frequencia\", \"Passageiros internacionais\",\"Ano\",\"numero_de_passageiros\",\"Oil\",\"Câmbio\"],axis=1).copy()\n",
    "X_test = teste.drop([\"Passageiros_frequencia\", \"Passageiros internacionais\",\"Ano\",\"numero_de_passageiros\",\"Oil\",\"Câmbio\"],axis=1).copy()"
   ]
  },
  {
   "cell_type": "markdown",
   "metadata": {},
   "source": [
    "#### Analise com OLS"
   ]
  },
  {
   "cell_type": "markdown",
   "metadata": {},
   "source": [
    "A regressão linear está analisando um periodo de tempo de 19 anos, se iniciando em 2000 até 2019. Foi utilizada a biblioteca OLS (statsmoldels)"
   ]
  },
  {
   "cell_type": "code",
   "execution_count": 41,
   "metadata": {
    "scrolled": false
   },
   "outputs": [
    {
     "name": "stdout",
     "output_type": "stream",
     "text": [
      "                              OLS Regression Results                              \n",
      "==================================================================================\n",
      "Dep. Variable:     Passageiros_frequencia   R-squared:                       0.390\n",
      "Model:                                OLS   Adj. R-squared:                  0.249\n",
      "Method:                     Least Squares   F-statistic:                     2.768\n",
      "Date:                    Wed, 21 Dec 2022   Prob (F-statistic):             0.0839\n",
      "Time:                            23:12:25   Log-Likelihood:                 47.879\n",
      "No. Observations:                      17   AIC:                            -87.76\n",
      "Df Residuals:                          13   BIC:                            -84.43\n",
      "Df Model:                               3                                         \n",
      "Covariance Type:                nonrobust                                         \n",
      "==============================================================================================\n",
      "                                 coef    std err          t      P>|t|      [0.025      0.975]\n",
      "----------------------------------------------------------------------------------------------\n",
      "const                          0.0330      0.015      2.190      0.047       0.000       0.066\n",
      "Passageiros_freq_defasagem     0.4108      0.222      1.850      0.087      -0.069       0.891\n",
      "Inflação                      -0.4096      0.184     -2.223      0.045      -0.808      -0.011\n",
      "PIB real Brasil               -4.8688      4.641     -1.049      0.313     -14.894       5.157\n",
      "==============================================================================\n",
      "Omnibus:                        0.446   Durbin-Watson:                   1.776\n",
      "Prob(Omnibus):                  0.800   Jarque-Bera (JB):                0.529\n",
      "Skew:                           0.022   Prob(JB):                        0.768\n",
      "Kurtosis:                       2.137   Cond. No.                     1.16e+03\n",
      "==============================================================================\n",
      "\n",
      "Warnings:\n",
      "[1] Standard Errors assume that the covariance matrix of the errors is correctly specified.\n",
      "[2] The condition number is large, 1.16e+03. This might indicate that there are\n",
      "strong multicollinearity or other numerical problems.\n"
     ]
    }
   ],
   "source": [
    "import statsmodels.api as sm\n",
    "\n",
    "\n",
    "x = sm.add_constant(X_train)\n",
    "\n",
    "model = sm.OLS(y_train, x).fit()\n",
    "\n",
    "\n",
    "print(model.summary())"
   ]
  },
  {
   "cell_type": "markdown",
   "metadata": {},
   "source": [
    "##### Testando quais variaveis são as que mais correspondem com a regressão \n",
    "A variavel dependente utilizada foi o PIB"
   ]
  },
  {
   "cell_type": "code",
   "execution_count": 42,
   "metadata": {},
   "outputs": [],
   "source": [
    "y_train= treino[\"Passageiros_frequencia\"].copy()\n",
    "y_test= teste[\"Passageiros_frequencia\"].copy()\n",
    "\n",
    "X_train = treino.drop([\"Passageiros_frequencia\", \"Passageiros internacionais\",\"Ano\",\"numero_de_passageiros\",\"Oil\"],axis=1).copy()\n",
    "X_test = teste.drop([\"Passageiros_frequencia\", \"Passageiros internacionais\",\"Ano\",\"numero_de_passageiros\",\"Oil\"],axis=1).copy()"
   ]
  },
  {
   "cell_type": "markdown",
   "metadata": {},
   "source": [
    "#### Analise com OLS"
   ]
  },
  {
   "cell_type": "markdown",
   "metadata": {},
   "source": [
    "A regressão linear está analisando um periodo de tempo de 19 anos, se iniciando em 2000 até 2019. Foi utilizada a biblioteca OLS (statsmoldels)"
   ]
  },
  {
   "cell_type": "code",
   "execution_count": 43,
   "metadata": {
    "scrolled": false
   },
   "outputs": [
    {
     "name": "stdout",
     "output_type": "stream",
     "text": [
      "                              OLS Regression Results                              \n",
      "==================================================================================\n",
      "Dep. Variable:     Passageiros_frequencia   R-squared:                       0.461\n",
      "Model:                                OLS   Adj. R-squared:                  0.282\n",
      "Method:                     Least Squares   F-statistic:                     2.569\n",
      "Date:                    Wed, 21 Dec 2022   Prob (F-statistic):             0.0920\n",
      "Time:                            23:12:25   Log-Likelihood:                 48.940\n",
      "No. Observations:                      17   AIC:                            -87.88\n",
      "Df Residuals:                          12   BIC:                            -83.71\n",
      "Df Model:                               4                                         \n",
      "Covariance Type:                nonrobust                                         \n",
      "==============================================================================================\n",
      "                                 coef    std err          t      P>|t|      [0.025      0.975]\n",
      "----------------------------------------------------------------------------------------------\n",
      "const                          0.0336      0.015      2.278      0.042       0.001       0.066\n",
      "Passageiros_freq_defasagem     0.3622      0.221      1.642      0.126      -0.118       0.843\n",
      "Câmbio                        -0.0206      0.016     -1.263      0.231      -0.056       0.015\n",
      "Inflação                      -0.3973      0.180     -2.201      0.048      -0.791      -0.004\n",
      "PIB real Brasil               -4.8627      4.538     -1.072      0.305     -14.750       5.025\n",
      "==============================================================================\n",
      "Omnibus:                        2.791   Durbin-Watson:                   1.750\n",
      "Prob(Omnibus):                  0.248   Jarque-Bera (JB):                1.159\n",
      "Skew:                           0.113   Prob(JB):                        0.560\n",
      "Kurtosis:                       1.741   Cond. No.                     1.16e+03\n",
      "==============================================================================\n",
      "\n",
      "Warnings:\n",
      "[1] Standard Errors assume that the covariance matrix of the errors is correctly specified.\n",
      "[2] The condition number is large, 1.16e+03. This might indicate that there are\n",
      "strong multicollinearity or other numerical problems.\n"
     ]
    }
   ],
   "source": [
    "import statsmodels.api as sm\n",
    "\n",
    "\n",
    "x = sm.add_constant(X_train)\n",
    "\n",
    "model = sm.OLS(y_train, x).fit()\n",
    "\n",
    "\n",
    "print(model.summary())"
   ]
  },
  {
   "cell_type": "code",
   "execution_count": null,
   "metadata": {},
   "outputs": [],
   "source": []
  },
  {
   "cell_type": "markdown",
   "metadata": {},
   "source": [
    "# Palmas"
   ]
  },
  {
   "cell_type": "markdown",
   "metadata": {},
   "source": [
    "##### juntando os pontos macros e uma unico DataFrame"
   ]
  },
  {
   "cell_type": "code",
   "execution_count": 44,
   "metadata": {},
   "outputs": [],
   "source": [
    "principal_pmw =(pmw\n",
    " .join(oil.set_index('Ano'),on='Ano')\n",
    " .join(dolar.set_index('Ano'),on='Ano')\n",
    " .join(inflacao.set_index('Ano'),on='Ano')\n",
    " .join(pib.set_index('Ano'),on='Ano')\n",
    "          )"
   ]
  },
  {
   "cell_type": "markdown",
   "metadata": {},
   "source": [
    "##### Correlação entre os dados pré selecionados "
   ]
  },
  {
   "cell_type": "code",
   "execution_count": 45,
   "metadata": {},
   "outputs": [
    {
     "data": {
      "text/html": [
       "<div>\n",
       "<style scoped>\n",
       "    .dataframe tbody tr th:only-of-type {\n",
       "        vertical-align: middle;\n",
       "    }\n",
       "\n",
       "    .dataframe tbody tr th {\n",
       "        vertical-align: top;\n",
       "    }\n",
       "\n",
       "    .dataframe thead th {\n",
       "        text-align: right;\n",
       "    }\n",
       "</style>\n",
       "<table border=\"1\" class=\"dataframe\">\n",
       "  <thead>\n",
       "    <tr style=\"text-align: right;\">\n",
       "      <th></th>\n",
       "      <th>Passageiros_freq_defasagem</th>\n",
       "      <th>Câmbio</th>\n",
       "      <th>Inflação</th>\n",
       "      <th>PIB real Brasil</th>\n",
       "    </tr>\n",
       "  </thead>\n",
       "  <tbody>\n",
       "    <tr>\n",
       "      <td>Passageiros_freq_defasagem</td>\n",
       "      <td>1.000000</td>\n",
       "      <td>-0.418795</td>\n",
       "      <td>0.546400</td>\n",
       "      <td>0.037045</td>\n",
       "    </tr>\n",
       "    <tr>\n",
       "      <td>Câmbio</td>\n",
       "      <td>-0.418795</td>\n",
       "      <td>1.000000</td>\n",
       "      <td>0.077090</td>\n",
       "      <td>-0.058331</td>\n",
       "    </tr>\n",
       "    <tr>\n",
       "      <td>Inflação</td>\n",
       "      <td>0.546400</td>\n",
       "      <td>0.077090</td>\n",
       "      <td>1.000000</td>\n",
       "      <td>-0.353719</td>\n",
       "    </tr>\n",
       "    <tr>\n",
       "      <td>PIB real Brasil</td>\n",
       "      <td>0.037045</td>\n",
       "      <td>-0.058331</td>\n",
       "      <td>-0.353719</td>\n",
       "      <td>1.000000</td>\n",
       "    </tr>\n",
       "  </tbody>\n",
       "</table>\n",
       "</div>"
      ],
      "text/plain": [
       "                            Passageiros_freq_defasagem    Câmbio  Inflação  \\\n",
       "Passageiros_freq_defasagem                    1.000000 -0.418795  0.546400   \n",
       "Câmbio                                       -0.418795  1.000000  0.077090   \n",
       "Inflação                                      0.546400  0.077090  1.000000   \n",
       "PIB real Brasil                               0.037045 -0.058331 -0.353719   \n",
       "\n",
       "                            PIB real Brasil  \n",
       "Passageiros_freq_defasagem         0.037045  \n",
       "Câmbio                            -0.058331  \n",
       "Inflação                          -0.353719  \n",
       "PIB real Brasil                    1.000000  "
      ]
     },
     "execution_count": 45,
     "metadata": {},
     "output_type": "execute_result"
    }
   ],
   "source": [
    "principal_pmw.loc[principal_pmw[\"Ano\"] == 2019, \"Passageiros_freq_defasagem\"] = 0 \n",
    "principal_pmw= principal_pmw.loc[principal_pmw[\"Ano\"]<2020]\n",
    "principal_pmw.drop([\"Passageiros_frequencia\", \"Ano\",\"numero_de_passageiros\",\"Oil\"],axis=1).corr()"
   ]
  },
  {
   "cell_type": "markdown",
   "metadata": {},
   "source": [
    "#### Dividindo a base de dados em treinamento e teste"
   ]
  },
  {
   "cell_type": "markdown",
   "metadata": {},
   "source": [
    "Nas duas células de códigos seguintes temos a parte de treinamento e teste. O treino foi definido do ano 2000 até 2017 e na parte foi colocado todos os anos de 2000 até 2019. A variavel Y(a ser prevista) foi colocado a frequencia dos passageiros e nas variaveis X (Cambio, PIB real do Brasil e Inflação) e foi retirada todas as outras."
   ]
  },
  {
   "cell_type": "code",
   "execution_count": 46,
   "metadata": {},
   "outputs": [],
   "source": [
    "treino = principal_pmw.loc[principal_pmw[\"Ano\"] < 2017]\n",
    "teste = principal_pmw.loc[principal_pmw[\"Ano\"] >= 2017]"
   ]
  },
  {
   "cell_type": "markdown",
   "metadata": {},
   "source": [
    "##### Testando quais variaveis são as que mais correspondem com a regressão \n"
   ]
  },
  {
   "cell_type": "markdown",
   "metadata": {},
   "source": [
    "\n",
    "A variavel dependente utilizada foi o PIB"
   ]
  },
  {
   "cell_type": "code",
   "execution_count": 47,
   "metadata": {},
   "outputs": [],
   "source": [
    "y_train= treino[\"Passageiros_frequencia\"].copy()\n",
    "y_test= teste[\"Passageiros_frequencia\"].copy()\n",
    "\n",
    "X_train = treino.drop([\"Passageiros_frequencia\", \"Ano\",\"numero_de_passageiros\",\"Oil\",\"Inflação\",\"Câmbio\"],axis=1).copy()\n",
    "X_test = teste.drop([\"Passageiros_frequencia\", \"Ano\",\"numero_de_passageiros\",\"Oil\",\"Inflação\",\"Câmbio\"],axis=1).copy()"
   ]
  },
  {
   "cell_type": "markdown",
   "metadata": {},
   "source": [
    "#### Analise com OLS"
   ]
  },
  {
   "cell_type": "markdown",
   "metadata": {},
   "source": [
    "A regressão linear está analisando um periodo de tempo de 19 anos, se iniciando em 2000 até 2019. Foi utilizada a biblioteca OLS (statsmoldels)"
   ]
  },
  {
   "cell_type": "code",
   "execution_count": 48,
   "metadata": {
    "scrolled": false
   },
   "outputs": [
    {
     "name": "stdout",
     "output_type": "stream",
     "text": [
      "                              OLS Regression Results                              \n",
      "==================================================================================\n",
      "Dep. Variable:     Passageiros_frequencia   R-squared:                       0.077\n",
      "Model:                                OLS   Adj. R-squared:                 -0.055\n",
      "Method:                     Least Squares   F-statistic:                    0.5838\n",
      "Date:                    Wed, 21 Dec 2022   Prob (F-statistic):              0.571\n",
      "Time:                            23:12:25   Log-Likelihood:                 20.768\n",
      "No. Observations:                      17   AIC:                            -35.54\n",
      "Df Residuals:                          14   BIC:                            -33.04\n",
      "Df Model:                               2                                         \n",
      "Covariance Type:                nonrobust                                         \n",
      "==============================================================================================\n",
      "                                 coef    std err          t      P>|t|      [0.025      0.975]\n",
      "----------------------------------------------------------------------------------------------\n",
      "const                         -0.0060      0.024     -0.249      0.807      -0.058       0.046\n",
      "Passageiros_freq_defasagem     0.0375      0.257      0.146      0.886      -0.514       0.589\n",
      "PIB real Brasil               20.4986     19.238      1.066      0.305     -20.762      61.759\n",
      "==============================================================================\n",
      "Omnibus:                       13.591   Durbin-Watson:                   1.948\n",
      "Prob(Omnibus):                  0.001   Jarque-Bera (JB):               17.492\n",
      "Skew:                           0.963   Prob(JB):                     0.000159\n",
      "Kurtosis:                       7.581   Cond. No.                     1.01e+03\n",
      "==============================================================================\n",
      "\n",
      "Warnings:\n",
      "[1] Standard Errors assume that the covariance matrix of the errors is correctly specified.\n",
      "[2] The condition number is large, 1.01e+03. This might indicate that there are\n",
      "strong multicollinearity or other numerical problems.\n"
     ]
    }
   ],
   "source": [
    "import statsmodels.api as sm\n",
    "\n",
    "\n",
    "x = sm.add_constant(X_train)\n",
    "\n",
    "model = sm.OLS(y_train, x).fit()\n",
    "\n",
    "\n",
    "print(model.summary())"
   ]
  },
  {
   "cell_type": "markdown",
   "metadata": {},
   "source": [
    "##### Testando quais variaveis são as que mais correspondem com a regressão \n"
   ]
  },
  {
   "cell_type": "markdown",
   "metadata": {},
   "source": [
    "As variaveis dependentes utilizada foram o PIB e Câmbio"
   ]
  },
  {
   "cell_type": "code",
   "execution_count": 49,
   "metadata": {},
   "outputs": [],
   "source": [
    "y_train= treino[\"Passageiros_frequencia\"].copy()\n",
    "y_test= teste[\"Passageiros_frequencia\"].copy()\n",
    "\n",
    "X_train = treino.drop([\"Passageiros_frequencia\", \"Ano\",\"numero_de_passageiros\",\"Oil\", \"Inflação\"],axis=1).copy()\n",
    "X_test = teste.drop([\"Passageiros_frequencia\", \"Ano\",\"numero_de_passageiros\",\"Oil\", \"Inflação\"],axis=1).copy()"
   ]
  },
  {
   "cell_type": "markdown",
   "metadata": {},
   "source": [
    "#### Analise com OLS"
   ]
  },
  {
   "cell_type": "markdown",
   "metadata": {},
   "source": [
    "A regressão linear está analisando um periodo de tempo de 19 anos, se iniciando em 2000 até 2019. Foi utilizada a biblioteca OLS (statsmoldels)"
   ]
  },
  {
   "cell_type": "code",
   "execution_count": 50,
   "metadata": {
    "scrolled": false
   },
   "outputs": [
    {
     "name": "stdout",
     "output_type": "stream",
     "text": [
      "                              OLS Regression Results                              \n",
      "==================================================================================\n",
      "Dep. Variable:     Passageiros_frequencia   R-squared:                       0.194\n",
      "Model:                                OLS   Adj. R-squared:                  0.008\n",
      "Method:                     Least Squares   F-statistic:                     1.041\n",
      "Date:                    Wed, 21 Dec 2022   Prob (F-statistic):              0.407\n",
      "Time:                            23:12:25   Log-Likelihood:                 21.917\n",
      "No. Observations:                      17   AIC:                            -35.83\n",
      "Df Residuals:                          13   BIC:                            -32.50\n",
      "Df Model:                               3                                         \n",
      "Covariance Type:                nonrobust                                         \n",
      "==============================================================================================\n",
      "                                 coef    std err          t      P>|t|      [0.025      0.975]\n",
      "----------------------------------------------------------------------------------------------\n",
      "const                          0.0040      0.025      0.162      0.874      -0.049       0.057\n",
      "Passageiros_freq_defasagem    -0.1208      0.275     -0.440      0.667      -0.714       0.473\n",
      "Câmbio                        -0.1143      0.083     -1.372      0.193      -0.294       0.066\n",
      "PIB real Brasil               19.0394     18.689      1.019      0.327     -21.336      59.415\n",
      "==============================================================================\n",
      "Omnibus:                       16.721   Durbin-Watson:                   2.086\n",
      "Prob(Omnibus):                  0.000   Jarque-Bera (JB):               18.263\n",
      "Skew:                           1.507   Prob(JB):                     0.000108\n",
      "Kurtosis:                       7.086   Cond. No.                     1.01e+03\n",
      "==============================================================================\n",
      "\n",
      "Warnings:\n",
      "[1] Standard Errors assume that the covariance matrix of the errors is correctly specified.\n",
      "[2] The condition number is large, 1.01e+03. This might indicate that there are\n",
      "strong multicollinearity or other numerical problems.\n"
     ]
    }
   ],
   "source": [
    "import statsmodels.api as sm\n",
    "\n",
    "\n",
    "x = sm.add_constant(X_train)\n",
    "\n",
    "model = sm.OLS(y_train, x).fit()\n",
    "\n",
    "\n",
    "print(model.summary())"
   ]
  },
  {
   "cell_type": "markdown",
   "metadata": {},
   "source": [
    "##### Testando quais variaveis são as que mais correspondem com a regressão \n"
   ]
  },
  {
   "cell_type": "markdown",
   "metadata": {},
   "source": [
    "As variaveis dependentes utilizada foram o PIB e Inflação"
   ]
  },
  {
   "cell_type": "code",
   "execution_count": 51,
   "metadata": {},
   "outputs": [],
   "source": [
    "y_train= treino[\"Passageiros_frequencia\"].copy()\n",
    "y_test= teste[\"Passageiros_frequencia\"].copy()\n",
    "\n",
    "X_train = treino.drop([\"Passageiros_frequencia\", \"Ano\",\"numero_de_passageiros\",\"Oil\",\"Câmbio\"],axis=1).copy()\n",
    "X_test = teste.drop([\"Passageiros_frequencia\", \"Ano\",\"numero_de_passageiros\",\"Oil\",\"Câmbio\"],axis=1).copy()"
   ]
  },
  {
   "cell_type": "markdown",
   "metadata": {},
   "source": [
    "#### Analise com OLS"
   ]
  },
  {
   "cell_type": "markdown",
   "metadata": {},
   "source": [
    "A regressão linear está analisando um periodo de tempo de 19 anos, se iniciando em 2000 até 2019. Foi utilizada a biblioteca OLS (statsmoldels)"
   ]
  },
  {
   "cell_type": "code",
   "execution_count": 52,
   "metadata": {
    "scrolled": false
   },
   "outputs": [
    {
     "name": "stdout",
     "output_type": "stream",
     "text": [
      "                              OLS Regression Results                              \n",
      "==================================================================================\n",
      "Dep. Variable:     Passageiros_frequencia   R-squared:                       0.135\n",
      "Model:                                OLS   Adj. R-squared:                 -0.065\n",
      "Method:                     Least Squares   F-statistic:                    0.6743\n",
      "Date:                    Wed, 21 Dec 2022   Prob (F-statistic):              0.583\n",
      "Time:                            23:12:25   Log-Likelihood:                 21.316\n",
      "No. Observations:                      17   AIC:                            -34.63\n",
      "Df Residuals:                          13   BIC:                            -31.30\n",
      "Df Model:                               3                                         \n",
      "Covariance Type:                nonrobust                                         \n",
      "==============================================================================================\n",
      "                                 coef    std err          t      P>|t|      [0.025      0.975]\n",
      "----------------------------------------------------------------------------------------------\n",
      "const                          0.0768      0.092      0.832      0.420      -0.122       0.276\n",
      "Passageiros_freq_defasagem     0.2533      0.347      0.730      0.478      -0.496       1.003\n",
      "Inflação                      -1.0995      1.181     -0.931      0.369      -3.652       1.452\n",
      "PIB real Brasil                7.7213     23.708      0.326      0.750     -43.497      58.940\n",
      "==============================================================================\n",
      "Omnibus:                       20.428   Durbin-Watson:                   1.943\n",
      "Prob(Omnibus):                  0.000   Jarque-Bera (JB):               28.184\n",
      "Skew:                           1.700   Prob(JB):                     7.58e-07\n",
      "Kurtosis:                       8.313   Cond. No.                     1.24e+03\n",
      "==============================================================================\n",
      "\n",
      "Warnings:\n",
      "[1] Standard Errors assume that the covariance matrix of the errors is correctly specified.\n",
      "[2] The condition number is large, 1.24e+03. This might indicate that there are\n",
      "strong multicollinearity or other numerical problems.\n"
     ]
    }
   ],
   "source": [
    "import statsmodels.api as sm\n",
    "\n",
    "\n",
    "x = sm.add_constant(X_train)\n",
    "\n",
    "model = sm.OLS(y_train, x).fit()\n",
    "\n",
    "\n",
    "print(model.summary())"
   ]
  },
  {
   "cell_type": "markdown",
   "metadata": {},
   "source": [
    "##### Testando quais variaveis são as que mais correspondem com a regressão \n"
   ]
  },
  {
   "cell_type": "markdown",
   "metadata": {},
   "source": [
    "As variaveis dependentes utilizada foram o PIB, Inflação e o Câmbio"
   ]
  },
  {
   "cell_type": "code",
   "execution_count": 53,
   "metadata": {},
   "outputs": [],
   "source": [
    "y_train= treino[\"Passageiros_frequencia\"].copy()\n",
    "y_test= teste[\"Passageiros_frequencia\"].copy()\n",
    "\n",
    "X_train = treino.drop([\"Passageiros_frequencia\", \"Ano\",\"numero_de_passageiros\",\"Oil\"],axis=1).copy()\n",
    "X_test = teste.drop([\"Passageiros_frequencia\", \"Ano\",\"numero_de_passageiros\",\"Oil\"],axis=1).copy()"
   ]
  },
  {
   "cell_type": "markdown",
   "metadata": {},
   "source": [
    "#### Analise com OLS"
   ]
  },
  {
   "cell_type": "markdown",
   "metadata": {},
   "source": [
    "A regressão linear está analisando um periodo de tempo de 19 anos, se iniciando em 2000 até 2019. Foi utilizada a biblioteca OLS (statsmoldels)"
   ]
  },
  {
   "cell_type": "code",
   "execution_count": 54,
   "metadata": {
    "scrolled": false
   },
   "outputs": [
    {
     "name": "stdout",
     "output_type": "stream",
     "text": [
      "                              OLS Regression Results                              \n",
      "==================================================================================\n",
      "Dep. Variable:     Passageiros_frequencia   R-squared:                       0.201\n",
      "Model:                                OLS   Adj. R-squared:                 -0.066\n",
      "Method:                     Least Squares   F-statistic:                    0.7534\n",
      "Date:                    Wed, 21 Dec 2022   Prob (F-statistic):              0.575\n",
      "Time:                            23:12:25   Log-Likelihood:                 21.991\n",
      "No. Observations:                      17   AIC:                            -33.98\n",
      "Df Residuals:                          12   BIC:                            -29.82\n",
      "Df Model:                               4                                         \n",
      "Covariance Type:                nonrobust                                         \n",
      "==============================================================================================\n",
      "                                 coef    std err          t      P>|t|      [0.025      0.975]\n",
      "----------------------------------------------------------------------------------------------\n",
      "const                          0.0357      0.101      0.354      0.730      -0.184       0.256\n",
      "Passageiros_freq_defasagem    -0.0127      0.438     -0.029      0.977      -0.967       0.941\n",
      "Câmbio                        -0.0985      0.099     -0.996      0.339      -0.314       0.117\n",
      "Inflação                      -0.4400      1.355     -0.325      0.751      -3.391       2.511\n",
      "PIB real Brasil               14.1265     24.572      0.575      0.576     -39.412      67.665\n",
      "==============================================================================\n",
      "Omnibus:                       19.189   Durbin-Watson:                   2.070\n",
      "Prob(Omnibus):                  0.000   Jarque-Bera (JB):               23.092\n",
      "Skew:                           1.700   Prob(JB):                     9.67e-06\n",
      "Kurtosis:                       7.586   Cond. No.                     1.29e+03\n",
      "==============================================================================\n",
      "\n",
      "Warnings:\n",
      "[1] Standard Errors assume that the covariance matrix of the errors is correctly specified.\n",
      "[2] The condition number is large, 1.29e+03. This might indicate that there are\n",
      "strong multicollinearity or other numerical problems.\n"
     ]
    }
   ],
   "source": [
    "import statsmodels.api as sm\n",
    "\n",
    "\n",
    "x = sm.add_constant(X_train)\n",
    "\n",
    "model = sm.OLS(y_train, x).fit()\n",
    "\n",
    "\n",
    "print(model.summary())"
   ]
  },
  {
   "cell_type": "code",
   "execution_count": null,
   "metadata": {},
   "outputs": [],
   "source": []
  },
  {
   "cell_type": "markdown",
   "metadata": {},
   "source": [
    "# São Luiz"
   ]
  },
  {
   "cell_type": "markdown",
   "metadata": {},
   "source": [
    "##### juntando os pontos macros e uma unico DataFrame"
   ]
  },
  {
   "cell_type": "code",
   "execution_count": 55,
   "metadata": {},
   "outputs": [],
   "source": [
    "principal_slz =(slz\n",
    " .join(oil.set_index('Ano'),on='Ano')\n",
    " .join(dolar.set_index('Ano'),on='Ano')\n",
    " .join(inflacao.set_index('Ano'),on='Ano')\n",
    " .join(pib.set_index('Ano'),on='Ano')\n",
    "          )"
   ]
  },
  {
   "cell_type": "markdown",
   "metadata": {},
   "source": [
    "##### Correlação entre os dados pré selecionados "
   ]
  },
  {
   "cell_type": "code",
   "execution_count": 56,
   "metadata": {},
   "outputs": [
    {
     "data": {
      "text/html": [
       "<div>\n",
       "<style scoped>\n",
       "    .dataframe tbody tr th:only-of-type {\n",
       "        vertical-align: middle;\n",
       "    }\n",
       "\n",
       "    .dataframe tbody tr th {\n",
       "        vertical-align: top;\n",
       "    }\n",
       "\n",
       "    .dataframe thead th {\n",
       "        text-align: right;\n",
       "    }\n",
       "</style>\n",
       "<table border=\"1\" class=\"dataframe\">\n",
       "  <thead>\n",
       "    <tr style=\"text-align: right;\">\n",
       "      <th></th>\n",
       "      <th>Passageiros_freq_defasagem</th>\n",
       "      <th>Câmbio</th>\n",
       "      <th>Inflação</th>\n",
       "      <th>PIB real Brasil</th>\n",
       "    </tr>\n",
       "  </thead>\n",
       "  <tbody>\n",
       "    <tr>\n",
       "      <td>Passageiros_freq_defasagem</td>\n",
       "      <td>1.000000</td>\n",
       "      <td>-0.358100</td>\n",
       "      <td>0.157277</td>\n",
       "      <td>0.275966</td>\n",
       "    </tr>\n",
       "    <tr>\n",
       "      <td>Câmbio</td>\n",
       "      <td>-0.358100</td>\n",
       "      <td>1.000000</td>\n",
       "      <td>0.077090</td>\n",
       "      <td>-0.058331</td>\n",
       "    </tr>\n",
       "    <tr>\n",
       "      <td>Inflação</td>\n",
       "      <td>0.157277</td>\n",
       "      <td>0.077090</td>\n",
       "      <td>1.000000</td>\n",
       "      <td>-0.353719</td>\n",
       "    </tr>\n",
       "    <tr>\n",
       "      <td>PIB real Brasil</td>\n",
       "      <td>0.275966</td>\n",
       "      <td>-0.058331</td>\n",
       "      <td>-0.353719</td>\n",
       "      <td>1.000000</td>\n",
       "    </tr>\n",
       "  </tbody>\n",
       "</table>\n",
       "</div>"
      ],
      "text/plain": [
       "                            Passageiros_freq_defasagem    Câmbio  Inflação  \\\n",
       "Passageiros_freq_defasagem                    1.000000 -0.358100  0.157277   \n",
       "Câmbio                                       -0.358100  1.000000  0.077090   \n",
       "Inflação                                      0.157277  0.077090  1.000000   \n",
       "PIB real Brasil                               0.275966 -0.058331 -0.353719   \n",
       "\n",
       "                            PIB real Brasil  \n",
       "Passageiros_freq_defasagem         0.275966  \n",
       "Câmbio                            -0.058331  \n",
       "Inflação                          -0.353719  \n",
       "PIB real Brasil                    1.000000  "
      ]
     },
     "execution_count": 56,
     "metadata": {},
     "output_type": "execute_result"
    }
   ],
   "source": [
    "principal_slz.loc[principal_slz[\"Ano\"] == 2019, \"Passageiros_freq_defasagem\"] = 0 \n",
    "principal_slz= principal_slz.loc[principal_slz[\"Ano\"]<2020]\n",
    "principal_slz.drop([\"Passageiros_frequencia\", \"Ano\",\"numero_de_passageiros\",\"Oil\"],axis=1).corr()\n"
   ]
  },
  {
   "cell_type": "markdown",
   "metadata": {},
   "source": [
    "#### Dividindo a base de dados em treinamento e teste"
   ]
  },
  {
   "cell_type": "markdown",
   "metadata": {},
   "source": [
    "Nas duas células de códigos seguintes temos a parte de treinamento e teste. O treino foi definido do ano 2000 até 2017 e na parte foi colocado todos os anos de 2000 até 2019. A variavel Y(a ser prevista) foi colocado a frequencia dos passageiros e nas variaveis X (Cambio, PIB real do Brasil e Inflação) e foi retirada todas as outras."
   ]
  },
  {
   "cell_type": "code",
   "execution_count": 57,
   "metadata": {},
   "outputs": [],
   "source": [
    "treino = principal_slz.loc[principal_slz[\"Ano\"] < 2017]\n",
    "teste = principal_slz.loc[principal_slz[\"Ano\"] >= 2017]"
   ]
  },
  {
   "cell_type": "markdown",
   "metadata": {},
   "source": [
    "##### Testando quais variaveis são as que mais correspondem com a regressão "
   ]
  },
  {
   "cell_type": "markdown",
   "metadata": {},
   "source": [
    "A variavel dependente utilizada foi o PIB"
   ]
  },
  {
   "cell_type": "code",
   "execution_count": 58,
   "metadata": {},
   "outputs": [],
   "source": [
    "y_train= treino[\"Passageiros_frequencia\"].copy()\n",
    "y_test= teste[\"Passageiros_frequencia\"].copy()\n",
    "\n",
    "X_train = treino.drop([\"Passageiros_frequencia\", \"Ano\",\"numero_de_passageiros\",\"Oil\",\"Inflação\",\"Câmbio\"],axis=1).copy()\n",
    "X_test = teste.drop([\"Passageiros_frequencia\", \"Ano\",\"numero_de_passageiros\",\"Oil\",\"Inflação\",\"Câmbio\"],axis=1).copy()"
   ]
  },
  {
   "cell_type": "markdown",
   "metadata": {},
   "source": [
    "#### Analise com OLS"
   ]
  },
  {
   "cell_type": "markdown",
   "metadata": {},
   "source": [
    "A regressão linear está analisando um periodo de tempo de 19 anos, se iniciando em 2000 até 2019. Foi utilizada a biblioteca OLS (statsmoldels)"
   ]
  },
  {
   "cell_type": "code",
   "execution_count": 59,
   "metadata": {
    "scrolled": false
   },
   "outputs": [
    {
     "name": "stdout",
     "output_type": "stream",
     "text": [
      "                              OLS Regression Results                              \n",
      "==================================================================================\n",
      "Dep. Variable:     Passageiros_frequencia   R-squared:                       0.171\n",
      "Model:                                OLS   Adj. R-squared:                  0.052\n",
      "Method:                     Least Squares   F-statistic:                     1.439\n",
      "Date:                    Wed, 21 Dec 2022   Prob (F-statistic):              0.270\n",
      "Time:                            23:12:26   Log-Likelihood:                 53.344\n",
      "No. Observations:                      17   AIC:                            -100.7\n",
      "Df Residuals:                          14   BIC:                            -98.19\n",
      "Df Model:                               2                                         \n",
      "Covariance Type:                nonrobust                                         \n",
      "==============================================================================================\n",
      "                                 coef    std err          t      P>|t|      [0.025      0.975]\n",
      "----------------------------------------------------------------------------------------------\n",
      "const                          0.0018      0.004      0.497      0.627      -0.006       0.010\n",
      "Passageiros_freq_defasagem     0.1507      0.253      0.595      0.562      -0.393       0.694\n",
      "PIB real Brasil                4.0283      2.937      1.372      0.192      -2.271      10.327\n",
      "==============================================================================\n",
      "Omnibus:                        1.142   Durbin-Watson:                   1.683\n",
      "Prob(Omnibus):                  0.565   Jarque-Bera (JB):                1.013\n",
      "Skew:                           0.486   Prob(JB):                        0.603\n",
      "Kurtosis:                       2.303   Cond. No.                     1.05e+03\n",
      "==============================================================================\n",
      "\n",
      "Warnings:\n",
      "[1] Standard Errors assume that the covariance matrix of the errors is correctly specified.\n",
      "[2] The condition number is large, 1.05e+03. This might indicate that there are\n",
      "strong multicollinearity or other numerical problems.\n"
     ]
    }
   ],
   "source": [
    "import statsmodels.api as sm\n",
    "\n",
    "\n",
    "x = sm.add_constant(X_train)\n",
    "\n",
    "model = sm.OLS(y_train, x).fit()\n",
    "\n",
    "\n",
    "print(model.summary())"
   ]
  },
  {
   "cell_type": "markdown",
   "metadata": {},
   "source": [
    "##### Testando quais variaveis são as que mais correspondem com a regressão "
   ]
  },
  {
   "cell_type": "markdown",
   "metadata": {},
   "source": [
    "As variaveis dependentes utilizada foram o PIB e a Inflação"
   ]
  },
  {
   "cell_type": "code",
   "execution_count": 60,
   "metadata": {},
   "outputs": [],
   "source": [
    "y_train= treino[\"Passageiros_frequencia\"].copy()\n",
    "y_test= teste[\"Passageiros_frequencia\"].copy()\n",
    "\n",
    "X_train = treino.drop([\"Passageiros_frequencia\", \"Ano\",\"numero_de_passageiros\",\"Oil\",\"Câmbio\"],axis=1).copy()\n",
    "X_test = teste.drop([\"Passageiros_frequencia\", \"Ano\",\"numero_de_passageiros\",\"Oil\",\"Câmbio\"],axis=1).copy()"
   ]
  },
  {
   "cell_type": "markdown",
   "metadata": {},
   "source": [
    "#### Analise com OLS"
   ]
  },
  {
   "cell_type": "markdown",
   "metadata": {},
   "source": [
    "A regressão linear está analisando um periodo de tempo de 19 anos, se iniciando em 2000 até 2019. Foi utilizada a biblioteca OLS (statsmoldels)"
   ]
  },
  {
   "cell_type": "code",
   "execution_count": 61,
   "metadata": {
    "scrolled": false
   },
   "outputs": [
    {
     "name": "stdout",
     "output_type": "stream",
     "text": [
      "                              OLS Regression Results                              \n",
      "==================================================================================\n",
      "Dep. Variable:     Passageiros_frequencia   R-squared:                       0.201\n",
      "Model:                                OLS   Adj. R-squared:                  0.016\n",
      "Method:                     Least Squares   F-statistic:                     1.087\n",
      "Date:                    Wed, 21 Dec 2022   Prob (F-statistic):              0.389\n",
      "Time:                            23:12:26   Log-Likelihood:                 53.657\n",
      "No. Observations:                      17   AIC:                            -99.31\n",
      "Df Residuals:                          13   BIC:                            -95.98\n",
      "Df Model:                               3                                         \n",
      "Covariance Type:                nonrobust                                         \n",
      "==============================================================================================\n",
      "                                 coef    std err          t      P>|t|      [0.025      0.975]\n",
      "----------------------------------------------------------------------------------------------\n",
      "const                         -0.0053      0.011     -0.485      0.636      -0.029       0.018\n",
      "Passageiros_freq_defasagem     0.1025      0.267      0.383      0.708      -0.475       0.680\n",
      "Inflação                       0.0948      0.136      0.698      0.497      -0.198       0.388\n",
      "PIB real Brasil                5.2365      3.456      1.515      0.154      -2.230      12.703\n",
      "==============================================================================\n",
      "Omnibus:                        1.700   Durbin-Watson:                   1.619\n",
      "Prob(Omnibus):                  0.428   Jarque-Bera (JB):                1.281\n",
      "Skew:                           0.479   Prob(JB):                        0.527\n",
      "Kurtosis:                       2.056   Cond. No.                     1.21e+03\n",
      "==============================================================================\n",
      "\n",
      "Warnings:\n",
      "[1] Standard Errors assume that the covariance matrix of the errors is correctly specified.\n",
      "[2] The condition number is large, 1.21e+03. This might indicate that there are\n",
      "strong multicollinearity or other numerical problems.\n"
     ]
    }
   ],
   "source": [
    "import statsmodels.api as sm\n",
    "\n",
    "\n",
    "x = sm.add_constant(X_train)\n",
    "\n",
    "model = sm.OLS(y_train, x).fit()\n",
    "\n",
    "\n",
    "print(model.summary())"
   ]
  },
  {
   "cell_type": "markdown",
   "metadata": {},
   "source": [
    "##### Testando quais variaveis são as que mais correspondem com a regressão "
   ]
  },
  {
   "cell_type": "markdown",
   "metadata": {},
   "source": [
    "As variaveis dependentes utilizada foram o PIB e a Câmbio"
   ]
  },
  {
   "cell_type": "code",
   "execution_count": 62,
   "metadata": {},
   "outputs": [],
   "source": [
    "y_train= treino[\"Passageiros_frequencia\"].copy()\n",
    "y_test= teste[\"Passageiros_frequencia\"].copy()\n",
    "\n",
    "X_train = treino.drop([\"Passageiros_frequencia\", \"Ano\",\"numero_de_passageiros\",\"Oil\",\"Inflação\"],axis=1).copy()\n",
    "X_test = teste.drop([\"Passageiros_frequencia\", \"Ano\",\"numero_de_passageiros\",\"Oil\",\"Inflação\"],axis=1).copy()"
   ]
  },
  {
   "cell_type": "markdown",
   "metadata": {},
   "source": [
    "#### Analise com OLS"
   ]
  },
  {
   "cell_type": "markdown",
   "metadata": {},
   "source": [
    "A regressão linear está analisando um periodo de tempo de 19 anos, se iniciando em 2000 até 2019. Foi utilizada a biblioteca OLS (statsmoldels)"
   ]
  },
  {
   "cell_type": "code",
   "execution_count": 63,
   "metadata": {},
   "outputs": [
    {
     "name": "stdout",
     "output_type": "stream",
     "text": [
      "                              OLS Regression Results                              \n",
      "==================================================================================\n",
      "Dep. Variable:     Passageiros_frequencia   R-squared:                       0.174\n",
      "Model:                                OLS   Adj. R-squared:                 -0.017\n",
      "Method:                     Least Squares   F-statistic:                    0.9099\n",
      "Date:                    Wed, 21 Dec 2022   Prob (F-statistic):              0.463\n",
      "Time:                            23:12:26   Log-Likelihood:                 53.375\n",
      "No. Observations:                      17   AIC:                            -98.75\n",
      "Df Residuals:                          13   BIC:                            -95.42\n",
      "Df Model:                               3                                         \n",
      "Covariance Type:                nonrobust                                         \n",
      "==============================================================================================\n",
      "                                 coef    std err          t      P>|t|      [0.025      0.975]\n",
      "----------------------------------------------------------------------------------------------\n",
      "const                          0.0021      0.004      0.525      0.608      -0.007       0.011\n",
      "Passageiros_freq_defasagem     0.1287      0.281      0.457      0.655      -0.479       0.737\n",
      "Câmbio                        -0.0028      0.013     -0.218      0.831      -0.030       0.025\n",
      "PIB real Brasil                4.0522      3.044      1.331      0.206      -2.524      10.629\n",
      "==============================================================================\n",
      "Omnibus:                        0.956   Durbin-Watson:                   1.683\n",
      "Prob(Omnibus):                  0.620   Jarque-Bera (JB):                0.889\n",
      "Skew:                           0.434   Prob(JB):                        0.641\n",
      "Kurtosis:                       2.291   Cond. No.                     1.05e+03\n",
      "==============================================================================\n",
      "\n",
      "Warnings:\n",
      "[1] Standard Errors assume that the covariance matrix of the errors is correctly specified.\n",
      "[2] The condition number is large, 1.05e+03. This might indicate that there are\n",
      "strong multicollinearity or other numerical problems.\n"
     ]
    }
   ],
   "source": [
    "import statsmodels.api as sm\n",
    "\n",
    "\n",
    "x = sm.add_constant(X_train)\n",
    "\n",
    "model = sm.OLS(y_train, x).fit()\n",
    "\n",
    "\n",
    "print(model.summary())"
   ]
  },
  {
   "cell_type": "markdown",
   "metadata": {},
   "source": [
    "\n",
    "##### Testando quais variaveis são as que mais correspondem com a regressão "
   ]
  },
  {
   "cell_type": "markdown",
   "metadata": {},
   "source": [
    "As variaveis dependentes utilizada foram o PIB, Inflação e o Câmbio"
   ]
  },
  {
   "cell_type": "code",
   "execution_count": 64,
   "metadata": {},
   "outputs": [],
   "source": [
    "y_train= treino[\"Passageiros_frequencia\"].copy()\n",
    "y_test= teste[\"Passageiros_frequencia\"].copy()\n",
    "\n",
    "X_train = treino.drop([\"Passageiros_frequencia\", \"Ano\",\"numero_de_passageiros\",\"Oil\"],axis=1).copy()\n",
    "X_test = teste.drop([\"Passageiros_frequencia\", \"Ano\",\"numero_de_passageiros\",\"Oil\"],axis=1).copy()"
   ]
  },
  {
   "cell_type": "markdown",
   "metadata": {},
   "source": [
    "#### Analise com OLS"
   ]
  },
  {
   "cell_type": "markdown",
   "metadata": {},
   "source": [
    "A regressão linear está analisando um periodo de tempo de 19 anos, se iniciando em 2000 até 2019. Foi utilizada a biblioteca OLS (statsmoldels)"
   ]
  },
  {
   "cell_type": "code",
   "execution_count": 65,
   "metadata": {
    "scrolled": false
   },
   "outputs": [
    {
     "name": "stdout",
     "output_type": "stream",
     "text": [
      "                              OLS Regression Results                              \n",
      "==================================================================================\n",
      "Dep. Variable:     Passageiros_frequencia   R-squared:                       0.207\n",
      "Model:                                OLS   Adj. R-squared:                 -0.057\n",
      "Method:                     Least Squares   F-statistic:                    0.7853\n",
      "Date:                    Wed, 21 Dec 2022   Prob (F-statistic):              0.556\n",
      "Time:                            23:12:26   Log-Likelihood:                 53.731\n",
      "No. Observations:                      17   AIC:                            -97.46\n",
      "Df Residuals:                          12   BIC:                            -93.30\n",
      "Df Model:                               4                                         \n",
      "Covariance Type:                nonrobust                                         \n",
      "==============================================================================================\n",
      "                                 coef    std err          t      P>|t|      [0.025      0.975]\n",
      "----------------------------------------------------------------------------------------------\n",
      "const                         -0.0053      0.011     -0.475      0.643      -0.030       0.019\n",
      "Passageiros_freq_defasagem     0.0649      0.300      0.216      0.832      -0.589       0.719\n",
      "Câmbio                        -0.0043      0.013     -0.324      0.751      -0.033       0.024\n",
      "Inflação                       0.1021      0.142      0.717      0.487      -0.208       0.413\n",
      "PIB real Brasil                5.3662      3.604      1.489      0.162      -2.486      13.219\n",
      "==============================================================================\n",
      "Omnibus:                        1.542   Durbin-Watson:                   1.619\n",
      "Prob(Omnibus):                  0.463   Jarque-Bera (JB):                1.144\n",
      "Skew:                           0.411   Prob(JB):                        0.564\n",
      "Kurtosis:                       2.031   Cond. No.                     1.22e+03\n",
      "==============================================================================\n",
      "\n",
      "Warnings:\n",
      "[1] Standard Errors assume that the covariance matrix of the errors is correctly specified.\n",
      "[2] The condition number is large, 1.22e+03. This might indicate that there are\n",
      "strong multicollinearity or other numerical problems.\n"
     ]
    }
   ],
   "source": [
    "import statsmodels.api as sm\n",
    "\n",
    "\n",
    "x = sm.add_constant(X_train)\n",
    "\n",
    "model = sm.OLS(y_train, x).fit()\n",
    "\n",
    "\n",
    "print(model.summary())"
   ]
  }
 ],
 "metadata": {
  "kernelspec": {
   "display_name": "Python 3",
   "language": "python",
   "name": "python3"
  },
  "language_info": {
   "codemirror_mode": {
    "name": "ipython",
    "version": 3
   },
   "file_extension": ".py",
   "mimetype": "text/x-python",
   "name": "python",
   "nbconvert_exporter": "python",
   "pygments_lexer": "ipython3",
   "version": "3.7.4"
  },
  "vscode": {
   "interpreter": {
    "hash": "5fccdd3ec400954df40d5bfaa0cba147dd1f3e548f86c4d189925fade820c7fe"
   }
  }
 },
 "nbformat": 4,
 "nbformat_minor": 2
}

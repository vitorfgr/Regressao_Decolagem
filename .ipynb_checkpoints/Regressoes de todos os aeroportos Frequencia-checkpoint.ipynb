{
 "cells": [
  {
   "cell_type": "code",
   "execution_count": 1,
   "metadata": {},
   "outputs": [],
   "source": [
    "#pip install -U scikit-learn"
   ]
  },
  {
   "cell_type": "code",
   "execution_count": 2,
   "metadata": {},
   "outputs": [],
   "source": [
    "#regrassao multipla\n",
    "import numpy as np\n",
    "import pandas as pd\n",
    "from sklearn.linear_model import LinearRegression\n",
    "from sklearn.ensemble import RandomForestRegressor\n",
    "from sklearn.metrics import mean_squared_error\n",
    "from sklearn.model_selection import train_test_split\n",
    "from sklearn.metrics import r2_score\n",
    "import matplotlib.pyplot as plt"
   ]
  },
  {
   "cell_type": "markdown",
   "metadata": {},
   "source": [
    "# Leitura das bases de dados de cada aeroportos\n"
   ]
  },
  {
   "cell_type": "markdown",
   "metadata": {},
   "source": [
    "#### Frequencia de passageiros no aeroporto CWB"
   ]
  },
  {
   "cell_type": "code",
   "execution_count": 3,
   "metadata": {},
   "outputs": [],
   "source": [
    "\n",
    "\n",
    "filename = r'C:\\Users\\vitor\\OneDrive\\Documentos\\INSPER_JR\\Decolagem_I\\regressão\\Passageiros pagos\\cwb_nac.xlsx'\n",
    "dados = pd.read_excel(filename)\n"
   ]
  },
  {
   "cell_type": "code",
   "execution_count": 4,
   "metadata": {},
   "outputs": [],
   "source": [
    "filename = r'C:\\Users\\vitor\\OneDrive\\Documentos\\INSPER_JR\\Decolagem_I\\regressão\\Passageiros pagos\\cwb_int.xlsx'\n",
    "dados9 = pd.read_excel(filename)"
   ]
  },
  {
   "cell_type": "markdown",
   "metadata": {},
   "source": [
    "#### Frequencia de passageiros no aeroporto IGU"
   ]
  },
  {
   "cell_type": "code",
   "execution_count": 5,
   "metadata": {},
   "outputs": [],
   "source": [
    "\n",
    "\n",
    "filename = r'C:\\Users\\vitor\\OneDrive\\Documentos\\INSPER_JR\\Decolagem_I\\regressão\\Passageiros pagos\\igu_int.xlsx'\n",
    "dados1 = pd.read_excel(filename)"
   ]
  },
  {
   "cell_type": "code",
   "execution_count": 6,
   "metadata": {},
   "outputs": [],
   "source": [
    "\n",
    "filename = r'C:\\Users\\vitor\\OneDrive\\Documentos\\INSPER_JR\\Decolagem_I\\regressão\\Passageiros pagos\\igu_nac.xlsx'\n",
    "dados2 = pd.read_excel(filename)"
   ]
  },
  {
   "cell_type": "markdown",
   "metadata": {},
   "source": [
    "#### Frequencia de passageiros no aeroporto NVT"
   ]
  },
  {
   "cell_type": "code",
   "execution_count": 7,
   "metadata": {},
   "outputs": [],
   "source": [
    "\n",
    "filename = r'C:\\Users\\vitor\\OneDrive\\Documentos\\INSPER_JR\\Decolagem_I\\regressão\\Passageiros pagos\\nvt_int.xlsx'\n",
    "dados3 = pd.read_excel(filename)"
   ]
  },
  {
   "cell_type": "code",
   "execution_count": 8,
   "metadata": {},
   "outputs": [],
   "source": [
    "filename = r'C:\\Users\\vitor\\OneDrive\\Documentos\\INSPER_JR\\Decolagem_I\\regressão\\Passageiros pagos\\nvt_nac.xlsx'\n",
    "dados4 = pd.read_excel(filename)"
   ]
  },
  {
   "cell_type": "markdown",
   "metadata": {},
   "source": [
    "#### Frequencia de passageiros no aeroporto PMW"
   ]
  },
  {
   "cell_type": "code",
   "execution_count": 9,
   "metadata": {},
   "outputs": [],
   "source": [
    "filename = r'C:\\Users\\vitor\\OneDrive\\Documentos\\INSPER_JR\\Decolagem_I\\regressão\\Passageiros pagos\\pmw.xlsx'\n",
    "dados5 = pd.read_excel(filename)"
   ]
  },
  {
   "cell_type": "markdown",
   "metadata": {},
   "source": [
    "#### Frequencia de passageiros no aeroporto SJO"
   ]
  },
  {
   "cell_type": "code",
   "execution_count": 10,
   "metadata": {},
   "outputs": [],
   "source": [
    "#filename = r'C:\\Users\\vitor\\OneDrive\\Documentos\\INSPER_JR\\Decolagem_I\\regressão\\Passageiros pagos\\sjo_int.csv'\n",
    "#dados6 = pd.read_csv(filename)"
   ]
  },
  {
   "cell_type": "code",
   "execution_count": 11,
   "metadata": {},
   "outputs": [],
   "source": [
    "#filename = r'C:\\Users\\vitor\\OneDrive\\Documentos\\INSPER_JR\\Decolagem_I\\regressão\\Passageiros pagos\\sjo_nac.csv'\n",
    "#dados7 = pd.read_csv(filename)"
   ]
  },
  {
   "cell_type": "markdown",
   "metadata": {},
   "source": [
    "#### Frequencia de passageiros no aeroporto SLZ"
   ]
  },
  {
   "cell_type": "code",
   "execution_count": 12,
   "metadata": {},
   "outputs": [],
   "source": [
    "filename = r'C:\\Users\\vitor\\OneDrive\\Documentos\\INSPER_JR\\Decolagem_I\\regressão\\Passageiros pagos\\slz.xlsx'\n",
    "dados8 = pd.read_excel(filename)"
   ]
  },
  {
   "cell_type": "markdown",
   "metadata": {},
   "source": [
    "###   "
   ]
  },
  {
   "cell_type": "markdown",
   "metadata": {},
   "source": [
    "# Variaveis macro economicas"
   ]
  },
  {
   "cell_type": "code",
   "execution_count": 13,
   "metadata": {},
   "outputs": [],
   "source": [
    "filename = r'C:\\Users\\vitor\\OneDrive\\Documentos\\INSPER_JR\\Decolagem_I\\regressão\\Dados macros\\Renda per capta.xlsx'\n",
    "renda = pd.read_excel(filename)"
   ]
  },
  {
   "cell_type": "markdown",
   "metadata": {},
   "source": [
    "#### Valor do barril de petróleo"
   ]
  },
  {
   "cell_type": "code",
   "execution_count": 14,
   "metadata": {},
   "outputs": [],
   "source": [
    "filename = r'C:\\Users\\vitor\\OneDrive\\Documentos\\INSPER_JR\\Decolagem_I\\regressão\\Dados macros\\statistic_id262858_opec-oil-price-annually-1960-2022.xlsx'\n",
    "oil = pd.read_excel(filename)"
   ]
  },
  {
   "cell_type": "markdown",
   "metadata": {},
   "source": [
    "#### Cotação do dolar"
   ]
  },
  {
   "cell_type": "code",
   "execution_count": 15,
   "metadata": {},
   "outputs": [],
   "source": [
    "filename = r'C:\\Users\\vitor\\OneDrive\\Documentos\\INSPER_JR\\Decolagem_I\\regressão\\Dados macros\\Base de dados Dólar.xlsx'\n",
    "dolar = pd.read_excel(filename)"
   ]
  },
  {
   "cell_type": "markdown",
   "metadata": {},
   "source": [
    "#### Inflação do turismo no Brasil"
   ]
  },
  {
   "cell_type": "code",
   "execution_count": 16,
   "metadata": {},
   "outputs": [],
   "source": [
    "filename = r'C:\\Users\\vitor\\OneDrive\\Documentos\\INSPER_JR\\Decolagem_I\\regressão\\Dados macros\\statistic_id270812_inflation-rate-in-brazil-2027.xlsx'\n",
    "inflacao = pd.read_excel(filename)\n"
   ]
  },
  {
   "cell_type": "markdown",
   "metadata": {},
   "source": [
    "#### PIB per capita"
   ]
  },
  {
   "cell_type": "code",
   "execution_count": 17,
   "metadata": {},
   "outputs": [],
   "source": [
    "filename = r'C:\\Users\\vitor\\OneDrive\\Documentos\\INSPER_JR\\Decolagem_I\\regressão\\Dados macros\\Pib per capita.xlsx'\n",
    "pib_capita = pd.read_excel(filename)\n"
   ]
  },
  {
   "cell_type": "markdown",
   "metadata": {},
   "source": [
    "#### PIB"
   ]
  },
  {
   "cell_type": "code",
   "execution_count": 37,
   "metadata": {},
   "outputs": [],
   "source": [
    "filename = r'C:\\Users\\vitor\\OneDrive\\Documentos\\INSPER_JR\\Decolagem_I\\regressão\\Dados macros\\PIB_2000_2019.xlsx'\n",
    "pib = pd.read_excel(filename)\n"
   ]
  },
  {
   "cell_type": "markdown",
   "metadata": {},
   "source": [
    "# Teste de acuracia"
   ]
  },
  {
   "cell_type": "code",
   "execution_count": 35,
   "metadata": {},
   "outputs": [],
   "source": [
    "#Junção dos dados\n",
    "principal=(dados\n",
    " .join(oil.set_index('Ano'),on='Ano')\n",
    " .join(dolar.set_index('Ano'),on='Ano')\n",
    " .join(inflacao.set_index('Ano'),on='Ano')\n",
    " .join(pib.set_index('Ano'),on='Ano')\n",
    "          )"
   ]
  },
  {
   "cell_type": "code",
   "execution_count": 36,
   "metadata": {},
   "outputs": [
    {
     "data": {
      "text/html": [
       "<div>\n",
       "<style scoped>\n",
       "    .dataframe tbody tr th:only-of-type {\n",
       "        vertical-align: middle;\n",
       "    }\n",
       "\n",
       "    .dataframe tbody tr th {\n",
       "        vertical-align: top;\n",
       "    }\n",
       "\n",
       "    .dataframe thead th {\n",
       "        text-align: right;\n",
       "    }\n",
       "</style>\n",
       "<table border=\"1\" class=\"dataframe\">\n",
       "  <thead>\n",
       "    <tr style=\"text-align: right;\">\n",
       "      <th></th>\n",
       "      <th>Unnamed: 0</th>\n",
       "      <th>Ano</th>\n",
       "      <th>Passageiros</th>\n",
       "      <th>Preço</th>\n",
       "      <th>Valor do dólar</th>\n",
       "      <th>inflaçao</th>\n",
       "      <th>inflacao</th>\n",
       "      <th>SC</th>\n",
       "      <th>TO</th>\n",
       "      <th>MA</th>\n",
       "      <th>PR</th>\n",
       "      <th>BR</th>\n",
       "    </tr>\n",
       "  </thead>\n",
       "  <tbody>\n",
       "    <tr>\n",
       "      <td>0</td>\n",
       "      <td>0</td>\n",
       "      <td>2000</td>\n",
       "      <td>2981167</td>\n",
       "      <td>27.60</td>\n",
       "      <td>1.9678</td>\n",
       "      <td>7.04</td>\n",
       "      <td>0.0704</td>\n",
       "      <td>5.448189e+07</td>\n",
       "      <td>5.322563e+06</td>\n",
       "      <td>1.592400e+07</td>\n",
       "      <td>8.823571e+07</td>\n",
       "      <td>1.19</td>\n",
       "    </tr>\n",
       "    <tr>\n",
       "      <td>1</td>\n",
       "      <td>1</td>\n",
       "      <td>2001</td>\n",
       "      <td>3198439</td>\n",
       "      <td>23.12</td>\n",
       "      <td>2.3840</td>\n",
       "      <td>6.84</td>\n",
       "      <td>0.0684</td>\n",
       "      <td>5.448189e+07</td>\n",
       "      <td>5.322563e+06</td>\n",
       "      <td>1.592400e+07</td>\n",
       "      <td>8.823571e+07</td>\n",
       "      <td>1.31</td>\n",
       "    </tr>\n",
       "    <tr>\n",
       "      <td>2</td>\n",
       "      <td>2</td>\n",
       "      <td>2002</td>\n",
       "      <td>3860727</td>\n",
       "      <td>24.36</td>\n",
       "      <td>3.7342</td>\n",
       "      <td>8.45</td>\n",
       "      <td>0.0845</td>\n",
       "      <td>5.448189e+07</td>\n",
       "      <td>5.322563e+06</td>\n",
       "      <td>1.592400e+07</td>\n",
       "      <td>8.823571e+07</td>\n",
       "      <td>1.48</td>\n",
       "    </tr>\n",
       "    <tr>\n",
       "      <td>3</td>\n",
       "      <td>3</td>\n",
       "      <td>2003</td>\n",
       "      <td>3317577</td>\n",
       "      <td>28.10</td>\n",
       "      <td>2.9293</td>\n",
       "      <td>14.71</td>\n",
       "      <td>0.1471</td>\n",
       "      <td>6.409847e+07</td>\n",
       "      <td>6.612339e+06</td>\n",
       "      <td>1.950290e+07</td>\n",
       "      <td>1.100394e+08</td>\n",
       "      <td>1.71</td>\n",
       "    </tr>\n",
       "    <tr>\n",
       "      <td>4</td>\n",
       "      <td>4</td>\n",
       "      <td>2004</td>\n",
       "      <td>3341621</td>\n",
       "      <td>36.05</td>\n",
       "      <td>2.7508</td>\n",
       "      <td>6.60</td>\n",
       "      <td>0.0660</td>\n",
       "      <td>7.361897e+07</td>\n",
       "      <td>7.251580e+06</td>\n",
       "      <td>2.212713e+07</td>\n",
       "      <td>1.234515e+08</td>\n",
       "      <td>1.95</td>\n",
       "    </tr>\n",
       "    <tr>\n",
       "      <td>5</td>\n",
       "      <td>5</td>\n",
       "      <td>2005</td>\n",
       "      <td>4105119</td>\n",
       "      <td>50.59</td>\n",
       "      <td>2.2957</td>\n",
       "      <td>6.87</td>\n",
       "      <td>0.0687</td>\n",
       "      <td>8.154924e+07</td>\n",
       "      <td>7.707340e+06</td>\n",
       "      <td>2.510421e+07</td>\n",
       "      <td>1.274645e+08</td>\n",
       "      <td>2.17</td>\n",
       "    </tr>\n",
       "    <tr>\n",
       "      <td>6</td>\n",
       "      <td>6</td>\n",
       "      <td>2006</td>\n",
       "      <td>4229466</td>\n",
       "      <td>61.00</td>\n",
       "      <td>2.1470</td>\n",
       "      <td>4.18</td>\n",
       "      <td>0.0418</td>\n",
       "      <td>9.106345e+07</td>\n",
       "      <td>8.655613e+06</td>\n",
       "      <td>2.971064e+07</td>\n",
       "      <td>1.376483e+08</td>\n",
       "      <td>2.40</td>\n",
       "    </tr>\n",
       "    <tr>\n",
       "      <td>7</td>\n",
       "      <td>7</td>\n",
       "      <td>2007</td>\n",
       "      <td>4653920</td>\n",
       "      <td>69.04</td>\n",
       "      <td>1.7959</td>\n",
       "      <td>3.64</td>\n",
       "      <td>0.0364</td>\n",
       "      <td>1.037281e+08</td>\n",
       "      <td>1.019284e+07</td>\n",
       "      <td>3.073087e+07</td>\n",
       "      <td>1.652089e+08</td>\n",
       "      <td>2.72</td>\n",
       "    </tr>\n",
       "    <tr>\n",
       "      <td>8</td>\n",
       "      <td>8</td>\n",
       "      <td>2008</td>\n",
       "      <td>4927837</td>\n",
       "      <td>94.10</td>\n",
       "      <td>2.3690</td>\n",
       "      <td>5.68</td>\n",
       "      <td>0.0568</td>\n",
       "      <td>1.214773e+08</td>\n",
       "      <td>1.211639e+07</td>\n",
       "      <td>3.793240e+07</td>\n",
       "      <td>1.856839e+08</td>\n",
       "      <td>3.10</td>\n",
       "    </tr>\n",
       "    <tr>\n",
       "      <td>9</td>\n",
       "      <td>9</td>\n",
       "      <td>2009</td>\n",
       "      <td>5782028</td>\n",
       "      <td>60.86</td>\n",
       "      <td>1.7557</td>\n",
       "      <td>4.89</td>\n",
       "      <td>0.0489</td>\n",
       "      <td>1.290985e+08</td>\n",
       "      <td>1.368980e+07</td>\n",
       "      <td>4.099457e+07</td>\n",
       "      <td>1.966756e+08</td>\n",
       "      <td>3.33</td>\n",
       "    </tr>\n",
       "    <tr>\n",
       "      <td>10</td>\n",
       "      <td>10</td>\n",
       "      <td>2010</td>\n",
       "      <td>6828663</td>\n",
       "      <td>77.38</td>\n",
       "      <td>1.6988</td>\n",
       "      <td>5.04</td>\n",
       "      <td>0.0504</td>\n",
       "      <td>1.537260e+08</td>\n",
       "      <td>1.640482e+07</td>\n",
       "      <td>4.630963e+07</td>\n",
       "      <td>2.252053e+08</td>\n",
       "      <td>3.88</td>\n",
       "    </tr>\n",
       "    <tr>\n",
       "      <td>11</td>\n",
       "      <td>11</td>\n",
       "      <td>2011</td>\n",
       "      <td>7968244</td>\n",
       "      <td>107.46</td>\n",
       "      <td>1.8609</td>\n",
       "      <td>6.64</td>\n",
       "      <td>0.0664</td>\n",
       "      <td>1.740683e+08</td>\n",
       "      <td>1.834569e+07</td>\n",
       "      <td>5.214354e+07</td>\n",
       "      <td>2.571223e+08</td>\n",
       "      <td>4.37</td>\n",
       "    </tr>\n",
       "    <tr>\n",
       "      <td>12</td>\n",
       "      <td>12</td>\n",
       "      <td>2012</td>\n",
       "      <td>7692451</td>\n",
       "      <td>109.45</td>\n",
       "      <td>2.0840</td>\n",
       "      <td>5.40</td>\n",
       "      <td>0.0540</td>\n",
       "      <td>1.917947e+08</td>\n",
       "      <td>2.068443e+07</td>\n",
       "      <td>6.049011e+07</td>\n",
       "      <td>2.856202e+08</td>\n",
       "      <td>4.81</td>\n",
       "    </tr>\n",
       "    <tr>\n",
       "      <td>13</td>\n",
       "      <td>13</td>\n",
       "      <td>2013</td>\n",
       "      <td>7376152</td>\n",
       "      <td>105.87</td>\n",
       "      <td>2.3354</td>\n",
       "      <td>6.20</td>\n",
       "      <td>0.0620</td>\n",
       "      <td>2.145122e+08</td>\n",
       "      <td>2.379666e+07</td>\n",
       "      <td>6.769484e+07</td>\n",
       "      <td>3.334812e+08</td>\n",
       "      <td>5.33</td>\n",
       "    </tr>\n",
       "    <tr>\n",
       "      <td>14</td>\n",
       "      <td>14</td>\n",
       "      <td>2014</td>\n",
       "      <td>7805243</td>\n",
       "      <td>96.29</td>\n",
       "      <td>2.6717</td>\n",
       "      <td>6.33</td>\n",
       "      <td>0.0633</td>\n",
       "      <td>2.425534e+08</td>\n",
       "      <td>2.618932e+07</td>\n",
       "      <td>7.684203e+07</td>\n",
       "      <td>3.480842e+08</td>\n",
       "      <td>5.77</td>\n",
       "    </tr>\n",
       "    <tr>\n",
       "      <td>15</td>\n",
       "      <td>15</td>\n",
       "      <td>2015</td>\n",
       "      <td>7511752</td>\n",
       "      <td>49.49</td>\n",
       "      <td>3.8703</td>\n",
       "      <td>9.03</td>\n",
       "      <td>0.0903</td>\n",
       "      <td>2.490796e+08</td>\n",
       "      <td>2.893029e+07</td>\n",
       "      <td>7.847599e+07</td>\n",
       "      <td>3.769628e+08</td>\n",
       "      <td>5.99</td>\n",
       "    </tr>\n",
       "    <tr>\n",
       "      <td>16</td>\n",
       "      <td>16</td>\n",
       "      <td>2016</td>\n",
       "      <td>6295255</td>\n",
       "      <td>40.76</td>\n",
       "      <td>3.3830</td>\n",
       "      <td>8.74</td>\n",
       "      <td>0.0874</td>\n",
       "      <td>2.567547e+08</td>\n",
       "      <td>3.158482e+07</td>\n",
       "      <td>8.531004e+07</td>\n",
       "      <td>4.018142e+08</td>\n",
       "      <td>6.26</td>\n",
       "    </tr>\n",
       "    <tr>\n",
       "      <td>17</td>\n",
       "      <td>17</td>\n",
       "      <td>2017</td>\n",
       "      <td>6580928</td>\n",
       "      <td>52.51</td>\n",
       "      <td>3.3176</td>\n",
       "      <td>3.45</td>\n",
       "      <td>0.0345</td>\n",
       "      <td>2.772702e+08</td>\n",
       "      <td>3.410813e+07</td>\n",
       "      <td>8.954276e+07</td>\n",
       "      <td>4.214979e+08</td>\n",
       "      <td>6.28</td>\n",
       "    </tr>\n",
       "    <tr>\n",
       "      <td>18</td>\n",
       "      <td>18</td>\n",
       "      <td>2018</td>\n",
       "      <td>6200060</td>\n",
       "      <td>69.78</td>\n",
       "      <td>3.9090</td>\n",
       "      <td>3.67</td>\n",
       "      <td>0.0367</td>\n",
       "      <td>2.982271e+08</td>\n",
       "      <td>3.566618e+07</td>\n",
       "      <td>9.817950e+07</td>\n",
       "      <td>4.400294e+08</td>\n",
       "      <td>7.04</td>\n",
       "    </tr>\n",
       "    <tr>\n",
       "      <td>19</td>\n",
       "      <td>19</td>\n",
       "      <td>2019</td>\n",
       "      <td>6364930</td>\n",
       "      <td>64.04</td>\n",
       "      <td>4.0301</td>\n",
       "      <td>3.73</td>\n",
       "      <td>0.0373</td>\n",
       "      <td>3.232639e+08</td>\n",
       "      <td>3.935594e+07</td>\n",
       "      <td>9.733994e+07</td>\n",
       "      <td>4.663770e+08</td>\n",
       "      <td>7.10</td>\n",
       "    </tr>\n",
       "    <tr>\n",
       "      <td>20</td>\n",
       "      <td>20</td>\n",
       "      <td>2020</td>\n",
       "      <td>2481817</td>\n",
       "      <td>41.47</td>\n",
       "      <td>5.1961</td>\n",
       "      <td>3.21</td>\n",
       "      <td>0.0321</td>\n",
       "      <td>NaN</td>\n",
       "      <td>NaN</td>\n",
       "      <td>NaN</td>\n",
       "      <td>NaN</td>\n",
       "      <td>NaN</td>\n",
       "    </tr>\n",
       "  </tbody>\n",
       "</table>\n",
       "</div>"
      ],
      "text/plain": [
       "    Unnamed: 0   Ano  Passageiros   Preço  Valor do dólar  inflaçao  inflacao  \\\n",
       "0            0  2000      2981167   27.60          1.9678      7.04    0.0704   \n",
       "1            1  2001      3198439   23.12          2.3840      6.84    0.0684   \n",
       "2            2  2002      3860727   24.36          3.7342      8.45    0.0845   \n",
       "3            3  2003      3317577   28.10          2.9293     14.71    0.1471   \n",
       "4            4  2004      3341621   36.05          2.7508      6.60    0.0660   \n",
       "5            5  2005      4105119   50.59          2.2957      6.87    0.0687   \n",
       "6            6  2006      4229466   61.00          2.1470      4.18    0.0418   \n",
       "7            7  2007      4653920   69.04          1.7959      3.64    0.0364   \n",
       "8            8  2008      4927837   94.10          2.3690      5.68    0.0568   \n",
       "9            9  2009      5782028   60.86          1.7557      4.89    0.0489   \n",
       "10          10  2010      6828663   77.38          1.6988      5.04    0.0504   \n",
       "11          11  2011      7968244  107.46          1.8609      6.64    0.0664   \n",
       "12          12  2012      7692451  109.45          2.0840      5.40    0.0540   \n",
       "13          13  2013      7376152  105.87          2.3354      6.20    0.0620   \n",
       "14          14  2014      7805243   96.29          2.6717      6.33    0.0633   \n",
       "15          15  2015      7511752   49.49          3.8703      9.03    0.0903   \n",
       "16          16  2016      6295255   40.76          3.3830      8.74    0.0874   \n",
       "17          17  2017      6580928   52.51          3.3176      3.45    0.0345   \n",
       "18          18  2018      6200060   69.78          3.9090      3.67    0.0367   \n",
       "19          19  2019      6364930   64.04          4.0301      3.73    0.0373   \n",
       "20          20  2020      2481817   41.47          5.1961      3.21    0.0321   \n",
       "\n",
       "              SC            TO            MA            PR    BR  \n",
       "0   5.448189e+07  5.322563e+06  1.592400e+07  8.823571e+07  1.19  \n",
       "1   5.448189e+07  5.322563e+06  1.592400e+07  8.823571e+07  1.31  \n",
       "2   5.448189e+07  5.322563e+06  1.592400e+07  8.823571e+07  1.48  \n",
       "3   6.409847e+07  6.612339e+06  1.950290e+07  1.100394e+08  1.71  \n",
       "4   7.361897e+07  7.251580e+06  2.212713e+07  1.234515e+08  1.95  \n",
       "5   8.154924e+07  7.707340e+06  2.510421e+07  1.274645e+08  2.17  \n",
       "6   9.106345e+07  8.655613e+06  2.971064e+07  1.376483e+08  2.40  \n",
       "7   1.037281e+08  1.019284e+07  3.073087e+07  1.652089e+08  2.72  \n",
       "8   1.214773e+08  1.211639e+07  3.793240e+07  1.856839e+08  3.10  \n",
       "9   1.290985e+08  1.368980e+07  4.099457e+07  1.966756e+08  3.33  \n",
       "10  1.537260e+08  1.640482e+07  4.630963e+07  2.252053e+08  3.88  \n",
       "11  1.740683e+08  1.834569e+07  5.214354e+07  2.571223e+08  4.37  \n",
       "12  1.917947e+08  2.068443e+07  6.049011e+07  2.856202e+08  4.81  \n",
       "13  2.145122e+08  2.379666e+07  6.769484e+07  3.334812e+08  5.33  \n",
       "14  2.425534e+08  2.618932e+07  7.684203e+07  3.480842e+08  5.77  \n",
       "15  2.490796e+08  2.893029e+07  7.847599e+07  3.769628e+08  5.99  \n",
       "16  2.567547e+08  3.158482e+07  8.531004e+07  4.018142e+08  6.26  \n",
       "17  2.772702e+08  3.410813e+07  8.954276e+07  4.214979e+08  6.28  \n",
       "18  2.982271e+08  3.566618e+07  9.817950e+07  4.400294e+08  7.04  \n",
       "19  3.232639e+08  3.935594e+07  9.733994e+07  4.663770e+08  7.10  \n",
       "20           NaN           NaN           NaN           NaN   NaN  "
      ]
     },
     "execution_count": 36,
     "metadata": {},
     "output_type": "execute_result"
    }
   ],
   "source": [
    "principal"
   ]
  },
  {
   "cell_type": "code",
   "execution_count": 22,
   "metadata": {},
   "outputs": [],
   "source": [
    "Y= principal[\"Passageiros\"].copy()\n",
    "X= principal.drop([\"Passageiros\",\"Ano\",\"MA\",\"TO\",\"SC\",\"inflaçao\",\"Unnamed: 0\"],axis=1).copy()\n"
   ]
  },
  {
   "cell_type": "code",
   "execution_count": 23,
   "metadata": {},
   "outputs": [],
   "source": [
    "X_train, X_test, y_train, y_test = train_test_split(X, Y, test_size=0.25, random_state=42)"
   ]
  },
  {
   "cell_type": "code",
   "execution_count": 24,
   "metadata": {},
   "outputs": [
    {
     "name": "stdout",
     "output_type": "stream",
     "text": [
      "[3722284.5089955  5552559.10480749 5504497.71315369 3190627.163538\n",
      " 6186660.30779689 4509429.44482272]\n",
      "0     2981167\n",
      "17    6580928\n",
      "15    7511752\n",
      "1     3198439\n",
      "8     4927837\n",
      "5     4105119\n",
      "Name: Passageiros, dtype: int64\n",
      "[3795769.75  5398409.247 5539421.276 3757252.961 7205522.405 3872645.476]\n",
      "0     2981167\n",
      "17    6580928\n",
      "15    7511752\n",
      "1     3198439\n",
      "8     4927837\n",
      "5     4105119\n",
      "Name: Passageiros, dtype: int64\n",
      "1109356.540194691\n",
      "1384809.5243786\n",
      "0.3173474721524884\n",
      "0.561911437143676\n"
     ]
    }
   ],
   "source": [
    "reg= LinearRegression()\n",
    "reg.fit(X_train, y_train)\n",
    "YpredL= reg.predict(X_test)\n",
    "print(YpredL)\n",
    "print(y_test)\n",
    "regForest= RandomForestRegressor(n_estimators=1000,random_state=42)\n",
    "regForest.fit(X_train,y_train)\n",
    "YpredF= regForest.predict(X_test)\n",
    "print(YpredF)\n",
    "print(y_test)\n",
    "ML=mean_squared_error(y_test,YpredL)\n",
    "ML=ML**0.5\n",
    "print(ML)\n",
    "MF=mean_squared_error(y_test,YpredF)\n",
    "MF=MF**0.5\n",
    "print(MF)\n",
    "print(r2_score(y_test,YpredF))\n",
    "print(r2_score(y_test,YpredL))"
   ]
  },
  {
   "cell_type": "code",
   "execution_count": 25,
   "metadata": {},
   "outputs": [
    {
     "data": {
      "text/plain": [
       "LinearRegression()"
      ]
     },
     "execution_count": 25,
     "metadata": {},
     "output_type": "execute_result"
    }
   ],
   "source": [
    "reg.fit(X_train, y_train)"
   ]
  },
  {
   "cell_type": "code",
   "execution_count": 26,
   "metadata": {},
   "outputs": [],
   "source": [
    "YpredL= reg.predict(X_test)"
   ]
  },
  {
   "cell_type": "code",
   "execution_count": 27,
   "metadata": {},
   "outputs": [
    {
     "name": "stdout",
     "output_type": "stream",
     "text": [
      "[3722284.5089955  5552559.10480749 5504497.71315369 3190627.163538\n",
      " 6186660.30779689 4509429.44482272]\n",
      "0     2981167\n",
      "17    6580928\n",
      "15    7511752\n",
      "1     3198439\n",
      "8     4927837\n",
      "5     4105119\n",
      "Name: Passageiros, dtype: int64\n"
     ]
    }
   ],
   "source": [
    "print(YpredL)\n",
    "print(y_test)"
   ]
  },
  {
   "cell_type": "code",
   "execution_count": 28,
   "metadata": {},
   "outputs": [
    {
     "name": "stdout",
     "output_type": "stream",
     "text": [
      "[3795769.75  5398409.247 5539421.276 3757252.961 7205522.405 3872645.476]\n"
     ]
    }
   ],
   "source": [
    "regForest= RandomForestRegressor(n_estimators=1000,random_state=42)\n",
    "regForest.fit(X_train,y_train)\n",
    "YpredF= regForest.predict(X_test)\n",
    "print(YpredF)"
   ]
  },
  {
   "cell_type": "code",
   "execution_count": 29,
   "metadata": {
    "scrolled": true
   },
   "outputs": [
    {
     "name": "stdout",
     "output_type": "stream",
     "text": [
      "[3795769.75  5398409.247 5539421.276 3757252.961 7205522.405 3872645.476]\n",
      "0     2981167\n",
      "17    6580928\n",
      "15    7511752\n",
      "1     3198439\n",
      "8     4927837\n",
      "5     4105119\n",
      "Name: Passageiros, dtype: int64\n"
     ]
    }
   ],
   "source": [
    "print(YpredF)\n",
    "print(y_test)"
   ]
  },
  {
   "cell_type": "code",
   "execution_count": 30,
   "metadata": {},
   "outputs": [
    {
     "data": {
      "text/plain": [
       "1109356.540194691"
      ]
     },
     "execution_count": 30,
     "metadata": {},
     "output_type": "execute_result"
    }
   ],
   "source": [
    "ML=mean_squared_error(y_test,YpredL)\n",
    "ML=ML**0.5\n",
    "ML"
   ]
  },
  {
   "cell_type": "code",
   "execution_count": 31,
   "metadata": {},
   "outputs": [
    {
     "data": {
      "text/plain": [
       "1384809.5243786"
      ]
     },
     "execution_count": 31,
     "metadata": {},
     "output_type": "execute_result"
    }
   ],
   "source": [
    "MF=mean_squared_error(y_test,YpredF)\n",
    "MF=MF**0.5\n",
    "MF"
   ]
  },
  {
   "cell_type": "code",
   "execution_count": 32,
   "metadata": {},
   "outputs": [
    {
     "data": {
      "text/plain": [
       "0.3173474721524884"
      ]
     },
     "execution_count": 32,
     "metadata": {},
     "output_type": "execute_result"
    }
   ],
   "source": [
    "r2_score(y_test,YpredF)"
   ]
  },
  {
   "cell_type": "code",
   "execution_count": 33,
   "metadata": {},
   "outputs": [
    {
     "data": {
      "text/plain": [
       "0.561911437143676"
      ]
     },
     "execution_count": 33,
     "metadata": {},
     "output_type": "execute_result"
    }
   ],
   "source": [
    "r2_score(y_test,YpredL)"
   ]
  },
  {
   "cell_type": "markdown",
   "metadata": {},
   "source": [
    "# Curitiba nacional"
   ]
  },
  {
   "cell_type": "code",
   "execution_count": 105,
   "metadata": {},
   "outputs": [],
   "source": [
    "principal=(dados\n",
    " .join(oil.set_index('Ano'),on='Ano')\n",
    " .join(dolar.set_index('Ano'),on='Ano')\n",
    " .join(inflacao.set_index('Ano'),on='Ano')\n",
    " .join(pib.set_index('Ano'),on='Ano')\n",
    "          )\n",
    "\n",
    "Y= principal[\"Passageiros\"].copy()\n",
    "X= principal.drop([\"Passageiros\",\"Ano\",\"MA\",\"TO\",\"SC\",\"inflaçao\",\"Unnamed: 0\",\"Preço\",\"Valor do dólar\",\"PR\"],axis=1).copy()\n",
    "\n",
    "\n",
    "#X_train, X_test, y_train, y_test = train_test_split(X, Y, test_size=0.25, random_state=42)\n",
    "#reg.fit(X_train, y_train)\n",
    "#\n",
    "#YpredL= reg.predict(X_test)\n",
    "##print(YpredL)\n",
    "##print(y_test)\n",
    "#\n",
    "#regForest= RandomForestRegressor(n_estimators=1000,random_state=42)\n",
    "#regForest.fit(X_train,y_train)\n",
    "#YpredF= regForest.predict(X_test)\n",
    "#print(YpredF)\n",
    "#print(y_test)\n",
    "#\n",
    "#ML=mean_squared_error(y_test,YpredL)\n",
    "#ML=ML**0.5\n",
    "##print(ML)\n",
    "#\n",
    "#MF=mean_squared_error(y_test,YpredF)\n",
    "#MF=MF**0.5\n",
    "#print(MF)\n",
    "#\n",
    "#print(r2_score(y_test,YpredF))\n",
    "##print(r2_score(y_test,YpredL))\n",
    "#\n",
    "#\n",
    "#regForest.feature_importances_"
   ]
  },
  {
   "cell_type": "markdown",
   "metadata": {},
   "source": [
    "## Treinamento da base"
   ]
  },
  {
   "cell_type": "code",
   "execution_count": 106,
   "metadata": {},
   "outputs": [
    {
     "data": {
      "text/plain": [
       "LinearRegression()"
      ]
     },
     "execution_count": 106,
     "metadata": {},
     "output_type": "execute_result"
    }
   ],
   "source": [
    "X_train, X_test, y_train, y_test = train_test_split(X, Y, test_size=0.25, random_state=42)\n",
    "reg.fit(X_train, y_train)\n"
   ]
  },
  {
   "cell_type": "markdown",
   "metadata": {},
   "source": [
    "## Regressão Random Forrest"
   ]
  },
  {
   "cell_type": "code",
   "execution_count": 107,
   "metadata": {},
   "outputs": [
    {
     "name": "stdout",
     "output_type": "stream",
     "text": [
      "[3811694.917 5780752.074 7181400.962 3811694.917 6348975.869 3684299.205]\n",
      "0     2981167\n",
      "17    6580928\n",
      "15    7511752\n",
      "1     3198439\n",
      "8     4927837\n",
      "5     4105119\n",
      "Name: Passageiros, dtype: int64\n"
     ]
    }
   ],
   "source": [
    "regForest= RandomForestRegressor(n_estimators=1000,random_state=42)\n",
    "regForest.fit(X_train,y_train)\n",
    "YpredF= regForest.predict(X_test)\n",
    "print(YpredF)\n",
    "print(y_test)"
   ]
  },
  {
   "cell_type": "markdown",
   "metadata": {},
   "source": [
    "#### Grafico comparando o valor verdadeiro do predito regressão random Forest"
   ]
  },
  {
   "cell_type": "code",
   "execution_count": 108,
   "metadata": {},
   "outputs": [
    {
     "data": {
      "image/png": "[encoded data removed]",
      "text/plain": [
       "<Figure size 432x288 with 1 Axes>"
      ]
     },
     "metadata": {
      "needs_background": "light"
     },
     "output_type": "display_data"
    }
   ],
   "source": [
    "ano_lista= np.arange(1,7,1)\n",
    "\n",
    "\n",
    "plt.plot(ano_lista, YpredF,'--r', label='Predito')\n",
    "plt.plot(ano_lista, y_test, label = 'Verdadeiro' )\n",
    "plt.legend()\n",
    "plt.show()"
   ]
  },
  {
   "cell_type": "markdown",
   "metadata": {},
   "source": [
    "#### O Rmse da regressão random Forest"
   ]
  },
  {
   "cell_type": "code",
   "execution_count": 109,
   "metadata": {},
   "outputs": [
    {
     "data": {
      "text/plain": [
       "817720.1789483516"
      ]
     },
     "execution_count": 109,
     "metadata": {},
     "output_type": "execute_result"
    }
   ],
   "source": [
    "MF=mean_squared_error(y_test,YpredF)\n",
    "MF**0.5\n"
   ]
  },
  {
   "cell_type": "markdown",
   "metadata": {},
   "source": [
    "#### O R² da regressão random Forest"
   ]
  },
  {
   "cell_type": "code",
   "execution_count": 110,
   "metadata": {},
   "outputs": [
    {
     "data": {
      "text/plain": [
       "0.7619714510741759"
      ]
     },
     "execution_count": 110,
     "metadata": {},
     "output_type": "execute_result"
    }
   ],
   "source": [
    "r2_score(y_test,YpredF)"
   ]
  },
  {
   "cell_type": "markdown",
   "metadata": {},
   "source": [
    "#### Causalidade do indicadores macros selecionados"
   ]
  },
  {
   "cell_type": "code",
   "execution_count": 112,
   "metadata": {},
   "outputs": [
    {
     "name": "stdout",
     "output_type": "stream",
     "text": [
      "Causalidade da inflação: 0.25727261103672616\n",
      "Causalidade do PIB do Brasil: 0.7427273889632738\n"
     ]
    }
   ],
   "source": [
    "print(\"Causalidade da inflação:\", regForest.feature_importances_[0])\n",
    "print(\"Causalidade do PIB do Brasil:\", regForest.feature_importances_[1])"
   ]
  },
  {
   "cell_type": "markdown",
   "metadata": {},
   "source": [
    "#### Correlação dos indicadores macros"
   ]
  },
  {
   "cell_type": "code",
   "execution_count": 113,
   "metadata": {},
   "outputs": [
    {
     "data": {
      "text/html": [
       "<div>\n",
       "<style scoped>\n",
       "    .dataframe tbody tr th:only-of-type {\n",
       "        vertical-align: middle;\n",
       "    }\n",
       "\n",
       "    .dataframe tbody tr th {\n",
       "        vertical-align: top;\n",
       "    }\n",
       "\n",
       "    .dataframe thead th {\n",
       "        text-align: right;\n",
       "    }\n",
       "</style>\n",
       "<table border=\"1\" class=\"dataframe\">\n",
       "  <thead>\n",
       "    <tr style=\"text-align: right;\">\n",
       "      <th></th>\n",
       "      <th>Passageiros</th>\n",
       "      <th>Preço</th>\n",
       "      <th>Valor do dólar</th>\n",
       "      <th>inflacao</th>\n",
       "      <th>PR</th>\n",
       "      <th>BR</th>\n",
       "    </tr>\n",
       "  </thead>\n",
       "  <tbody>\n",
       "    <tr>\n",
       "      <td>Passageiros</td>\n",
       "      <td>1.000000</td>\n",
       "      <td>0.757172</td>\n",
       "      <td>0.089808</td>\n",
       "      <td>-0.283610</td>\n",
       "      <td>0.781900</td>\n",
       "      <td>0.824341</td>\n",
       "    </tr>\n",
       "    <tr>\n",
       "      <td>Preço</td>\n",
       "      <td>0.757172</td>\n",
       "      <td>1.000000</td>\n",
       "      <td>-0.336762</td>\n",
       "      <td>-0.422720</td>\n",
       "      <td>0.408749</td>\n",
       "      <td>0.471584</td>\n",
       "    </tr>\n",
       "    <tr>\n",
       "      <td>Valor do dólar</td>\n",
       "      <td>0.089808</td>\n",
       "      <td>-0.336762</td>\n",
       "      <td>1.000000</td>\n",
       "      <td>0.166638</td>\n",
       "      <td>0.542930</td>\n",
       "      <td>0.501245</td>\n",
       "    </tr>\n",
       "    <tr>\n",
       "      <td>inflacao</td>\n",
       "      <td>-0.283610</td>\n",
       "      <td>-0.422720</td>\n",
       "      <td>0.166638</td>\n",
       "      <td>1.000000</td>\n",
       "      <td>-0.323134</td>\n",
       "      <td>-0.334441</td>\n",
       "    </tr>\n",
       "    <tr>\n",
       "      <td>PR</td>\n",
       "      <td>0.781900</td>\n",
       "      <td>0.408749</td>\n",
       "      <td>0.542930</td>\n",
       "      <td>-0.323134</td>\n",
       "      <td>1.000000</td>\n",
       "      <td>0.995547</td>\n",
       "    </tr>\n",
       "    <tr>\n",
       "      <td>BR</td>\n",
       "      <td>0.824341</td>\n",
       "      <td>0.471584</td>\n",
       "      <td>0.501245</td>\n",
       "      <td>-0.334441</td>\n",
       "      <td>0.995547</td>\n",
       "      <td>1.000000</td>\n",
       "    </tr>\n",
       "  </tbody>\n",
       "</table>\n",
       "</div>"
      ],
      "text/plain": [
       "                Passageiros     Preço  Valor do dólar  inflacao        PR  \\\n",
       "Passageiros        1.000000  0.757172        0.089808 -0.283610  0.781900   \n",
       "Preço              0.757172  1.000000       -0.336762 -0.422720  0.408749   \n",
       "Valor do dólar     0.089808 -0.336762        1.000000  0.166638  0.542930   \n",
       "inflacao          -0.283610 -0.422720        0.166638  1.000000 -0.323134   \n",
       "PR                 0.781900  0.408749        0.542930 -0.323134  1.000000   \n",
       "BR                 0.824341  0.471584        0.501245 -0.334441  0.995547   \n",
       "\n",
       "                      BR  \n",
       "Passageiros     0.824341  \n",
       "Preço           0.471584  \n",
       "Valor do dólar  0.501245  \n",
       "inflacao       -0.334441  \n",
       "PR              0.995547  \n",
       "BR              1.000000  "
      ]
     },
     "execution_count": 113,
     "metadata": {},
     "output_type": "execute_result"
    }
   ],
   "source": [
    "loc= principal.loc[principal[\"Ano\"]<2020]\n",
    "loc.drop([\"Ano\",\"MA\",\"TO\",\"SC\",\"inflaçao\",\"Unnamed: 0\"],axis=1).corr()\n"
   ]
  },
  {
   "cell_type": "markdown",
   "metadata": {},
   "source": [
    "\n",
    "\n",
    "\n",
    "\n",
    "\n",
    "\n",
    "____________\n"
   ]
  },
  {
   "cell_type": "markdown",
   "metadata": {},
   "source": [
    "## Curitiba internacional"
   ]
  },
  {
   "cell_type": "code",
   "execution_count": 51,
   "metadata": {},
   "outputs": [],
   "source": [
    "##Junção dos dados\n",
    "#principal=(dados9\n",
    "# .join(oil.set_index('Ano'),on='Ano')\n",
    "# .join(dolar.set_index('Ano'),on='Ano')\n",
    "# .join(inflacao.set_index('Ano'),on='Ano')\n",
    "# .join(pib.set_index('Ano'),on='Ano')\n",
    "#          )\n",
    "#\n",
    "#Y= principal[\"Passageiros\"].copy()\n",
    "#X= principal.drop([\"Passageiros\",\"Ano\",\"MA\",\"TO\",\"SC\",\"inflaçao\",\"Unnamed: 0\",\"PR\",\"Preço\", \"Valor do dólar\",\"BR\"],axis=1).copy()\n",
    "#X_train, X_test, y_train, y_test = train_test_split(X, Y, test_size=0.25, random_state=42)\n",
    "#reg.fit(X_train, y_train)\n",
    "#YpredL= reg.predict(X_test)\n",
    "#print(YpredL)\n",
    "#print(y_test)\n",
    "#regForest= RandomForestRegressor(n_estimators=1000,random_state=42)\n",
    "#regForest.fit(X_train,y_train)\n",
    "#YpredF= regForest.predict(X_test)\n",
    "#print(YpredF)\n",
    "#print(y_test)\n",
    "#ML=mean_squared_error(y_test,YpredL)\n",
    "#ML=ML**0.5\n",
    "#print(ML)\n",
    "#MF=mean_squared_error(y_test,YpredF)\n",
    "#MF=MF**0.5\n",
    "#print(MF)\n",
    "#print(r2_score(y_test,YpredF))\n",
    "#print(r2_score(y_test,YpredL))\n",
    "#"
   ]
  },
  {
   "cell_type": "code",
   "execution_count": 52,
   "metadata": {},
   "outputs": [],
   "source": [
    "#principal.drop([\"Ano\",\"MA\",\"TO\",\"SC\",\"inflaçao\",\"Unnamed: 0\"],axis=1).corr()"
   ]
  },
  {
   "cell_type": "code",
   "execution_count": null,
   "metadata": {},
   "outputs": [],
   "source": []
  },
  {
   "cell_type": "markdown",
   "metadata": {},
   "source": [
    "## Foz nacional"
   ]
  },
  {
   "cell_type": "code",
   "execution_count": 74,
   "metadata": {},
   "outputs": [
    {
     "name": "stdout",
     "output_type": "stream",
     "text": [
      "[ 607252.788 1851108.717 1871018.273  583293.904  782143.665  638117.417]\n",
      "0      456034\n",
      "17    2045897\n",
      "15    1937928\n",
      "1      411660\n",
      "8      734807\n",
      "5      791705\n",
      "Name: Passageiros, dtype: int64\n",
      "141759.5447185579\n",
      "0.955434321745543\n"
     ]
    },
    {
     "data": {
      "text/plain": [
       "array([0.12903689, 0.10733116, 0.76363195])"
      ]
     },
     "execution_count": 74,
     "metadata": {},
     "output_type": "execute_result"
    }
   ],
   "source": [
    "#Junção dos dados\n",
    "principal=(dados2\n",
    " .join(oil.set_index('Ano'),on='Ano')\n",
    " .join(dolar.set_index('Ano'),on='Ano')\n",
    " .join(inflacao.set_index('Ano'),on='Ano')\n",
    " .join(pib.set_index('Ano'),on='Ano')\n",
    "          )\n",
    "\n",
    "Y= principal[\"Passageiros\"].copy()\n",
    "X= principal.drop([\"Passageiros\",\"Ano\",\"MA\",\"TO\",\"SC\",\"inflaçao\",\"Unnamed: 0\",\"Preço\",\"BR\"],axis=1).copy()\n",
    "X_train, X_test, y_train, y_test = train_test_split(X, Y, test_size=0.25, random_state=42)\n",
    "reg.fit(X_train, y_train)\n",
    "YpredL= reg.predict(X_test)\n",
    "#print(YpredL)\n",
    "#print(y_test)\n",
    "regForest= RandomForestRegressor(n_estimators=1000,random_state=42)\n",
    "regForest.fit(X_train,y_train)\n",
    "YpredF= regForest.predict(X_test)\n",
    "print(YpredF)\n",
    "print(y_test)\n",
    "ML=mean_squared_error(y_test,YpredL)\n",
    "ML=ML**0.5\n",
    "#print(ML)\n",
    "MF=mean_squared_error(y_test,YpredF)\n",
    "MF=MF**0.5\n",
    "print(MF)\n",
    "print(r2_score(y_test,YpredF))\n",
    "#print(r2_score(y_test,YpredL))\n",
    "\n",
    "regForest.feature_importances_"
   ]
  },
  {
   "cell_type": "code",
   "execution_count": 54,
   "metadata": {},
   "outputs": [
    {
     "data": {
      "text/html": [
       "<div>\n",
       "<style scoped>\n",
       "    .dataframe tbody tr th:only-of-type {\n",
       "        vertical-align: middle;\n",
       "    }\n",
       "\n",
       "    .dataframe tbody tr th {\n",
       "        vertical-align: top;\n",
       "    }\n",
       "\n",
       "    .dataframe thead th {\n",
       "        text-align: right;\n",
       "    }\n",
       "</style>\n",
       "<table border=\"1\" class=\"dataframe\">\n",
       "  <thead>\n",
       "    <tr style=\"text-align: right;\">\n",
       "      <th></th>\n",
       "      <th>Passageiros</th>\n",
       "      <th>Preço</th>\n",
       "      <th>Valor do dólar</th>\n",
       "      <th>inflacao</th>\n",
       "      <th>PR</th>\n",
       "      <th>BR</th>\n",
       "    </tr>\n",
       "  </thead>\n",
       "  <tbody>\n",
       "    <tr>\n",
       "      <td>Passageiros</td>\n",
       "      <td>1.000000</td>\n",
       "      <td>0.488935</td>\n",
       "      <td>0.314683</td>\n",
       "      <td>-0.279686</td>\n",
       "      <td>0.855958</td>\n",
       "      <td>0.858085</td>\n",
       "    </tr>\n",
       "    <tr>\n",
       "      <td>Preço</td>\n",
       "      <td>0.488935</td>\n",
       "      <td>1.000000</td>\n",
       "      <td>-0.363982</td>\n",
       "      <td>-0.360308</td>\n",
       "      <td>0.319247</td>\n",
       "      <td>0.376357</td>\n",
       "    </tr>\n",
       "    <tr>\n",
       "      <td>Valor do dólar</td>\n",
       "      <td>0.314683</td>\n",
       "      <td>-0.363982</td>\n",
       "      <td>1.000000</td>\n",
       "      <td>-0.023018</td>\n",
       "      <td>0.620008</td>\n",
       "      <td>0.589481</td>\n",
       "    </tr>\n",
       "    <tr>\n",
       "      <td>inflacao</td>\n",
       "      <td>-0.279686</td>\n",
       "      <td>-0.360308</td>\n",
       "      <td>-0.023018</td>\n",
       "      <td>1.000000</td>\n",
       "      <td>-0.384746</td>\n",
       "      <td>-0.395276</td>\n",
       "    </tr>\n",
       "    <tr>\n",
       "      <td>PR</td>\n",
       "      <td>0.855958</td>\n",
       "      <td>0.319247</td>\n",
       "      <td>0.620008</td>\n",
       "      <td>-0.384746</td>\n",
       "      <td>1.000000</td>\n",
       "      <td>0.996113</td>\n",
       "    </tr>\n",
       "    <tr>\n",
       "      <td>BR</td>\n",
       "      <td>0.858085</td>\n",
       "      <td>0.376357</td>\n",
       "      <td>0.589481</td>\n",
       "      <td>-0.395276</td>\n",
       "      <td>0.996113</td>\n",
       "      <td>1.000000</td>\n",
       "    </tr>\n",
       "  </tbody>\n",
       "</table>\n",
       "</div>"
      ],
      "text/plain": [
       "                Passageiros     Preço  Valor do dólar  inflacao        PR  \\\n",
       "Passageiros        1.000000  0.488935        0.314683 -0.279686  0.855958   \n",
       "Preço              0.488935  1.000000       -0.363982 -0.360308  0.319247   \n",
       "Valor do dólar     0.314683 -0.363982        1.000000 -0.023018  0.620008   \n",
       "inflacao          -0.279686 -0.360308       -0.023018  1.000000 -0.384746   \n",
       "PR                 0.855958  0.319247        0.620008 -0.384746  1.000000   \n",
       "BR                 0.858085  0.376357        0.589481 -0.395276  0.996113   \n",
       "\n",
       "                      BR  \n",
       "Passageiros     0.858085  \n",
       "Preço           0.376357  \n",
       "Valor do dólar  0.589481  \n",
       "inflacao       -0.395276  \n",
       "PR              0.996113  \n",
       "BR              1.000000  "
      ]
     },
     "execution_count": 54,
     "metadata": {},
     "output_type": "execute_result"
    }
   ],
   "source": [
    "principal.drop([\"Ano\",\"MA\",\"TO\",\"SC\",\"inflaçao\",\"Unnamed: 0\"],axis=1).corr()"
   ]
  },
  {
   "cell_type": "markdown",
   "metadata": {},
   "source": [
    "## Foz internacional"
   ]
  },
  {
   "cell_type": "code",
   "execution_count": 62,
   "metadata": {},
   "outputs": [
    {
     "name": "stdout",
     "output_type": "stream",
     "text": [
      "[ 7237.001 78828.932 62794.255  8836.736 17496.714 13671.47 ]\n",
      "0      2942\n",
      "17    63667\n",
      "15    72702\n",
      "1       509\n",
      "8      1069\n",
      "5     28150\n",
      "Name: Passageiros, dtype: int64\n",
      "12215.723690255672\n",
      "0.8335540263344523\n"
     ]
    },
    {
     "data": {
      "text/plain": [
       "array([0.13046236, 0.05411375, 0.13015431, 0.68526959])"
      ]
     },
     "execution_count": 62,
     "metadata": {},
     "output_type": "execute_result"
    }
   ],
   "source": [
    "#Junção dos dados\n",
    "principal=(dados1\n",
    " .join(oil.set_index('Ano'),on='Ano')\n",
    " .join(dolar.set_index('Ano'),on='Ano')\n",
    " .join(inflacao.set_index('Ano'),on='Ano')\n",
    " .join(pib.set_index('Ano'),on='Ano')\n",
    "          )\n",
    "\n",
    "Y= principal[\"Passageiros\"].copy()\n",
    "X= principal.drop([\"Passageiros\",\"Ano\",\"MA\",\"TO\",\"SC\",\"inflaçao\",\"Unnamed: 0\",\"PR\"],axis=1).copy()\n",
    "X_train, X_test, y_train, y_test = train_test_split(X, Y, test_size=0.25, random_state=42)\n",
    "reg.fit(X_train, y_train)\n",
    "YpredL= reg.predict(X_test)\n",
    "#print(YpredL)\n",
    "#print(y_test)\n",
    "regForest= RandomForestRegressor(n_estimators=1000,random_state=42)\n",
    "regForest.fit(X_train,y_train)\n",
    "YpredF= regForest.predict(X_test)\n",
    "print(YpredF)\n",
    "print(y_test)\n",
    "ML=mean_squared_error(y_test,YpredL)\n",
    "ML=ML**0.5\n",
    "#print(ML)\n",
    "MF=mean_squared_error(y_test,YpredF)\n",
    "MF=MF**0.5\n",
    "print(MF)\n",
    "\n",
    "print(r2_score(y_test,YpredF))\n",
    "#print(r2_score(y_test,YpredL))\n",
    "\n",
    "regForest.feature_importances_"
   ]
  },
  {
   "cell_type": "code",
   "execution_count": 63,
   "metadata": {},
   "outputs": [
    {
     "data": {
      "text/html": [
       "<div>\n",
       "<style scoped>\n",
       "    .dataframe tbody tr th:only-of-type {\n",
       "        vertical-align: middle;\n",
       "    }\n",
       "\n",
       "    .dataframe tbody tr th {\n",
       "        vertical-align: top;\n",
       "    }\n",
       "\n",
       "    .dataframe thead th {\n",
       "        text-align: right;\n",
       "    }\n",
       "</style>\n",
       "<table border=\"1\" class=\"dataframe\">\n",
       "  <thead>\n",
       "    <tr style=\"text-align: right;\">\n",
       "      <th></th>\n",
       "      <th>Passageiros</th>\n",
       "      <th>Preço</th>\n",
       "      <th>Valor do dólar</th>\n",
       "      <th>inflacao</th>\n",
       "      <th>PR</th>\n",
       "      <th>BR</th>\n",
       "    </tr>\n",
       "  </thead>\n",
       "  <tbody>\n",
       "    <tr>\n",
       "      <td>Passageiros</td>\n",
       "      <td>1.000000</td>\n",
       "      <td>0.392320</td>\n",
       "      <td>0.406664</td>\n",
       "      <td>-0.210305</td>\n",
       "      <td>0.800775</td>\n",
       "      <td>0.805530</td>\n",
       "    </tr>\n",
       "    <tr>\n",
       "      <td>Preço</td>\n",
       "      <td>0.392320</td>\n",
       "      <td>1.000000</td>\n",
       "      <td>-0.363982</td>\n",
       "      <td>-0.360308</td>\n",
       "      <td>0.319247</td>\n",
       "      <td>0.376357</td>\n",
       "    </tr>\n",
       "    <tr>\n",
       "      <td>Valor do dólar</td>\n",
       "      <td>0.406664</td>\n",
       "      <td>-0.363982</td>\n",
       "      <td>1.000000</td>\n",
       "      <td>-0.023018</td>\n",
       "      <td>0.620008</td>\n",
       "      <td>0.589481</td>\n",
       "    </tr>\n",
       "    <tr>\n",
       "      <td>inflacao</td>\n",
       "      <td>-0.210305</td>\n",
       "      <td>-0.360308</td>\n",
       "      <td>-0.023018</td>\n",
       "      <td>1.000000</td>\n",
       "      <td>-0.384746</td>\n",
       "      <td>-0.395276</td>\n",
       "    </tr>\n",
       "    <tr>\n",
       "      <td>PR</td>\n",
       "      <td>0.800775</td>\n",
       "      <td>0.319247</td>\n",
       "      <td>0.620008</td>\n",
       "      <td>-0.384746</td>\n",
       "      <td>1.000000</td>\n",
       "      <td>0.996113</td>\n",
       "    </tr>\n",
       "    <tr>\n",
       "      <td>BR</td>\n",
       "      <td>0.805530</td>\n",
       "      <td>0.376357</td>\n",
       "      <td>0.589481</td>\n",
       "      <td>-0.395276</td>\n",
       "      <td>0.996113</td>\n",
       "      <td>1.000000</td>\n",
       "    </tr>\n",
       "  </tbody>\n",
       "</table>\n",
       "</div>"
      ],
      "text/plain": [
       "                Passageiros     Preço  Valor do dólar  inflacao        PR  \\\n",
       "Passageiros        1.000000  0.392320        0.406664 -0.210305  0.800775   \n",
       "Preço              0.392320  1.000000       -0.363982 -0.360308  0.319247   \n",
       "Valor do dólar     0.406664 -0.363982        1.000000 -0.023018  0.620008   \n",
       "inflacao          -0.210305 -0.360308       -0.023018  1.000000 -0.384746   \n",
       "PR                 0.800775  0.319247        0.620008 -0.384746  1.000000   \n",
       "BR                 0.805530  0.376357        0.589481 -0.395276  0.996113   \n",
       "\n",
       "                      BR  \n",
       "Passageiros     0.805530  \n",
       "Preço           0.376357  \n",
       "Valor do dólar  0.589481  \n",
       "inflacao       -0.395276  \n",
       "PR              0.996113  \n",
       "BR              1.000000  "
      ]
     },
     "execution_count": 63,
     "metadata": {},
     "output_type": "execute_result"
    }
   ],
   "source": [
    "principal.drop([\"Ano\",\"MA\",\"TO\",\"SC\",\"inflaçao\",\"Unnamed: 0\"],axis=1).corr()"
   ]
  },
  {
   "cell_type": "code",
   "execution_count": null,
   "metadata": {},
   "outputs": [],
   "source": []
  },
  {
   "cell_type": "markdown",
   "metadata": {},
   "source": [
    "## Navegantes nacional"
   ]
  },
  {
   "cell_type": "code",
   "execution_count": 68,
   "metadata": {},
   "outputs": [
    {
     "name": "stdout",
     "output_type": "stream",
     "text": [
      "[ 426397.831 1509521.26  1536137.401  423916.231  508871.512  413711.868]\n",
      "0      861385\n",
      "17    1541221\n",
      "15    1463783\n",
      "1      603000\n",
      "8      361877\n",
      "5      484669\n",
      "Name: Passageiros, dtype: int64\n",
      "205818.353374118\n",
      "0.8013720236878825\n"
     ]
    },
    {
     "data": {
      "text/plain": [
       "array([0.10008503, 0.07539234, 0.82452263])"
      ]
     },
     "execution_count": 68,
     "metadata": {},
     "output_type": "execute_result"
    }
   ],
   "source": [
    "#Junção dos dados\n",
    "principal=(dados4\n",
    " .join(oil.set_index('Ano'),on='Ano')\n",
    " .join(dolar.set_index('Ano'),on='Ano')\n",
    " .join(inflacao.set_index('Ano'),on='Ano')\n",
    " .join(pib.set_index('Ano'),on='Ano')\n",
    "          )\n",
    "\n",
    "Y= principal[\"Passageiros\"].copy()\n",
    "X= principal.drop([\"Passageiros\",\"Ano\",\"MA\",\"TO\",\"PR\",\"inflaçao\",\"Unnamed: 0\",\"Preço\",\"BR\"],axis=1).copy()\n",
    "X_train, X_test, y_train, y_test = train_test_split(X, Y, test_size=0.25, random_state=42)\n",
    "reg.fit(X_train, y_train)\n",
    "YpredL= reg.predict(X_test)\n",
    "#print(YpredL)\n",
    "#print(y_test)\n",
    "regForest= RandomForestRegressor(n_estimators=1000,random_state=42)\n",
    "regForest.fit(X_train,y_train)\n",
    "YpredF= regForest.predict(X_test)\n",
    "print(YpredF)\n",
    "print(y_test)\n",
    "ML=mean_squared_error(y_test,YpredL)\n",
    "ML=ML**0.5\n",
    "#print(ML)\n",
    "MF=mean_squared_error(y_test,YpredF)\n",
    "MF=MF**0.5\n",
    "print(MF)\n",
    "print(r2_score(y_test,YpredF))\n",
    "#print(r2_score(y_test,YpredL))\n",
    "\n",
    "\n",
    "regForest.feature_importances_"
   ]
  },
  {
   "cell_type": "code",
   "execution_count": 65,
   "metadata": {},
   "outputs": [
    {
     "data": {
      "text/html": [
       "<div>\n",
       "<style scoped>\n",
       "    .dataframe tbody tr th:only-of-type {\n",
       "        vertical-align: middle;\n",
       "    }\n",
       "\n",
       "    .dataframe tbody tr th {\n",
       "        vertical-align: top;\n",
       "    }\n",
       "\n",
       "    .dataframe thead th {\n",
       "        text-align: right;\n",
       "    }\n",
       "</style>\n",
       "<table border=\"1\" class=\"dataframe\">\n",
       "  <thead>\n",
       "    <tr style=\"text-align: right;\">\n",
       "      <th></th>\n",
       "      <th>Passageiros</th>\n",
       "      <th>Preço</th>\n",
       "      <th>Valor do dólar</th>\n",
       "      <th>inflacao</th>\n",
       "      <th>SC</th>\n",
       "      <th>BR</th>\n",
       "    </tr>\n",
       "  </thead>\n",
       "  <tbody>\n",
       "    <tr>\n",
       "      <td>Passageiros</td>\n",
       "      <td>1.000000</td>\n",
       "      <td>0.325389</td>\n",
       "      <td>0.413502</td>\n",
       "      <td>-0.281194</td>\n",
       "      <td>0.858301</td>\n",
       "      <td>0.849528</td>\n",
       "    </tr>\n",
       "    <tr>\n",
       "      <td>Preço</td>\n",
       "      <td>0.325389</td>\n",
       "      <td>1.000000</td>\n",
       "      <td>-0.363982</td>\n",
       "      <td>-0.360308</td>\n",
       "      <td>0.330655</td>\n",
       "      <td>0.376357</td>\n",
       "    </tr>\n",
       "    <tr>\n",
       "      <td>Valor do dólar</td>\n",
       "      <td>0.413502</td>\n",
       "      <td>-0.363982</td>\n",
       "      <td>1.000000</td>\n",
       "      <td>-0.023018</td>\n",
       "      <td>0.620967</td>\n",
       "      <td>0.589481</td>\n",
       "    </tr>\n",
       "    <tr>\n",
       "      <td>inflacao</td>\n",
       "      <td>-0.281194</td>\n",
       "      <td>-0.360308</td>\n",
       "      <td>-0.023018</td>\n",
       "      <td>1.000000</td>\n",
       "      <td>-0.406677</td>\n",
       "      <td>-0.395276</td>\n",
       "    </tr>\n",
       "    <tr>\n",
       "      <td>SC</td>\n",
       "      <td>0.858301</td>\n",
       "      <td>0.330655</td>\n",
       "      <td>0.620967</td>\n",
       "      <td>-0.406677</td>\n",
       "      <td>1.000000</td>\n",
       "      <td>0.996296</td>\n",
       "    </tr>\n",
       "    <tr>\n",
       "      <td>BR</td>\n",
       "      <td>0.849528</td>\n",
       "      <td>0.376357</td>\n",
       "      <td>0.589481</td>\n",
       "      <td>-0.395276</td>\n",
       "      <td>0.996296</td>\n",
       "      <td>1.000000</td>\n",
       "    </tr>\n",
       "  </tbody>\n",
       "</table>\n",
       "</div>"
      ],
      "text/plain": [
       "                Passageiros     Preço  Valor do dólar  inflacao        SC  \\\n",
       "Passageiros        1.000000  0.325389        0.413502 -0.281194  0.858301   \n",
       "Preço              0.325389  1.000000       -0.363982 -0.360308  0.330655   \n",
       "Valor do dólar     0.413502 -0.363982        1.000000 -0.023018  0.620967   \n",
       "inflacao          -0.281194 -0.360308       -0.023018  1.000000 -0.406677   \n",
       "SC                 0.858301  0.330655        0.620967 -0.406677  1.000000   \n",
       "BR                 0.849528  0.376357        0.589481 -0.395276  0.996296   \n",
       "\n",
       "                      BR  \n",
       "Passageiros     0.849528  \n",
       "Preço           0.376357  \n",
       "Valor do dólar  0.589481  \n",
       "inflacao       -0.395276  \n",
       "SC              0.996296  \n",
       "BR              1.000000  "
      ]
     },
     "execution_count": 65,
     "metadata": {},
     "output_type": "execute_result"
    }
   ],
   "source": [
    "principal.drop([\"Ano\",\"MA\",\"TO\",\"PR\",\"inflaçao\",\"Unnamed: 0\"],axis=1).corr()"
   ]
  },
  {
   "cell_type": "markdown",
   "metadata": {},
   "source": [
    "## Palmas"
   ]
  },
  {
   "cell_type": "code",
   "execution_count": 80,
   "metadata": {},
   "outputs": [
    {
     "name": "stdout",
     "output_type": "stream",
     "text": [
      "[134789.438 616941.867 644141.118 117594.739 248312.794 162880.084]\n",
      "0     128941\n",
      "17    674712\n",
      "15    689519\n",
      "1     115362\n",
      "8     236840\n",
      "5     192132\n",
      "Name: Passageiros, dtype: int64\n",
      "32718.571138226354\n",
      "0.98224258371248\n"
     ]
    },
    {
     "data": {
      "text/plain": [
       "array([0.12010965, 0.10474608, 0.77514427])"
      ]
     },
     "execution_count": 80,
     "metadata": {},
     "output_type": "execute_result"
    }
   ],
   "source": [
    "#Junção dos dados\n",
    "principal=(dados5\n",
    " .join(oil.set_index('Ano'),on='Ano')\n",
    " .join(dolar.set_index('Ano'),on='Ano')\n",
    " .join(inflacao.set_index('Ano'),on='Ano')\n",
    " .join(pib.set_index('Ano'),on='Ano')\n",
    "          )\n",
    "\n",
    "Y= principal[\"Passageiros\"].copy()\n",
    "X= principal.drop([\"Passageiros\",\"Ano\",\"MA\",\"SC\",\"PR\",\"inflaçao\",\"Unnamed: 0\",\"Preço\",\"BR\"],axis=1).copy()\n",
    "\n",
    "X_train, X_test, y_train, y_test = train_test_split(X, Y, test_size=0.25, random_state=42)\n",
    "reg.fit(X_train, y_train)\n",
    "\n",
    "YpredL= reg.predict(X_test)\n",
    "#print(YpredL)\n",
    "#print(y_test)\n",
    "regForest= RandomForestRegressor(n_estimators=1000,random_state=42)\n",
    "regForest.fit(X_train,y_train)\n",
    "YpredF= regForest.predict(X_test)\n",
    "print(YpredF)\n",
    "print(y_test)\n",
    "ML=mean_squared_error(y_test,YpredL)\n",
    "ML=ML**0.5\n",
    "#print(ML)\n",
    "MF=mean_squared_error(y_test,YpredF)\n",
    "MF=MF**0.5\n",
    "print(MF)\n",
    "print(r2_score(y_test,YpredF))\n",
    "#print(r2_score(y_test,YpredL))\n",
    "\n",
    "\n",
    "regForest.feature_importances_"
   ]
  },
  {
   "cell_type": "code",
   "execution_count": 70,
   "metadata": {},
   "outputs": [
    {
     "data": {
      "text/html": [
       "<div>\n",
       "<style scoped>\n",
       "    .dataframe tbody tr th:only-of-type {\n",
       "        vertical-align: middle;\n",
       "    }\n",
       "\n",
       "    .dataframe tbody tr th {\n",
       "        vertical-align: top;\n",
       "    }\n",
       "\n",
       "    .dataframe thead th {\n",
       "        text-align: right;\n",
       "    }\n",
       "</style>\n",
       "<table border=\"1\" class=\"dataframe\">\n",
       "  <thead>\n",
       "    <tr style=\"text-align: right;\">\n",
       "      <th></th>\n",
       "      <th>Passageiros</th>\n",
       "      <th>Preço</th>\n",
       "      <th>Valor do dólar</th>\n",
       "      <th>inflacao</th>\n",
       "      <th>TO</th>\n",
       "      <th>BR</th>\n",
       "    </tr>\n",
       "  </thead>\n",
       "  <tbody>\n",
       "    <tr>\n",
       "      <td>Passageiros</td>\n",
       "      <td>1.000000</td>\n",
       "      <td>0.554202</td>\n",
       "      <td>0.228014</td>\n",
       "      <td>-0.301043</td>\n",
       "      <td>0.809510</td>\n",
       "      <td>0.852452</td>\n",
       "    </tr>\n",
       "    <tr>\n",
       "      <td>Preço</td>\n",
       "      <td>0.554202</td>\n",
       "      <td>1.000000</td>\n",
       "      <td>-0.363982</td>\n",
       "      <td>-0.360308</td>\n",
       "      <td>0.261973</td>\n",
       "      <td>0.376357</td>\n",
       "    </tr>\n",
       "    <tr>\n",
       "      <td>Valor do dólar</td>\n",
       "      <td>0.228014</td>\n",
       "      <td>-0.363982</td>\n",
       "      <td>1.000000</td>\n",
       "      <td>-0.023018</td>\n",
       "      <td>0.659473</td>\n",
       "      <td>0.589481</td>\n",
       "    </tr>\n",
       "    <tr>\n",
       "      <td>inflacao</td>\n",
       "      <td>-0.301043</td>\n",
       "      <td>-0.360308</td>\n",
       "      <td>-0.023018</td>\n",
       "      <td>1.000000</td>\n",
       "      <td>-0.390355</td>\n",
       "      <td>-0.395276</td>\n",
       "    </tr>\n",
       "    <tr>\n",
       "      <td>TO</td>\n",
       "      <td>0.809510</td>\n",
       "      <td>0.261973</td>\n",
       "      <td>0.659473</td>\n",
       "      <td>-0.390355</td>\n",
       "      <td>1.000000</td>\n",
       "      <td>0.989058</td>\n",
       "    </tr>\n",
       "    <tr>\n",
       "      <td>BR</td>\n",
       "      <td>0.852452</td>\n",
       "      <td>0.376357</td>\n",
       "      <td>0.589481</td>\n",
       "      <td>-0.395276</td>\n",
       "      <td>0.989058</td>\n",
       "      <td>1.000000</td>\n",
       "    </tr>\n",
       "  </tbody>\n",
       "</table>\n",
       "</div>"
      ],
      "text/plain": [
       "                Passageiros     Preço  Valor do dólar  inflacao        TO  \\\n",
       "Passageiros        1.000000  0.554202        0.228014 -0.301043  0.809510   \n",
       "Preço              0.554202  1.000000       -0.363982 -0.360308  0.261973   \n",
       "Valor do dólar     0.228014 -0.363982        1.000000 -0.023018  0.659473   \n",
       "inflacao          -0.301043 -0.360308       -0.023018  1.000000 -0.390355   \n",
       "TO                 0.809510  0.261973        0.659473 -0.390355  1.000000   \n",
       "BR                 0.852452  0.376357        0.589481 -0.395276  0.989058   \n",
       "\n",
       "                      BR  \n",
       "Passageiros     0.852452  \n",
       "Preço           0.376357  \n",
       "Valor do dólar  0.589481  \n",
       "inflacao       -0.395276  \n",
       "TO              0.989058  \n",
       "BR              1.000000  "
      ]
     },
     "execution_count": 70,
     "metadata": {},
     "output_type": "execute_result"
    }
   ],
   "source": [
    "principal.drop([\"Ano\",\"PR\",\"MA\",\"SC\",\"inflaçao\",\"Unnamed: 0\"],axis=1).corr()"
   ]
  },
  {
   "cell_type": "markdown",
   "metadata": {},
   "source": [
    "## São Luis"
   ]
  },
  {
   "cell_type": "code",
   "execution_count": 84,
   "metadata": {},
   "outputs": [
    {
     "name": "stdout",
     "output_type": "stream",
     "text": [
      "[ 608408.127 1879584.286 1952780.424  588953.572  765243.595  652285.115]\n",
      "0      458976\n",
      "17    2109564\n",
      "15    2010630\n",
      "1      412169\n",
      "8      735876\n",
      "5      819855\n",
      "Name: Passageiros, dtype: int64\n",
      "152075.69922403013\n",
      "0.9528515622254301\n"
     ]
    },
    {
     "data": {
      "text/plain": [
       "array([0.1080744 , 0.08878574, 0.80313986])"
      ]
     },
     "execution_count": 84,
     "metadata": {},
     "output_type": "execute_result"
    }
   ],
   "source": [
    "#Junção dos dados\n",
    "principal=(dados8\n",
    " .join(oil.set_index('Ano'),on='Ano')\n",
    " .join(dolar.set_index('Ano'),on='Ano')\n",
    " .join(inflacao.set_index('Ano'),on='Ano')\n",
    " .join(pib.set_index('Ano'),on='Ano')\n",
    "          )\n",
    "\n",
    "Y= principal[\"Passageiros\"].copy()\n",
    "X= principal.drop([\"Passageiros\",\"Ano\",\"SC\",\"TO\",\"PR\",\"inflaçao\",\"Unnamed: 0\",\"Preço\",'MA'],axis=1).copy()\n",
    "X_train, X_test, y_train, y_test = train_test_split(X, Y, test_size=0.25, random_state=42)\n",
    "reg.fit(X_train, y_train)\n",
    "YpredL= reg.predict(X_test)\n",
    "#print(YpredL)\n",
    "#print(y_test)\n",
    "regForest= RandomForestRegressor(n_estimators=1000,random_state=42)\n",
    "regForest.fit(X_train,y_train)\n",
    "YpredF= regForest.predict(X_test)\n",
    "print(YpredF)\n",
    "print(y_test)\n",
    "ML=mean_squared_error(y_test,YpredL)\n",
    "ML=ML**0.5\n",
    "#print(ML)\n",
    "MF=mean_squared_error(y_test,YpredF)\n",
    "MF=MF**0.5\n",
    "print(MF)\n",
    "print(r2_score(y_test,YpredF))\n",
    "#print(r2_score(y_test,YpredL))\n",
    "\n",
    "\n",
    "regForest.feature_importances_"
   ]
  },
  {
   "cell_type": "code",
   "execution_count": 85,
   "metadata": {},
   "outputs": [
    {
     "data": {
      "text/html": [
       "<div>\n",
       "<style scoped>\n",
       "    .dataframe tbody tr th:only-of-type {\n",
       "        vertical-align: middle;\n",
       "    }\n",
       "\n",
       "    .dataframe tbody tr th {\n",
       "        vertical-align: top;\n",
       "    }\n",
       "\n",
       "    .dataframe thead th {\n",
       "        text-align: right;\n",
       "    }\n",
       "</style>\n",
       "<table border=\"1\" class=\"dataframe\">\n",
       "  <thead>\n",
       "    <tr style=\"text-align: right;\">\n",
       "      <th></th>\n",
       "      <th>Passageiros</th>\n",
       "      <th>Preço</th>\n",
       "      <th>Valor do dólar</th>\n",
       "      <th>inflacao</th>\n",
       "      <th>MA</th>\n",
       "      <th>BR</th>\n",
       "    </tr>\n",
       "  </thead>\n",
       "  <tbody>\n",
       "    <tr>\n",
       "      <td>Passageiros</td>\n",
       "      <td>1.000000</td>\n",
       "      <td>0.485642</td>\n",
       "      <td>0.320673</td>\n",
       "      <td>-0.277060</td>\n",
       "      <td>0.864644</td>\n",
       "      <td>0.858461</td>\n",
       "    </tr>\n",
       "    <tr>\n",
       "      <td>Preço</td>\n",
       "      <td>0.485642</td>\n",
       "      <td>1.000000</td>\n",
       "      <td>-0.363982</td>\n",
       "      <td>-0.360308</td>\n",
       "      <td>0.328577</td>\n",
       "      <td>0.376357</td>\n",
       "    </tr>\n",
       "    <tr>\n",
       "      <td>Valor do dólar</td>\n",
       "      <td>0.320673</td>\n",
       "      <td>-0.363982</td>\n",
       "      <td>1.000000</td>\n",
       "      <td>-0.023018</td>\n",
       "      <td>0.610647</td>\n",
       "      <td>0.589481</td>\n",
       "    </tr>\n",
       "    <tr>\n",
       "      <td>inflacao</td>\n",
       "      <td>-0.277060</td>\n",
       "      <td>-0.360308</td>\n",
       "      <td>-0.023018</td>\n",
       "      <td>1.000000</td>\n",
       "      <td>-0.394317</td>\n",
       "      <td>-0.395276</td>\n",
       "    </tr>\n",
       "    <tr>\n",
       "      <td>MA</td>\n",
       "      <td>0.864644</td>\n",
       "      <td>0.328577</td>\n",
       "      <td>0.610647</td>\n",
       "      <td>-0.394317</td>\n",
       "      <td>1.000000</td>\n",
       "      <td>0.996144</td>\n",
       "    </tr>\n",
       "    <tr>\n",
       "      <td>BR</td>\n",
       "      <td>0.858461</td>\n",
       "      <td>0.376357</td>\n",
       "      <td>0.589481</td>\n",
       "      <td>-0.395276</td>\n",
       "      <td>0.996144</td>\n",
       "      <td>1.000000</td>\n",
       "    </tr>\n",
       "  </tbody>\n",
       "</table>\n",
       "</div>"
      ],
      "text/plain": [
       "                Passageiros     Preço  Valor do dólar  inflacao        MA  \\\n",
       "Passageiros        1.000000  0.485642        0.320673 -0.277060  0.864644   \n",
       "Preço              0.485642  1.000000       -0.363982 -0.360308  0.328577   \n",
       "Valor do dólar     0.320673 -0.363982        1.000000 -0.023018  0.610647   \n",
       "inflacao          -0.277060 -0.360308       -0.023018  1.000000 -0.394317   \n",
       "MA                 0.864644  0.328577        0.610647 -0.394317  1.000000   \n",
       "BR                 0.858461  0.376357        0.589481 -0.395276  0.996144   \n",
       "\n",
       "                      BR  \n",
       "Passageiros     0.858461  \n",
       "Preço           0.376357  \n",
       "Valor do dólar  0.589481  \n",
       "inflacao       -0.395276  \n",
       "MA              0.996144  \n",
       "BR              1.000000  "
      ]
     },
     "execution_count": 85,
     "metadata": {},
     "output_type": "execute_result"
    }
   ],
   "source": [
    "principal.drop([\"Ano\",\"PR\",\"TO\",\"SC\",\"inflaçao\",\"Unnamed: 0\"],axis=1).corr()"
   ]
  },
  {
   "cell_type": "markdown",
   "metadata": {},
   "source": [
    "## grid\n"
   ]
  },
  {
   "cell_type": "code",
   "execution_count": null,
   "metadata": {},
   "outputs": [],
   "source": []
  },
  {
   "cell_type": "code",
   "execution_count": null,
   "metadata": {},
   "outputs": [],
   "source": []
  },
  {
   "cell_type": "code",
   "execution_count": null,
   "metadata": {},
   "outputs": [],
   "source": []
  }
 ],
 "metadata": {
  "kernelspec": {
   "display_name": "Python 3",
   "language": "python",
   "name": "python3"
  },
  "language_info": {
   "codemirror_mode": {
    "name": "ipython",
    "version": 3
   },
   "file_extension": ".py",
   "mimetype": "text/x-python",
   "name": "python",
   "nbconvert_exporter": "python",
   "pygments_lexer": "ipython3",
   "version": "3.7.4"
  }
 },
 "nbformat": 4,
 "nbformat_minor": 4
}
